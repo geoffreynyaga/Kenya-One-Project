{
 "cells": [
  {
   "cell_type": "code",
   "execution_count": 2,
   "metadata": {
    "collapsed": true,
    "deletable": true,
    "editable": true
   },
   "outputs": [],
   "source": [
    "# KENYA ONE PROJECT #\n",
    "# Python code to solve for MTOW,other weights,design point plot,#\n",
    "# Cl calculations and Vn diagram.#\n",
    "        #-----------------------------------------------------------------#\n",
    "\t\t\t\t # done by Geoffrey Nyaga Kinyua \n",
    "        #-----------------------------------------------------------------#"
   ]
  },
  {
   "cell_type": "code",
   "execution_count": 54,
   "metadata": {
    "collapsed": true,
    "deletable": true,
    "editable": true
   },
   "outputs": [],
   "source": [
    "import numpy as np\n",
    "import matplotlib.pylab as plt\n",
    "import math"
   ]
  },
  {
   "cell_type": "code",
   "execution_count": 55,
   "metadata": {
    "collapsed": false,
    "deletable": true,
    "editable": true
   },
   "outputs": [
    {
     "name": "stdout",
     "output_type": "stream",
     "text": [
      "enter the value of range(in km)  1000\n",
      "enter the value of propeller efficiency(0.8-0.85)  0.8\n",
      "enter the value of aspect ratio (5-9)  7.8\n",
      "enter the number of passengers  4\n",
      "enter the number of pilots  2\n"
     ]
    }
   ],
   "source": [
    "R = float(input ('enter the value of range(in km)  ') )\n",
    "n = float(input ('enter the value of propeller efficiency(0.8-0.85)  ') )\n",
    "AR= float(input ('enter the value of aspect ratio (5-9)  ') )\n",
    "pax= int(input ('enter the number of passengers  ') )\n",
    "crew= int(input ('enter the number of pilots  '))"
   ]
  },
  {
   "cell_type": "code",
   "execution_count": 56,
   "metadata": {
    "collapsed": false,
    "deletable": true,
    "editable": true
   },
   "outputs": [
    {
     "name": "stdout",
     "output_type": "stream",
     "text": [
      "400.0\n",
      "920.0\n"
     ]
    }
   ],
   "source": [
    "Wc=float(crew)*200  #total crew weight\n",
    "Wpl=(float(pax)*180)+(float(pax)*50) #total payload\n",
    "print(Wc)\n",
    "print(Wpl)"
   ]
  },
  {
   "cell_type": "code",
   "execution_count": 57,
   "metadata": {
    "collapsed": false,
    "deletable": true,
    "editable": true
   },
   "outputs": [
    {
     "name": "stdout",
     "output_type": "stream",
     "text": [
      "0.134240933864\n"
     ]
    }
   ],
   "source": [
    "# breguet range equation \n",
    "a= -float(R)*2.52*3280.8399*10 **(-7)\n",
    "oswaldeff=1.78*(1-0.045*AR **0.68)-0.64 # e is oswalds span efficiency factor 0.7-0.95 #\n",
    "k=1/(np.pi*oswaldeff*AR) # k is the induced drag factor k=1/(pi*e*AR) #\n",
    "cdo=0.025  #zerolift drag coefficient\n",
    "ldmax1=2*np.sqrt(k*cdo) \n",
    "ldmax=ldmax1 **(-1) \n",
    "b=a/(n*ldmax) \n",
    "cfraction=np.exp(b)  # this is w4/w3 #\n",
    "d = 0.98*0.97*cfraction*0.99*0.997  # this will give W6/W1 #\n",
    "e=1.05*(1-d)   # Wf/Wto = 1.05(1 - W6/W1) #\n",
    "# f = A*(Wto **C)*Kvs    f is We/Wto  ......equation 1#\n",
    "# f = d - (Wpl+Wc)/Wto  ......... ....................equation 2 #\n",
    "print(e)"
   ]
  },
  {
   "cell_type": "code",
   "execution_count": 20,
   "metadata": {
    "collapsed": false,
    "deletable": true,
    "editable": true
   },
   "outputs": [
    {
     "name": "stdout",
     "output_type": "stream",
     "text": [
      " The value of MTOW is 4110 lbs\n",
      " The value of FUEL is 302.646678118 lbs\n",
      " The value of MTOW is 2687.35332188 lbs\n"
     ]
    }
   ],
   "source": [
    "Wto = np.arange(3000,7000,10 )\n",
    "#raymer empty weight constants\n",
    "A= 1.51 \n",
    "C= -0.10 \n",
    "Kvs=1 \n",
    "f= A*(Wto**C)*Kvs \n",
    "g= d-f \n",
    "wto1= g/(Wpl+Wc) \n",
    "wto_calculated = wto1 **(-1 )\n",
    "smallest_difference = wto_calculated - Wto  \n",
    "h=abs(smallest_difference) \n",
    "idx=np.argmin(h) \n",
    "#print(idx)\n",
    "j=(idx) \n",
    "k1=Wto[j] \n",
    "mtow=k1 \n",
    "Wf=mtow*e \n",
    "We=mtow-(Wf+Wc+Wpl) \n",
    "print(' The value of MTOW is ' + str(mtow) + ' lbs')\n",
    "print(' The value of FUEL is ' + str(Wf)+' lbs')\n",
    "print(' The value of MTOW is ' + str(We)+' lbs')"
   ]
  },
  {
   "cell_type": "code",
   "execution_count": 21,
   "metadata": {
    "collapsed": false,
    "deletable": true,
    "editable": true
   },
   "outputs": [],
   "source": []
  },
  {
   "cell_type": "code",
   "execution_count": 22,
   "metadata": {
    "collapsed": false,
    "deletable": true,
    "editable": true
   },
   "outputs": [
    {
     "name": "stdout",
     "output_type": "stream",
     "text": [
      "  EMPTY WEIGHT BREAKDOWN                        \n",
      "  A) FUSELAGE                         349.35   lb\n",
      "  B) WING                             369.9 lb\n",
      "   C) PROPULSION \n",
      "      a) engine dry weight 760.35 lb\n",
      "      b) nacelle           65.76  lb\n",
      "      c) engine control    82.2  lb\n",
      "  D) UNDERCARRIAGE                    205.5    lb\n",
      "  E) TAIL                   \n",
      "      a) horizontal tail      82.2   lb\n",
      "      b) verticall tail      65.76   lb\n",
      "  F) SYSTEMS  \n",
      "      a) fuel system       61.65   lb\n",
      "      b) oil system        12.33  lb\n",
      "      c) a.p.u             0      lb\n",
      "      d) flight contr. sys 61.65   lb\n",
      "      e) hyd & pneu sys    22.605  lb\n",
      "      f) electrical system 102.75  lb\n",
      "      g) instruments       32.88  lb\n",
      "      h) avionics          82.2   lb\n",
      "      i) ecs               16.44  lb\n",
      "      j) oxygen system     0      lb\n",
      "  G) FURNISHINGS                      164.4 lb\n",
      "  H) CONTIGENCY                       41.1  lb\n",
      "  I)MISCELLLENEOUS                    6.165  lb\n",
      "                                      _________    \n",
      "  TOTAL CALCULATED EMPTY WEIGHT        2585.19  lb\n",
      "                          \n",
      "  INITIAL ESTIMATED EMPTY WEIGHT       2687.35332188  lb\n",
      "  PERCENTAGE ERROR            -3.80163341569  %\n"
     ]
    }
   ],
   "source": [
    "print( '  EMPTY WEIGHT BREAKDOWN                        ')\n",
    "#initial percentage weights as given by Kundu[3]\n",
    "wfus=0.085*mtow \n",
    "wwing=0.09*mtow \n",
    "whtail=0.02*mtow \n",
    "wvtail=0.016*mtow \n",
    "wnacelle=0.016*mtow \n",
    "wundercarriage=0.05*mtow \n",
    "wengine=0.185*mtow \n",
    "wenginecontrol=0.02*mtow \n",
    "wfuelsystem=0.015*mtow \n",
    "woilsystem=0.003*mtow \n",
    "wapu=0*mtow \n",
    "wflightcontsys=0.015*mtow \n",
    "whydpneu=0.0055*mtow \n",
    "welectrical=0.025*mtow \n",
    "winstrument=0.008*mtow \n",
    "wavionics=0.02*mtow \n",
    "wecs=0.004*mtow \n",
    "woxyg=0*mtow \n",
    "wfurnishings=0.04*mtow \n",
    "wmiscelleneous=0.0015*mtow \n",
    "wcontigency=0.01*mtow \n",
    "print( '  A) FUSELAGE                         ' + str(wfus)  + '   lb')\n",
    "print( '  B) WING                             ' + str(wwing)+ ' lb'  )\n",
    "print( '   C) PROPULSION ')\n",
    "print( '      a) engine dry weight ' + str(wengine)+ ' lb'  )\n",
    "print( '      b) nacelle           ' + str(wnacelle) + '  lb')\n",
    "print( '      c) engine control    ' + str(wenginecontrol) + '  lb')\n",
    "print( '  D) UNDERCARRIAGE                    ' + str(wundercarriage) +'    lb'   )\n",
    "print( '  E) TAIL                   '  )\n",
    "\n",
    "print( '      a) horizontal tail      ' + str(whtail) + '   lb')\n",
    "print( '      b) verticall tail      ' + str(wvtail) + '   lb')\n",
    "print( '  F) SYSTEMS  ')\n",
    "print( '      a) fuel system       ' + str(wfuelsystem) + '   lb')\n",
    "print( '      b) oil system        ' + str(woilsystem) +'  lb')\n",
    "print( '      c) a.p.u             ' + str(wapu) +'      lb')\n",
    "print( '      d) flight contr. sys ' + str(wflightcontsys) + '   lb')\n",
    "print( '      e) hyd & pneu sys    ' + str(whydpneu)+'  lb'  )\n",
    "print( '      f) electrical system ' + str(welectrical)+ '  lb')\n",
    "print( '      g) instruments       ' + str(winstrument)+'  lb'  )\n",
    "print( '      h) avionics          ' + str(wavionics)+ '   lb'  )\n",
    "print( '      i) ecs               ' + str(wecs) +'  lb')\n",
    "print( '      j) oxygen system     ' + str(woxyg) +'      lb')\n",
    "print( '  G) FURNISHINGS                      ' + str(wfurnishings)+' lb'  )\n",
    "print( '  H) CONTIGENCY                       ' + str(wcontigency) +'  lb')\n",
    "print( '  I)MISCELLLENEOUS                    ' + str(wmiscelleneous)+'  lb')\n",
    "print( '                                      _________    ')\n",
    "\n",
    "calcemptyw=wfus+wwing+whtail+wvtail+wnacelle+wundercarriage+wengine+wenginecontrol+wfuelsystem+woilsystem+wapu+wflightcontsys+whydpneu+welectrical+winstrument+wavionics+wecs+woxyg+wfurnishings+wmiscelleneous+wcontigency\n",
    "\n",
    "error=((calcemptyw-We)/We)*100 \n",
    "print( '  TOTAL CALCULATED EMPTY WEIGHT        ' + str(calcemptyw)+'  lb' )\n",
    "print( '                          ')\n",
    "print( '  INITIAL ESTIMATED EMPTY WEIGHT       ' + str(We)+'  lb')\n",
    "\n",
    "print( '  PERCENTAGE ERROR            ' + str(error),' %' )"
   ]
  },
  {
   "cell_type": "code",
   "execution_count": 23,
   "metadata": {
    "collapsed": false,
    "deletable": true,
    "editable": true
   },
   "outputs": [
    {
     "name": "stdout",
     "output_type": "stream",
     "text": [
      "____________________________________________________ \n",
      "   NOW ENTER THE INITIAL PERFORMANCE DATA ESTIMATES  \n",
      " ___________________________________________________ \n",
      " Ceiling (ft) ===>  20000\n",
      " Vmax (knots) ===>  170\n",
      " Take-Off Run (ft) ===>  1200\n",
      " Stall speed (61knots max) ===>  61\n",
      " rate of climb (m/s) ===>  2\n",
      "                          \n",
      "A GRAPH OF POWER LOADING VS WING LOADING IS SHOWN HERE\n",
      "                          \n",
      "- - - - - - - - - - - - - - - - - - - - - - - - - - \n",
      "PLEASE READ THE GRAPH AND FILL IN THE VALUES BELOW\n",
      "- - - - - - - - - - - - - - - - - - - - - - - - - - \n",
      "                          \n"
     ]
    }
   ],
   "source": [
    "print( '____________________________________________________ ')\n",
    "print( '   NOW ENTER THE INITIAL PERFORMANCE DATA ESTIMATES  ')\n",
    "print( ' ___________________________________________________ ')\n",
    "\n",
    "\n",
    "h= float(input(' Ceiling (ft) ===>  ') )\n",
    "vmaxe=float(input(' Vmax (knots) ===>  ') )\n",
    "sto=float(input(' Take-Off Run (ft) ===>  ') )\n",
    "vstall=float(input(' Stall speed (61knots max) ===>  ') )\n",
    "roc_estimate= float(input(' rate of climb (m/s) ===>  ') )\n",
    "\n",
    "print( '                          ')\n",
    "print( 'A GRAPH OF POWER LOADING VS WING LOADING IS SHOWN HERE' )\n",
    "print( '                          ')\n",
    "print( '- - - - - - - - - - - - - - - - - - - - - - - - - - ' )\n",
    "print( 'PLEASE READ THE GRAPH AND FILL IN THE VALUES BELOW')\n",
    "print( '- - - - - - - - - - - - - - - - - - - - - - - - - - ' )\n",
    "print( '                          ')"
   ]
  },
  {
   "cell_type": "code",
   "execution_count": 24,
   "metadata": {
    "collapsed": false,
    "deletable": true,
    "editable": true
   },
   "outputs": [],
   "source": [
    "# WS = W/S WING LOADING lb/ft **2 #\n",
    "# WP = W/P POWER LOADING lb/hp # \n",
    "\n",
    "                   #Vmax calculations#\n",
    "\n",
    "ws = np.arange(5,30)\n",
    "propEff=0.7 \n",
    "do = 0.002378 \n",
    "vmax = vmaxe*1.688 # we have assumed it is 150 knots#\n",
    "cdo=0.025  #cdo = 0.022 - 0.028#\n",
    "\n",
    "# AR=7.5 AR is the aspect ratio 5-9 for GA aircraft #\n",
    "# e=0.8 e is oswalds span efficiency factor 0.7-0.95 #\n",
    "\n",
    "#k=1/(np.pi*oswaldeff*AR) \n",
    "dalt=0.001756 \n",
    "rade=(1- (h*6.873*10 **(-6))) ** 4.26\n",
    "d1=0.5*do*(vmax **3)*cdo \n",
    "d4a=d1/ws \n",
    "d2=(2 * k) /(dalt*rade*vmax) \n",
    "nume=0.7*550 \n",
    "wpvmax =nume/(d4a+(d2*ws))"
   ]
  },
  {
   "cell_type": "code",
   "execution_count": 25,
   "metadata": {
    "collapsed": false,
    "deletable": true,
    "editable": true
   },
   "outputs": [],
   "source": [
    "# TAKE-OFF RUN CALCULATION#\n",
    "vto=1.1*vstall*1.688 \n",
    "cdo=0.025 \n",
    "U=0.04 \n",
    "CLC=0.4042 \n",
    "CLFLAP=0.8 \n",
    "CLTO=CLC+CLFLAP \n",
    "CDOLG=0.009 \n",
    "CDOHLD=0.007 \n",
    "CDOTO=cdo+CDOLG+CDOHLD \n",
    "CDTO=CDOTO+k*CLTO **2 \n",
    "CLR=1.8/1.1 **2 \n",
    "CDG=CDTO-U*CLTO \n",
    "mf4=0.6*do*32.17*CDG*sto \n",
    "mf2=ws/(mf4) \n",
    "mf3=mf2 **-1 \n",
    "mf=2.71828183**(mf3) \n",
    "mf1=U+(CDG/CLR) \n",
    "mf5=(1-mf) \n",
    "mf6=mf1*mf \n",
    "mff=(mf5)/(U-(mf6)) \n",
    "wptor= (mff*0.6*550)/(vto)"
   ]
  },
  {
   "cell_type": "code",
   "execution_count": 26,
   "metadata": {
    "collapsed": false,
    "deletable": true,
    "editable": true,
    "scrolled": true
   },
   "outputs": [],
   "source": [
    "# SERVICE CEILING CALCULATION #\n",
    "\n",
    "e1= math.sqrt (3*cdo/k) \n",
    "f=2/(dalt*e1) \n",
    "h=np.sqrt(f*ws) \n",
    "g=1.155/(ldmax*0.7*550) \n",
    "i=g*h \n",
    "j=i/rade \n",
    "l=j**-1 \n",
    "wpc=l"
   ]
  },
  {
   "cell_type": "code",
   "execution_count": null,
   "metadata": {
    "collapsed": false,
    "deletable": true,
    "editable": true
   },
   "outputs": [],
   "source": []
  },
  {
   "cell_type": "code",
   "execution_count": 27,
   "metadata": {
    "collapsed": false,
    "deletable": true,
    "editable": true
   },
   "outputs": [],
   "source": [
    "#RATE OF CLIMB CALCULATION#\n",
    "\n",
    "roc_estimate1=roc_estimate*3.28084 \n",
    "\n",
    "f1=2/(do*e1) \n",
    "h1=np.sqrt(f1*ws) \n",
    "i=g*h1 \n",
    "h2=roc_estimate1/(0.7*550) \n",
    "i1=h2+i \n",
    "l=i1**-1 \n",
    "wproc=l"
   ]
  },
  {
   "cell_type": "code",
   "execution_count": 28,
   "metadata": {
    "collapsed": false,
    "deletable": true,
    "editable": true
   },
   "outputs": [],
   "source": [
    "#Vstall calculations#\n",
    "WP=np.arange(1,51)\n",
    "clmax=1.8 \n",
    "vs=vstall*1.688  #vs is stall speed and the minimun by law is 61knots#\n",
    "WS3 = 0.5*do*clmax*vs **2 \n",
    "#clmax is between 1.6-2.2 so we take 1.6 #\n",
    "#plot(WS3 , WP)#"
   ]
  },
  {
   "cell_type": "code",
   "execution_count": 29,
   "metadata": {
    "collapsed": false,
    "deletable": true,
    "editable": true
   },
   "outputs": [
    {
     "data": {
      "image/png": "[encoded data removed]",
      "text/plain": [
       "<matplotlib.figure.Figure at 0x1bf8dc002b0>"
      ]
     },
     "metadata": {},
     "output_type": "display_data"
    }
   ],
   "source": [
    "plt.plot(ws , wpc)\n",
    "plt.plot(ws , wptor)\n",
    "plt.plot(ws , wpvmax)\n",
    "plt.plot(ws , wproc)\n",
    "plt.axvline(x=WS3)\n",
    "\n",
    "plt.show()"
   ]
  },
  {
   "cell_type": "code",
   "execution_count": 30,
   "metadata": {
    "collapsed": true,
    "deletable": true,
    "editable": true
   },
   "outputs": [],
   "source": [
    "#******************************************PART TWO *********************************************************** #\n",
    "    #******************************************AIRFOIL PARAMETERS ************************************************* #"
   ]
  },
  {
   "cell_type": "code",
   "execution_count": 31,
   "metadata": {
    "collapsed": false,
    "deletable": true,
    "editable": true
   },
   "outputs": [
    {
     "name": "stdout",
     "output_type": "stream",
     "text": [
      " enter the value of w/p -> 10\n",
      " enter the value of w/s -> 22.5\n"
     ]
    }
   ],
   "source": [
    "x = float(input (' enter the value of w/p -> ') )\n",
    "x1 = float(input (' enter the value of w/s -> ') )"
   ]
  },
  {
   "cell_type": "code",
   "execution_count": 32,
   "metadata": {
    "collapsed": false,
    "deletable": true,
    "editable": true
   },
   "outputs": [
    {
     "name": "stdout",
     "output_type": "stream",
     "text": [
      " Wing Surface Area =  17.2816146326 sq. m\n",
      " Engine Power =  411.0 horsepower\n"
     ]
    }
   ],
   "source": [
    "S=mtow/(x1*10.57) \n",
    "P=mtow/x \n",
    "\n",
    "print( ' Wing Surface Area =  ' + str(S)+ ' sq. m' )\n",
    "print( ' Engine Power =  ' + str(P)+' horsepower' )"
   ]
  },
  {
   "cell_type": "code",
   "execution_count": 33,
   "metadata": {
    "collapsed": true,
    "deletable": true,
    "editable": true
   },
   "outputs": [],
   "source": [
    "# RESOLVING FOR FINAL VALUES #"
   ]
  },
  {
   "cell_type": "code",
   "execution_count": 34,
   "metadata": {
    "collapsed": true,
    "deletable": true,
    "editable": true
   },
   "outputs": [],
   "source": [
    "# Vs RESOLVE#\n",
    "\n",
    "\n",
    "vs1= (x1)/(0.5*do*clmax) \n",
    "Vs2= math.sqrt (vs1) \n",
    "Vs3= Vs2/1.688"
   ]
  },
  {
   "cell_type": "code",
   "execution_count": 35,
   "metadata": {
    "collapsed": false,
    "deletable": true,
    "editable": true
   },
   "outputs": [],
   "source": [
    "# Vmax RESOLVE #\n",
    "\n",
    "x2=(0.7*550)/x \n",
    "\n",
    "c=6.873*10 **-6 \n",
    "rade=(1-c*10000)**4.26 \n",
    "y=(0.5*do*cdo)/x1 \n",
    "\n",
    "z=(2*k*x1)/(dalt*rade) \n",
    "z1= [ y, 0, 0, -x2, z] \n",
    "s = np.roots (z1) \n",
    "z=s[3] \n",
    "z1=abs(z) \n",
    "z2=z1/1.688"
   ]
  },
  {
   "cell_type": "code",
   "execution_count": 36,
   "metadata": {
    "collapsed": false,
    "deletable": true,
    "editable": true
   },
   "outputs": [],
   "source": [
    "# Take-off Run Resolve\n",
    "\n",
    "a= ((x*vto)/(0.6*550)) \n",
    "#b= exp (0.6*do*32.17*CDG*sto/x1) \n",
    "c=U+(CDG/CLR) \n",
    "d=(1-a*U)/(1-a*c) \n",
    "sto1=np.log(d) \n",
    "sto2=sto1/(0.6*do*32.17*CDG/x1)"
   ]
  },
  {
   "cell_type": "code",
   "execution_count": 37,
   "metadata": {
    "collapsed": false,
    "deletable": true,
    "editable": true
   },
   "outputs": [],
   "source": [
    "#Rate Of Climb Resolve\n",
    "\n",
    "k=1/(np.pi*oswaldeff*AR) \n",
    "e1= np.sqrt (3*cdo/k) \n",
    "f1=2/(do*e1) \n",
    "h1=np.sqrt(f1*x1) \n",
    "g=1.155/(ldmax*0.7*550) \n",
    "i=g*h1 \n",
    "roc1=(1-(x*i))*0.7*550/x \n",
    "roc=roc1*0.3048"
   ]
  },
  {
   "cell_type": "code",
   "execution_count": 38,
   "metadata": {
    "collapsed": false,
    "deletable": true,
    "editable": true
   },
   "outputs": [],
   "source": [
    "vc=z1/1.2 \n",
    "vs=Vs2 \n",
    "S1=S*10.76 \n",
    "#Wave=0.5*(mtow*2) \n",
    "wbc=0.98*0.97*mtow \n",
    "wec=wbc*cfraction \n",
    "Wave=(wbc+wec)/2 \n",
    "dalt=0.001756 \n",
    "do=0.002378 \n",
    "clc=(2*Wave)/(dalt*S1*vc**2) \n",
    "clcw=clc/0.95 \n",
    "cli=clcw/0.9 \n",
    "\n",
    "clmaxn=(2*mtow)/(do*S1*vs **2) \n",
    "clmaxw=clmaxn/0.95 \n",
    "clmaxgross=clmaxw/0.9 \n",
    "clmax=clmaxgross-0.6  #cfc = cf/c #"
   ]
  },
  {
   "cell_type": "code",
   "execution_count": 39,
   "metadata": {
    "collapsed": false,
    "deletable": true,
    "editable": true
   },
   "outputs": [
    {
     "name": "stdout",
     "output_type": "stream",
     "text": [
      "- - - - - - - - - - - - - - - - - - - - - - - - - - \n",
      "               CALCULATED PERFORMANCE VALUES                           \n",
      "- - - - - - - - - - - - - - - - - - - - - - - - - - \n",
      "                          \n",
      "    a) WING SURFACE AREA (in sq. meter) is 17.2816146326\n",
      "    b) POWER REQUIRED (in horsepower)  is 411.0\n",
      "    c) AIRCRAFT STALL SPEED (in knots) is 60.74235657546372\n",
      "    d) AIRCRAFT MAX. SPEED (in knots) is 26.7869704755\n",
      "    e) AIRCRAFT Take-Off RUN  (in ft ) is 1440.89541098\n",
      "    f) AIRCRAFT Rate Of Climb   (in m/s) is 8.64062257421\n"
     ]
    }
   ],
   "source": [
    "print( '- - - - - - - - - - - - - - - - - - - - - - - - - - ' )\n",
    "print( '               CALCULATED PERFORMANCE VALUES                           ')\n",
    "print( '- - - - - - - - - - - - - - - - - - - - - - - - - - ' )\n",
    "print( '                          ')\n",
    "print( '    a) WING SURFACE AREA (in sq. meter) is ' + str(S) )\n",
    "print( '    b) POWER REQUIRED (in horsepower)  is '  + str(P) )\n",
    "print( '    c) AIRCRAFT STALL SPEED (in knots) is '  + str(Vs3) )\n",
    "print( '    d) AIRCRAFT MAX. SPEED (in knots) is '  + str(z2) )\n",
    "print( '    e) AIRCRAFT Take-Off RUN  (in ft ) is '  + str(sto2) )\n",
    "print( '    f) AIRCRAFT Rate Of Climb   (in m/s) is '  + str(roc) )"
   ]
  },
  {
   "cell_type": "code",
   "execution_count": 40,
   "metadata": {
    "collapsed": false,
    "deletable": true,
    "editable": true
   },
   "outputs": [
    {
     "name": "stdout",
     "output_type": "stream",
     "text": [
      "*********USE THE BELOW VALUES FOR AEROFOIL SELECTION PROCESS *****************\n",
      "*********USE THE cli_clmax.doc document provided to match *****************\n",
      "                          \n"
     ]
    }
   ],
   "source": [
    "print( '*********USE THE BELOW VALUES FOR AEROFOIL SELECTION PROCESS *****************')\n",
    "print( '*********USE THE cli_clmax.doc document provided to match *****************')\n",
    "print( '                          ')"
   ]
  },
  {
   "cell_type": "code",
   "execution_count": 41,
   "metadata": {
    "collapsed": false,
    "deletable": true,
    "editable": true
   },
   "outputs": [
    {
     "name": "stdout",
     "output_type": "stream",
     "text": [
      "   a) IDEAL LIFT COEFFICIENT (cli) is  19.6247537108\n",
      "   b) NET MAX. LIFT COEFFICIENT (Clmax) is 1.46808843671\n"
     ]
    }
   ],
   "source": [
    "print( '   a) IDEAL LIFT COEFFICIENT (cli) is  '  + str(cli) )\n",
    "print( '   b) NET MAX. LIFT COEFFICIENT (Clmax) is '  + str(clmax) )"
   ]
  },
  {
   "cell_type": "code",
   "execution_count": 42,
   "metadata": {
    "collapsed": false,
    "deletable": true,
    "editable": true
   },
   "outputs": [
    {
     "name": "stdout",
     "output_type": "stream",
     "text": [
      "   i) WINGSPAN     11.6101935442 m\n",
      "   ii) MEAN CHORD LENGTH     1.48848635182 m\n",
      "   iii) WING ROOT LENGTH   1.95912727093 m\n",
      "   iv) WING TIP LENGTH   0.88160727192 m\n"
     ]
    }
   ],
   "source": [
    "#WING PARAMETERS#\n",
    "\n",
    "wingspan= np.sqrt (AR*S) \n",
    "wmeanchord= wingspan/AR \n",
    "wtaper=0.45 \n",
    "wcroot=(wmeanchord*3) / (2*((1+wtaper+wtaper **2)/(1+wtaper))) \n",
    "wctip=wtaper*wcroot \n",
    "#re=(Vs3*1.688*wmeanchord/3.28084)/(1.460*10 **-5) \n",
    "\n",
    "print( '   i) WINGSPAN     '  + str(wingspan) + ' m')\n",
    "print( '   ii) MEAN CHORD LENGTH     '  + str(wmeanchord) + ' m')\n",
    "print( '   iii) WING ROOT LENGTH   '  + str(wcroot) +' m' )\n",
    "print( '   iv) WING TIP LENGTH   '  + str(wctip) +' m' )\n",
    "#print( ['   v) AIRFOIL REYNOLDS NUMBER   is  ' , + str(re) ])"
   ]
  },
  {
   "cell_type": "code",
   "execution_count": 43,
   "metadata": {
    "collapsed": true,
    "deletable": true,
    "editable": true
   },
   "outputs": [],
   "source": [
    "#tire sizing\n",
    "ww=0.9*mtow*0.5 \n",
    "mwdiameter=1.51*ww **0.349 \n",
    "mwwidth=0.7150*ww **0.312"
   ]
  },
  {
   "cell_type": "code",
   "execution_count": 44,
   "metadata": {
    "collapsed": false,
    "deletable": true,
    "editable": true
   },
   "outputs": [
    {
     "name": "stdout",
     "output_type": "stream",
     "text": [
      "  TIRE SIZING\n",
      "          \n",
      "   main wheel diameter     20.8534977957 in\n",
      "   main wheel width     7.47527190921 in\n"
     ]
    }
   ],
   "source": [
    "print( '  TIRE SIZING')\n",
    "print( '          ')\n",
    "\n",
    "print( '   main wheel diameter     '  + str(mwdiameter) + ' in')\n",
    "print( '   main wheel width     '  + str(mwwidth) + ' in')"
   ]
  },
  {
   "cell_type": "code",
   "execution_count": 45,
   "metadata": {
    "collapsed": false,
    "deletable": true,
    "editable": true
   },
   "outputs": [
    {
     "name": "stdout",
     "output_type": "stream",
     "text": [
      "            \n",
      "  FUSELAGE  SIZING\n",
      "          \n",
      "   Fuselage length    8.63628498915 meters\n"
     ]
    }
   ],
   "source": [
    "#fuselage sizing\n",
    "lfus=(0.86*(mtow) **0.42)/3.28084 \n",
    "print( '            ')\n",
    "print( '  FUSELAGE  SIZING')\n",
    "print( '          ')\n",
    "print( '   Fuselage length    '  + str(lfus) + ' meters')"
   ]
  },
  {
   "cell_type": "code",
   "execution_count": 46,
   "metadata": {
    "collapsed": true,
    "deletable": true,
    "editable": true
   },
   "outputs": [],
   "source": [
    "m=mtow/2.20462  #kg\n",
    "#S=24.3919  #sq m\n",
    "clmax=1.8 \n",
    "negclmax=-1.2 \n",
    "#AR=7.8 \n",
    "clalfa=6.8754 \n",
    "vci=vc \n",
    "vc=vci/1.688 \n",
    "nmax=3.8 \n",
    "negnmax=-(0.5*nmax) \n",
    "vd=1.55*vc \n",
    "f=[nmax,vd] \n",
    "g=[negnmax,vd] \n",
    "weight=m*9.81 \n",
    "dsi=1.225"
   ]
  },
  {
   "cell_type": "code",
   "execution_count": 47,
   "metadata": {
    "collapsed": false,
    "deletable": true,
    "editable": true
   },
   "outputs": [],
   "source": [
    "o=[0,0] \n",
    "vsi=vs/1.688 \n",
    "vs=vsi \n",
    "a=[1,vs] \n",
    "v1=np.sqrt( (nmax*weight)/(0.5*dsi*S*clmax) )  # m/s\n",
    "v= v1*1.94384 \n",
    "b=[nmax , v] \n",
    "\n",
    "\n",
    "vst1= np.sqrt( (-2*weight)/(dsi*S*negclmax) )  # m/s\n",
    "vst= vst1*1.94384 \n",
    "k=[-1 , vst]"
   ]
  },
  {
   "cell_type": "code",
   "execution_count": 48,
   "metadata": {
    "collapsed": false,
    "deletable": true,
    "editable": true
   },
   "outputs": [],
   "source": [
    "# from origin to A\n",
    "x=np.arange(vs)\n",
    "x1=x/1.94384 \n",
    "y1=((0.5*dsi*S*clmax)/weight)*x1 **2"
   ]
  },
  {
   "cell_type": "code",
   "execution_count": 49,
   "metadata": {
    "collapsed": false,
    "deletable": true,
    "editable": true
   },
   "outputs": [],
   "source": [
    "x2=np.arange(vs,v)\n",
    "x22=x2/1.94384 \n",
    "y2=((0.5*dsi*S*clmax)/weight)*x22 **2"
   ]
  },
  {
   "cell_type": "code",
   "execution_count": 51,
   "metadata": {
    "collapsed": false,
    "deletable": true,
    "editable": true
   },
   "outputs": [],
   "source": [
    "x3=np.arange(v,vd,0.1)\n",
    "y3=nmax \n",
    "\n",
    "#plt.plot(x3, y3)\n",
    "plt.show()"
   ]
  },
  {
   "cell_type": "code",
   "execution_count": 53,
   "metadata": {
    "collapsed": false,
    "deletable": true,
    "editable": true
   },
   "outputs": [
    {
     "data": {
      "image/png": "[encoded data removed]",
      "text/plain": [
       "<matplotlib.figure.Figure at 0x1bf8de50668>"
      ]
     },
     "metadata": {},
     "output_type": "display_data"
    }
   ],
   "source": [
    "plt.plot (x,y1)\n",
    "plt.plot(x2,y2)\n",
    "plt.axhline(y=y3)\n",
    "plt.show()"
   ]
  },
  {
   "cell_type": "code",
   "execution_count": null,
   "metadata": {
    "collapsed": true,
    "deletable": true,
    "editable": true
   },
   "outputs": [],
   "source": [
    "\n",
    "         # from A to B\n",
    "\n",
    "x2=vs:v \n",
    "x22=x2/1.94384 \n",
    "y2=((0.5*dsi*S*clmax)/weight)*x22. **2 \n",
    "plot (x2,y2,'-','Color',[0 1 0] ,'Linewidth',0.1)\n",
    "hold on\n",
    "\n",
    "     #from B to F\n",
    "\n",
    "x3=v:0.1:vd \n",
    "y3=nmax \n",
    "plot(x3, y3,'k-','Color',[0 0 1] ,'Linewidth',1.5)\n",
    "\n",
    "        #from F to G\n",
    "y4=negnmax:0.01:nmax \n",
    "x4=vd \n",
    "plot(x4,y4,'k-','Color',[1 0 1] ,'Linewidth',1.5)\n",
    "\n",
    "\n",
    "         #from origin to K\n",
    "x5=0:vst \n",
    "x55=x5/1.94384 \n",
    "y5=((0.5*dsi*S*negclmax)/weight)*x55. **2 \n",
    "plot (x5,y5,'-','Color',[0 1 1] ,'Linewidth',0.1)\n",
    "\n",
    "        #from K to J\n",
    "v6= sqrt( negnmax/((0.5*dsi*S*negclmax)/(weight)) ) \n",
    "v61=v6*1.94384 \n",
    "x6=vst:v61 \n",
    "x66=x6/1.94384 \n",
    "y6=((0.5*dsi*S*negclmax)/weight)*x66. **2 \n",
    "plot (x6,y6,'-','Color',[1 0 1] ,'Linewidth',0.1)\n",
    "\n",
    "\n",
    "          #from G to J\n",
    "\n",
    "y7=negnmax \n",
    "x7=v61:0.1:vd \n",
    "plot (x7,y7,'-','Color',[0 0 1] ,'Linewidth',0.1)\n",
    "\n",
    "title ('Vn Diagram')\n",
    "\n",
    "\n",
    "\n",
    "\n",
    "\n",
    "\n"
   ]
  },
  {
   "cell_type": "code",
   "execution_count": null,
   "metadata": {
    "collapsed": true,
    "deletable": true,
    "editable": true
   },
   "outputs": [],
   "source": []
  }
 ],
 "metadata": {
  "anaconda-cloud": {},
  "kernelspec": {
   "display_name": "Python [default]",
   "language": "python",
   "name": "python3"
  },
  "language_info": {
   "codemirror_mode": {
    "name": "ipython",
    "version": 3
   },
   "file_extension": ".py",
   "mimetype": "text/x-python",
   "name": "python",
   "nbconvert_exporter": "python",
   "pygments_lexer": "ipython3",
   "version": "3.5.2"
  }
 },
 "nbformat": 4,
 "nbformat_minor": 0
}
