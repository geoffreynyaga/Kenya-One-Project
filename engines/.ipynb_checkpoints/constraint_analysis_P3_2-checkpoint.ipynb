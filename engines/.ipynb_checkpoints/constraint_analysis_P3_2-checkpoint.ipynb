{
 "cells": [
  {
   "cell_type": "markdown",
   "metadata": {},
   "source": [
    "# CONSTRAINT ANALYSIS"
   ]
  },
  {
   "cell_type": "markdown",
   "metadata": {},
   "source": [
    "## About this document"
   ]
  },
  {
   "cell_type": "markdown",
   "metadata": {},
   "source": [
    "This document captures the design algorithm used to place the first set of boundaries around the design domain of the aircraft. The algorithm is implemented in Python, embedded in a Jupyter notebook. You can open this notebook (\\tt constraint_analysis.ipynb\\rm) by starting the Jupyter server (type \\tt jupyter notebook\\rm into a terminal window) -- this should open Jupyter in the default browser, pointing at http://localhost:8888.\n",
    "\n",
    "The variable names were chosen to be as intuitive as possible and additional explanations are provided in places to enhance clarity. The naming convention for all variables is to encapsulate the unit too, separated from the variable name by an underscore:"
   ]
  },
  {
   "cell_type": "code",
   "execution_count": 3,
   "metadata": {},
   "outputs": [],
   "source": [
    "VariableName_unit = 0"
   ]
  },
  {
   "cell_type": "markdown",
   "metadata": {},
   "source": [
    "Variable names ending in an underscore are non-dimensional:"
   ]
  },
  {
   "cell_type": "code",
   "execution_count": 4,
   "metadata": {},
   "outputs": [],
   "source": [
    "VariableName_ = 0"
   ]
  },
  {
   "cell_type": "markdown",
   "metadata": {},
   "source": [
    "This document captures one instance of a Jupyter notebook document. In other words, it is a parametric, self-building document, compiled from the output of an ipynb file. A similar document can be generated for a different design brief by editing and re-running the ipynb and compiling it with a tool called  \\emph{nbconvert} by typing: \\tt jupyter nbconvert - - to PDF constraint_analysis.ipynb\\rm\n"
   ]
  },
  {
   "cell_type": "markdown",
   "metadata": {},
   "source": [
    "This document can now be included in the design audit trail of your aircraft and it can be re-instantiated later for a new design. It is a parametric, living, document."
   ]
  },
  {
   "cell_type": "markdown",
   "metadata": {},
   "source": [
    "We have annotated the document with explanatory notes like this one for convenience -- of course, once the conceptual design process is complete, the reader may wish to delete these paragraphs to obtain a more concise document."
   ]
  },
  {
   "cell_type": "markdown",
   "metadata": {},
   "source": [
    "## Design brief"
   ]
  },
  {
   "cell_type": "markdown",
   "metadata": {},
   "source": [
    "The conceptual design process described here starts from the design brief -- essentially a broad brush mission profile -- encapsulated in the following set of numbers."
   ]
  },
  {
   "cell_type": "markdown",
   "metadata": {},
   "source": [
    "### Weight"
   ]
  },
  {
   "cell_type": "markdown",
   "metadata": {},
   "source": [
    "At this stage in the design process it is not uncommon to only be able to provide an initial guess at the design gross weight. This may come from simply multiplying the desired payload weight with the payload fraction (payload weight divided by design gross weight) derived from looking at other aircraft designed for similar missions. In this case this 'zeroth order' guess is:  "
   ]
  },
  {
   "cell_type": "code",
   "execution_count": null,
   "metadata": {},
   "outputs": [],
   "source": [
    "DesignGrossWeight_kg = 15"
   ]
  },
  {
   "cell_type": "markdown",
   "metadata": {},
   "source": [
    "### Take-off performance"
   ]
  },
  {
   "cell_type": "code",
   "execution_count": 6,
   "metadata": {},
   "outputs": [],
   "source": [
    "GroundRun_feet = 197"
   ]
  },
  {
   "cell_type": "code",
   "execution_count": 7,
   "metadata": {},
   "outputs": [],
   "source": [
    "TakeOffSpeed_KCAS = 31"
   ]
  },
  {
   "cell_type": "code",
   "execution_count": 8,
   "metadata": {},
   "outputs": [],
   "source": [
    "TakeOffElevation_feet = 0"
   ]
  },
  {
   "cell_type": "markdown",
   "metadata": {},
   "source": [
    "### Climb performance"
   ]
  },
  {
   "cell_type": "markdown",
   "metadata": {},
   "source": [
    "The climb performance of an aircraft and its variation with altitude is the result of a complex web of interactions between the aerodynamics of lift generation and the response of its powerplant to varying atmospheric conditions and airspeed. Typically a range of design points have to be considered, representing a variety of conditions, but at this early stage in the design process it is best to keep the number of these design points at a more manageable level."
   ]
  },
  {
   "cell_type": "code",
   "execution_count": 9,
   "metadata": {},
   "outputs": [],
   "source": [
    "RateOfClimb_fpm = 984"
   ]
  },
  {
   "cell_type": "code",
   "execution_count": 10,
   "metadata": {},
   "outputs": [],
   "source": [
    "ClimbSpeed_KCAS = 47"
   ]
  },
  {
   "cell_type": "markdown",
   "metadata": {},
   "source": [
    "The rate of climb constraint will be evaluated at this altitude:"
   ]
  },
  {
   "cell_type": "code",
   "execution_count": 11,
   "metadata": {},
   "outputs": [],
   "source": [
    "ROCAlt_feet = 0"
   ]
  },
  {
   "cell_type": "markdown",
   "metadata": {},
   "source": [
    "### Turn performance"
   ]
  },
  {
   "cell_type": "markdown",
   "metadata": {},
   "source": [
    "We define steady, level turn performance in terms of the load factor $n$ (which represents the ratio of lift and weight).\n",
    "\n",
    "$n=1/\\cos{\\theta}$, where $\\theta$ is the bank angle (so $n=1.2$ corresponds to $30^\\circ$, $n=2$ corresponds to $60^\\circ$, etc.). "
   ]
  },
  {
   "cell_type": "code",
   "execution_count": 12,
   "metadata": {},
   "outputs": [],
   "source": [
    "n_cvt_ = 1.41"
   ]
  },
  {
   "cell_type": "markdown",
   "metadata": {},
   "source": [
    "### Cruise"
   ]
  },
  {
   "cell_type": "markdown",
   "metadata": {},
   "source": [
    "The cruising altitude may be viewed in two fundamental ways. First, it may be a constraint -- for example, due to regulatory requirements the aircraft may have to cruise at, say, 350 feet. It can also be viewed as a design variable, in which case you may wish to return to this point in the document and revise it as part of an iterative process of optimization/refinement. "
   ]
  },
  {
   "cell_type": "code",
   "execution_count": 13,
   "metadata": {},
   "outputs": [],
   "source": [
    "CruisingAlt_feet = 400"
   ]
  },
  {
   "cell_type": "code",
   "execution_count": 14,
   "metadata": {},
   "outputs": [],
   "source": [
    "CruisingSpeed_KTAS = 58.3"
   ]
  },
  {
   "cell_type": "markdown",
   "metadata": {},
   "source": [
    "### Service ceiling"
   ]
  },
  {
   "cell_type": "code",
   "execution_count": 15,
   "metadata": {},
   "outputs": [],
   "source": [
    "ServiceCeiling_feet = 1000"
   ]
  },
  {
   "cell_type": "markdown",
   "metadata": {},
   "source": [
    "### Approach and Landing"
   ]
  },
  {
   "cell_type": "code",
   "execution_count": 16,
   "metadata": {},
   "outputs": [],
   "source": [
    "ApproachSpeed_KTAS = 29"
   ]
  },
  {
   "cell_type": "markdown",
   "metadata": {},
   "source": [
    "We define the margin by which the aircraft operates above its stall speed on final approach (e.g., a reserve factor of 1.2 - typical of manned military aircraft - means flying 20$\\%$ above stall, a reserve factor of 1.3 - typical of civil aircraft, means 30$\\%$ above stall; for small UAVs, lower values may be considered).  "
   ]
  },
  {
   "cell_type": "code",
   "execution_count": 17,
   "metadata": {},
   "outputs": [],
   "source": [
    "StallReserveFactor = 1.1"
   ]
  },
  {
   "cell_type": "code",
   "execution_count": 18,
   "metadata": {},
   "outputs": [
    {
     "name": "stdout",
     "output_type": "stream",
     "text": [
      "Stall speed in approach configuration: 26.4 KTAS\n"
     ]
    }
   ],
   "source": [
    "StallSpeedinApproachConf_KTAS = ApproachSpeed_KTAS/StallReserveFactor\n",
    "print(\"Stall speed in approach configuration: {:0.1f} KTAS\".format(StallSpeedinApproachConf_KTAS))"
   ]
  },
  {
   "cell_type": "markdown",
   "metadata": {},
   "source": [
    "Maximum lift coefficient in landing configuration:"
   ]
  },
  {
   "cell_type": "code",
   "execution_count": 19,
   "metadata": {},
   "outputs": [],
   "source": [
    "CLmax_approach = 1.3"
   ]
  },
  {
   "cell_type": "markdown",
   "metadata": {},
   "source": [
    "We also define the highest altitude AMSL where we would expect the aircraft to be established on a stable final approach in landing configuration:"
   ]
  },
  {
   "cell_type": "code",
   "execution_count": 20,
   "metadata": {},
   "outputs": [],
   "source": [
    "TopOfFinalApp_feet = 100"
   ]
  },
  {
   "cell_type": "markdown",
   "metadata": {},
   "source": [
    "## Unit conversions"
   ]
  },
  {
   "cell_type": "markdown",
   "metadata": {},
   "source": [
    "All constraint analysis calculations in this document are performed in SI units. However, it is more common to specify some elements of the design brief in the mix of SI and Imperial units traditionally used in aviation -- here we perform the appropriate conversions."
   ]
  },
  {
   "cell_type": "code",
   "execution_count": 21,
   "metadata": {},
   "outputs": [
    {
     "name": "stdout",
     "output_type": "stream",
     "text": [
      "Cruising altitude: 122 m\n"
     ]
    }
   ],
   "source": [
    "CruisingAlt_m = CruisingAlt_feet*0.3048\n",
    "print('Cruising altitude: {:0.0f} m'.format(CruisingAlt_m))"
   ]
  },
  {
   "cell_type": "code",
   "execution_count": 22,
   "metadata": {},
   "outputs": [
    {
     "name": "stdout",
     "output_type": "stream",
     "text": [
      "Top of final approach: 30 m\n"
     ]
    }
   ],
   "source": [
    "TopOfFinalApp_m = TopOfFinalApp_feet*0.3048\n",
    "print('Top of final approach: {:0.0f} m'.format(TopOfFinalApp_m))"
   ]
  },
  {
   "cell_type": "code",
   "execution_count": 23,
   "metadata": {},
   "outputs": [
    {
     "name": "stdout",
     "output_type": "stream",
     "text": [
      "Take-off runway elevation: 0 m\n"
     ]
    }
   ],
   "source": [
    "TakeOffElevation_m = TakeOffElevation_feet*0.3048\n",
    "print('Take-off runway elevation: {:0.0f} m'.format(TakeOffElevation_m))"
   ]
  },
  {
   "cell_type": "code",
   "execution_count": 24,
   "metadata": {},
   "outputs": [
    {
     "name": "stdout",
     "output_type": "stream",
     "text": [
      "Service ceiling: 305 m\n"
     ]
    }
   ],
   "source": [
    "ServiceCeiling_m = ServiceCeiling_feet*0.3048\n",
    "print('Service ceiling: {:0.0f} m'.format(ServiceCeiling_m))"
   ]
  },
  {
   "cell_type": "code",
   "execution_count": 25,
   "metadata": {},
   "outputs": [
    {
     "name": "stdout",
     "output_type": "stream",
     "text": [
      "Cruising speed: 30.0 m/s TAS\n"
     ]
    }
   ],
   "source": [
    "CruisingSpeed_mpsTAS = CruisingSpeed_KTAS*0.5144444444\n",
    "print('Cruising speed: {:0.1f} m/s TAS'.format(CruisingSpeed_mpsTAS))"
   ]
  },
  {
   "cell_type": "code",
   "execution_count": 26,
   "metadata": {},
   "outputs": [
    {
     "name": "stdout",
     "output_type": "stream",
     "text": [
      "Climb speed: 24.2 m/s CAS\n"
     ]
    }
   ],
   "source": [
    "ClimbSpeed_mpsCAS = ClimbSpeed_KCAS*0.5144444444\n",
    "print('Climb speed: {:0.1f} m/s CAS'.format(ClimbSpeed_mpsCAS))"
   ]
  },
  {
   "cell_type": "code",
   "execution_count": 27,
   "metadata": {},
   "outputs": [
    {
     "name": "stdout",
     "output_type": "stream",
     "text": [
      "Approach speed: 14.9 m/s TAS\n"
     ]
    }
   ],
   "source": [
    "ApproachSpeed_mpsTAS = ApproachSpeed_KTAS*0.5144444444\n",
    "print('Approach speed: {:0.1f} m/s TAS'.format(ApproachSpeed_mpsTAS))"
   ]
  },
  {
   "cell_type": "code",
   "execution_count": 28,
   "metadata": {},
   "outputs": [
    {
     "name": "stdout",
     "output_type": "stream",
     "text": [
      "Stall speed in approach configuration: 13.6 m/s TAS\n"
     ]
    }
   ],
   "source": [
    "StallSpeedinApproachConf_mpsTAS = StallSpeedinApproachConf_KTAS*0.51444444444\n",
    "print('Stall speed in approach configuration: {:0.1f} m/s TAS'.format(StallSpeedinApproachConf_mpsTAS))"
   ]
  },
  {
   "cell_type": "code",
   "execution_count": 29,
   "metadata": {},
   "outputs": [
    {
     "name": "stdout",
     "output_type": "stream",
     "text": [
      "Rate of climb: 5.0 m/s\n"
     ]
    }
   ],
   "source": [
    "RateOfClimb_mps = RateOfClimb_fpm*0.00508\n",
    "print('Rate of climb: {:0.1f} m/s'.format(RateOfClimb_mps))"
   ]
  },
  {
   "cell_type": "code",
   "execution_count": 30,
   "metadata": {},
   "outputs": [
    {
     "name": "stdout",
     "output_type": "stream",
     "text": [
      "Take-off speed: 15.9 m/s CAS\n"
     ]
    }
   ],
   "source": [
    "TakeOffSpeed_mpsCAS = TakeOffSpeed_KCAS*0.5144444444\n",
    "print('Take-off speed: {:0.1f} m/s CAS'.format(TakeOffSpeed_mpsCAS))"
   ]
  },
  {
   "cell_type": "code",
   "execution_count": 31,
   "metadata": {},
   "outputs": [
    {
     "name": "stdout",
     "output_type": "stream",
     "text": [
      "Ground run: 60 m\n"
     ]
    }
   ],
   "source": [
    "GroundRun_m = GroundRun_feet*0.3048\n",
    "print('Ground run: {:0.0f} m'.format(GroundRun_m))"
   ]
  },
  {
   "cell_type": "markdown",
   "metadata": {},
   "source": [
    "## Basic geometry and initial guesses"
   ]
  },
  {
   "cell_type": "markdown",
   "metadata": {},
   "source": [
    "Almost by definition, the early part of the conceptual design process is the only part of the product development where we do not yet have a geometry model to refer to. Thus, some of the all-important aerodynamic figures have to be guessed at this point, largely on the basis of high level geometrical parameters like the aspect ratio."
   ]
  },
  {
   "cell_type": "code",
   "execution_count": 32,
   "metadata": {},
   "outputs": [],
   "source": [
    "AspectRatio_ = 9"
   ]
  },
  {
   "cell_type": "code",
   "execution_count": 33,
   "metadata": {},
   "outputs": [],
   "source": [
    "CDmin = 0.0418"
   ]
  },
  {
   "cell_type": "code",
   "execution_count": 34,
   "metadata": {},
   "outputs": [],
   "source": [
    "WSmax_kgm2 = 20"
   ]
  },
  {
   "cell_type": "markdown",
   "metadata": {},
   "source": [
    "Estimated take-off parameters"
   ]
  },
  {
   "cell_type": "code",
   "execution_count": 35,
   "metadata": {},
   "outputs": [],
   "source": [
    "CLTO = 0.97\n",
    "CDTO = 0.0898\n",
    "muTO = 0.17"
   ]
  },
  {
   "cell_type": "markdown",
   "metadata": {},
   "source": [
    "## Preamble"
   ]
  },
  {
   "cell_type": "markdown",
   "metadata": {},
   "source": [
    "Some of the computations and visualisations performed in this document may require additional Python modules; these need to be loaded first as follows:"
   ]
  },
  {
   "cell_type": "code",
   "execution_count": 36,
   "metadata": {
    "collapsed": true
   },
   "outputs": [],
   "source": [
    "%matplotlib inline"
   ]
  },
  {
   "cell_type": "code",
   "execution_count": 37,
   "metadata": {},
   "outputs": [],
   "source": [
    "from __future__ import division\n",
    "import math\n",
    "import sys\n",
    "sys.path.append('/Users/andrassobester/Dropbox/BOOKS/UAV_book/as/CONSTRAINT_ANALYSIS/AeroCalc-P3')\n",
    "from aerocalc3 import std_atm as ISA\n",
    "import numpy as np\n"
   ]
  },
  {
   "cell_type": "code",
   "execution_count": 38,
   "metadata": {},
   "outputs": [],
   "source": [
    "import matplotlib\n",
    "import matplotlib.pylab as pylab\n",
    "import matplotlib.pyplot as plt"
   ]
  },
  {
   "cell_type": "markdown",
   "metadata": {},
   "source": [
    "In the interest of conciseness and modularity, it is often useful to define repeated operations as functions. Let us first define a function for colouring in the unfeasible area underneath a constraint boundary:"
   ]
  },
  {
   "cell_type": "code",
   "execution_count": 39,
   "metadata": {},
   "outputs": [],
   "source": [
    "def ConstraintPoly(WSl,TWl,Col,al):\n",
    "    WSl.append(WSl[-1])\n",
    "    TWl.append(0)\n",
    "    WSl.append(WSl[0])\n",
    "    TWl.append(0)\n",
    "    WSl.append(0)\n",
    "    TWl.append(TWl[-2])\n",
    "    zp = list(zip(WSl,TWl))\n",
    "    pa = matplotlib.patches.Polygon(zp,closed = True, color=Col, alpha = al)\n",
    "    return pa"
   ]
  },
  {
   "cell_type": "markdown",
   "metadata": {},
   "source": [
    "Next, we define a method for setting the appropriate bounds on each constraint diagram:"
   ]
  },
  {
   "cell_type": "code",
   "execution_count": 40,
   "metadata": {},
   "outputs": [],
   "source": [
    "def PlotSetUp(Xmin, Xmax, Ymin, Ymax, Xlabel, Ylabel):\n",
    "    pylab.ylim([Ymin,Ymax])\n",
    "    pylab.xlim([Xmin,Xmax])\n",
    "    pylab.ylabel(Ylabel)\n",
    "    pylab.xlabel(Xlabel)"
   ]
  },
  {
   "cell_type": "code",
   "execution_count": 41,
   "metadata": {},
   "outputs": [],
   "source": [
    "Resolution = 2000\n",
    "Start_Pa = 0.1"
   ]
  },
  {
   "cell_type": "markdown",
   "metadata": {},
   "source": [
    "## Preliminary Calculations"
   ]
  },
  {
   "cell_type": "markdown",
   "metadata": {},
   "source": [
    "### The operating environment"
   ]
  },
  {
   "cell_type": "markdown",
   "metadata": {},
   "source": [
    "The environment in which the aircraft is expected to operate plays a very important role in many of the conceptual design calculations to follow. The conditions corresponding to the current design brief are computed as follows:"
   ]
  },
  {
   "cell_type": "code",
   "execution_count": 42,
   "metadata": {},
   "outputs": [
    {
     "name": "stdout",
     "output_type": "stream",
     "text": [
      "ISA density at take-off elevation: 1.225 kg/m^3\n"
     ]
    }
   ],
   "source": [
    "TakeOffDens_kgm3 = ISA.alt2density(TakeOffElevation_feet, alt_units='ft', \n",
    "                                   density_units='kg/m**3')\n",
    "print('ISA density at take-off elevation: {:0.3f} kg/m^3'.format(TakeOffDens_kgm3))"
   ]
  },
  {
   "cell_type": "code",
   "execution_count": 43,
   "metadata": {},
   "outputs": [
    {
     "name": "stdout",
     "output_type": "stream",
     "text": [
      "ISA density at the climb constraint altitude: 1.225 kg/m^3\n"
     ]
    }
   ],
   "source": [
    "ClimbAltDens_kgm3 = ISA.alt2density(ROCAlt_feet, alt_units='ft',\n",
    "                                    density_units='kg/m**3')\n",
    "print('ISA density at the climb constraint altitude: {:0.3f} kg/m^3'.format(ClimbAltDens_kgm3))"
   ]
  },
  {
   "cell_type": "code",
   "execution_count": 44,
   "metadata": {},
   "outputs": [
    {
     "name": "stdout",
     "output_type": "stream",
     "text": [
      "ISA density at cruising altitude: 1.211 kg/m^3\n"
     ]
    }
   ],
   "source": [
    "CruisingAltDens_kgm3 = ISA.alt2density(CruisingAlt_feet, alt_units='ft', \n",
    "                                       density_units='kg/m**3')\n",
    "print('ISA density at cruising altitude: {:0.3f} kg/m^3'.format(CruisingAltDens_kgm3))"
   ]
  },
  {
   "cell_type": "code",
   "execution_count": 45,
   "metadata": {},
   "outputs": [
    {
     "name": "stdout",
     "output_type": "stream",
     "text": [
      "ISA density at the top of the final approach: 1.221 kg/m^3\n"
     ]
    }
   ],
   "source": [
    "TopOfFinalAppDens_kgm3 = ISA.alt2density(TopOfFinalApp_feet, alt_units='ft', \n",
    "                                       density_units='kg/m**3')\n",
    "print('ISA density at the top of the final approach: {:0.3f} kg/m^3'.format(TopOfFinalAppDens_kgm3))"
   ]
  },
  {
   "cell_type": "markdown",
   "metadata": {},
   "source": [
    "### Basic aerodynamic performance calculations"
   ]
  },
  {
   "cell_type": "markdown",
   "metadata": {},
   "source": [
    "In the absence of a geometry, at this stage any aerodynamic performance estimates will either be based on very basic physics or simple, empirical equations."
   ]
  },
  {
   "cell_type": "markdown",
   "metadata": {},
   "source": [
    "We begin with a very rough estimate of the Oswald span efficiency, only suitable for moderate aspect ratios and sweep angles below 30 degrees (equation due to Raymer):"
   ]
  },
  {
   "cell_type": "code",
   "execution_count": 46,
   "metadata": {},
   "outputs": [
    {
     "name": "stdout",
     "output_type": "stream",
     "text": [
      "0.783 \n"
     ]
    }
   ],
   "source": [
    "e0 = 1.78*(1-0.045*AspectRatio_**0.68)-0.64\n",
    "print('{:0.3f} '.format(e0))"
   ]
  },
  {
   "cell_type": "markdown",
   "metadata": {},
   "source": [
    "Lift induced drag factor $k$ ($C_d = C_{d_0} + kC_l^2$):"
   ]
  },
  {
   "cell_type": "code",
   "execution_count": 47,
   "metadata": {},
   "outputs": [
    {
     "name": "stdout",
     "output_type": "stream",
     "text": [
      "0.045\n"
     ]
    }
   ],
   "source": [
    "k = 1.0/(math.pi*AspectRatio_*e0)\n",
    "print('{:0.3f}'.format(k))"
   ]
  },
  {
   "cell_type": "markdown",
   "metadata": {},
   "source": [
    "Dynamic pressure at cruise"
   ]
  },
  {
   "cell_type": "code",
   "execution_count": 48,
   "metadata": {},
   "outputs": [
    {
     "name": "stdout",
     "output_type": "stream",
     "text": [
      "544.5 Pa\n"
     ]
    }
   ],
   "source": [
    "q_cruise_Pa = 0.5*CruisingAltDens_kgm3*(CruisingSpeed_mpsTAS**2)\n",
    "print('{:0.1f} Pa'.format(q_cruise_Pa))"
   ]
  },
  {
   "cell_type": "markdown",
   "metadata": {},
   "source": [
    "Dynamic pressure in the climb"
   ]
  },
  {
   "cell_type": "code",
   "execution_count": 49,
   "metadata": {},
   "outputs": [
    {
     "name": "stdout",
     "output_type": "stream",
     "text": [
      "358.1 Pa\n"
     ]
    }
   ],
   "source": [
    "q_climb_Pa = 0.5*ClimbAltDens_kgm3*(ClimbSpeed_mpsCAS**2)\n",
    "print('{:0.1f} Pa'.format(q_climb_Pa))"
   ]
  },
  {
   "cell_type": "markdown",
   "metadata": {},
   "source": [
    "Dynamic pressure at take-off conditions -- for the purposes of this simple approximation we assume the acceleration during the take-off run to decrease linearly with $v^2$, so for the $v^2$ term we'll use half of the square of the liftoff velocity (that is, $v=v_\\mathrm{TO}/\\sqrt2$): "
   ]
  },
  {
   "cell_type": "code",
   "execution_count": 50,
   "metadata": {},
   "outputs": [
    {
     "name": "stdout",
     "output_type": "stream",
     "text": [
      "77.9 Pa\n"
     ]
    }
   ],
   "source": [
    "q_TO_Pa = 0.5*TakeOffDens_kgm3*(TakeOffSpeed_mpsCAS/math.sqrt(2))**2\n",
    "print('{:0.1f} Pa'.format(q_TO_Pa))"
   ]
  },
  {
   "cell_type": "markdown",
   "metadata": {},
   "source": [
    "Dynamic pressure at the start of final approach, at stall speed:"
   ]
  },
  {
   "cell_type": "code",
   "execution_count": 51,
   "metadata": {},
   "outputs": [
    {
     "name": "stdout",
     "output_type": "stream",
     "text": [
      "112.3 Pa\n"
     ]
    }
   ],
   "source": [
    "q_APP_Pa = 0.5*TopOfFinalAppDens_kgm3*StallSpeedinApproachConf_mpsTAS**2\n",
    "print('{:0.1f} Pa'.format(q_APP_Pa))"
   ]
  },
  {
   "cell_type": "markdown",
   "metadata": {},
   "source": [
    "## Constraints"
   ]
  },
  {
   "cell_type": "markdown",
   "metadata": {},
   "source": [
    "With the basic numbers of the current conceptual design iteration in place, we now draw up the boundaries of the wing loading $W/S$ versus thrust to weight ratio $T/W$ design domain. These boundaries are representations of the basic constraints that enforce the adherence of the design to the numbers speicifed in the design brief."
   ]
  },
  {
   "cell_type": "markdown",
   "metadata": {},
   "source": [
    "### Constraint 1: Level, Constant Velocity Turn"
   ]
  },
  {
   "cell_type": "markdown",
   "metadata": {},
   "source": [
    "First, we compute the thrust to weight ratio required to maintain a specific load factor $n$ in a level turn at the cruise altitude:"
   ]
  },
  {
   "cell_type": "markdown",
   "metadata": {},
   "source": [
    "$$\\frac{T}{W}=q\\left[\\frac{C_{D_\\mathrm{min}}}{W/S}+k\\left(\\frac{n}{q}\\right)^2\\left(\\frac{W}{S}\\right)      \\right]$$"
   ]
  },
  {
   "cell_type": "markdown",
   "metadata": {},
   "source": [
    "...or, in Python:"
   ]
  },
  {
   "cell_type": "code",
   "execution_count": 52,
   "metadata": {},
   "outputs": [],
   "source": [
    "WSlistCVT_Pa = np.linspace(Start_Pa,8500,Resolution)\n",
    "TWlistCVT = []\n",
    "i = 0\n",
    "for WS in WSlistCVT_Pa:\n",
    "    TW = q_cruise_Pa*(CDmin/WSlistCVT_Pa[i] + WSlistCVT_Pa[i]*k*(n_cvt_/q_cruise_Pa)**2)\n",
    "    TWlistCVT.append(TW)\n",
    "    i = i + 1\n",
    "WSlistCVT_kgm2 = [x*0.101971621 for x in WSlistCVT_Pa]"
   ]
  },
  {
   "cell_type": "markdown",
   "metadata": {},
   "source": [
    "The load factor $n$ is the inverse of the cosine of the bank angle (denoted here by $\\theta$) so the latter can be calculated as:"
   ]
  },
  {
   "cell_type": "markdown",
   "metadata": {},
   "source": [
    "$$\\theta = \\cos^{-1}\\left(\\frac{1}{n}\\right)$$"
   ]
  },
  {
   "cell_type": "markdown",
   "metadata": {},
   "source": [
    "so $\\theta$, in degrees, equals:"
   ]
  },
  {
   "cell_type": "code",
   "execution_count": 53,
   "metadata": {},
   "outputs": [
    {
     "name": "stdout",
     "output_type": "stream",
     "text": [
      "45°\n"
     ]
    }
   ],
   "source": [
    "theta_deg = math.acos(1/n_cvt_)*180/math.pi\n",
    "print('{:.0f}'u'\\xb0'.format(theta_deg))"
   ]
  },
  {
   "cell_type": "markdown",
   "metadata": {},
   "source": [
    "We can now generate the constraint boundary over the wing loading range define above. The feasible range is above the curve, so we colour in this region to begin carving into the feasible white space on the design domain chart."
   ]
  },
  {
   "cell_type": "code",
   "execution_count": 54,
   "metadata": {},
   "outputs": [
    {
     "data": {
      "text/plain": [
       "<matplotlib.patches.Polygon at 0x10adb6860>"
      ]
     },
     "execution_count": 54,
     "metadata": {},
     "output_type": "execute_result"
    },
    {
     "data": {
      "image/png": "[encoded data removed]",
      "text/plain": [
       "<matplotlib.figure.Figure at 0x10a170828>"
      ]
     },
     "metadata": {},
     "output_type": "display_data"
    }
   ],
   "source": [
    "ConstVeloTurnPoly = ConstraintPoly(WSlistCVT_kgm2,TWlistCVT,'magenta',0.1)\n",
    "\n",
    "figCVT = plt.figure()\n",
    "PlotSetUp(0, WSmax_kgm2, 0, 0.6, '$W/S\\,[\\,kg/m^2]$', '$T/W\\,[\\,\\,]$')\n",
    "axCVT = figCVT.add_subplot(111)\n",
    "axCVT.add_patch(ConstVeloTurnPoly)"
   ]
  },
  {
   "cell_type": "markdown",
   "metadata": {},
   "source": [
    "### Constraint 2: Rate of Climb"
   ]
  },
  {
   "cell_type": "markdown",
   "metadata": {},
   "source": [
    "Another constraint that can lead to interesting engine power versus wing area trade-offs is the rate of climb requirement. If $q$ denotes the dynamic pressure in the environmental conditions specified earlier, $V$ is the calibrated airspeed in the climb, and $V_V$ is the rate of ascent, the required thrust to weight ratio $T/W$ as a function of the wing loading $W/S$ can be calculated as:\n",
    "\n",
    "$$\\frac{T}{W} = \\frac{V_V}{V}+\\frac{q}{W/S}C_{Dmin}+k\\frac{1}{q}\\frac{W}{S}.$$\n",
    "\n",
    "The Python implementation once again sweeps a sensible range of wing loading values to build the appropriate constraint diagram:"
   ]
  },
  {
   "cell_type": "code",
   "execution_count": 55,
   "metadata": {},
   "outputs": [],
   "source": [
    "WSlistROC_Pa = np.linspace(Start_Pa,8500,Resolution)\n",
    "TWlistROC = []\n",
    "i = 0\n",
    "for WS in WSlistROC_Pa:\n",
    "    TW = RateOfClimb_mps/ClimbSpeed_mpsCAS + CDmin*q_climb_Pa/WSlistROC_Pa[i] \\\n",
    "    + k*WSlistROC_Pa[i]/q_climb_Pa\n",
    "    TWlistROC.append(TW)\n",
    "    i = i + 1\n",
    "WSlistROC_kgm2 = [x*0.101971621 for x in WSlistROC_Pa]"
   ]
  },
  {
   "cell_type": "code",
   "execution_count": 56,
   "metadata": {},
   "outputs": [
    {
     "data": {
      "text/plain": [
       "<matplotlib.patches.Polygon at 0x10db22630>"
      ]
     },
     "execution_count": 56,
     "metadata": {},
     "output_type": "execute_result"
    },
    {
     "data": {
      "image/png": "[encoded data removed]",
      "text/plain": [
       "<matplotlib.figure.Figure at 0x10db22cc0>"
      ]
     },
     "metadata": {},
     "output_type": "display_data"
    }
   ],
   "source": [
    "RateOfClimbPoly = ConstraintPoly(WSlistROC_kgm2,TWlistROC,'blue',0.1)\n",
    "\n",
    "figROC = plt.figure()\n",
    "PlotSetUp(0, WSmax_kgm2, 0, 0.6, '$W/S\\,[\\,kg/m^2]$', '$T/W\\,[\\,\\,]$')\n",
    "\n",
    "axROC = figROC.add_subplot(111)\n",
    "axROC.add_patch(RateOfClimbPoly)"
   ]
  },
  {
   "cell_type": "markdown",
   "metadata": {},
   "source": [
    "### Constraint 3: Take-off Ground Run Constraint"
   ]
  },
  {
   "cell_type": "markdown",
   "metadata": {},
   "source": [
    "We next compute the thrust to weight ratio required for a target ground run distance on take-off. If $C_L^{\\mathrm{TO}}$ and $C_D^{\\mathrm{TO}}$ denote the take-off run lift and drag coefficients respectively, $d_\\mathrm{GR}$ is the required ground run distance, $V_L$ is the lift-off speed, $\\mu_\\mathrm{TO}$ is the ground friction constant, the required thrust to weight ratio $T/W$ as a function of the wing loading $W/S$ can be calculated as:\n",
    "\n",
    "$$\\frac{T}{W} = \\frac{V_L^2}{2g\\,d_\\mathrm{GR}} + \\frac{q\\,C_D^{\\mathrm{TO}}}{W/S} + \\mu_\\mathrm{TO}\\left(1-\\frac{q\\,C_L^{\\mathrm{TO}}}{W/S}\\right)$$\n",
    "\n",
    "Sweeping the range of wing loading values as before, in order to build the appropriate constraint diagram:"
   ]
  },
  {
   "cell_type": "code",
   "execution_count": 57,
   "metadata": {},
   "outputs": [],
   "source": [
    "WSlistGR_Pa = np.linspace(Start_Pa,8500,Resolution)\n",
    "TWlistGR = []\n",
    "i = 0\n",
    "for WS in WSlistGR_Pa:\n",
    "    TW =(TakeOffSpeed_mpsCAS**2)/(2*9.81*GroundRun_m) + \\\n",
    "    q_TO_Pa*CDTO/WSlistGR_Pa[i] + muTO*(1-q_TO_Pa*CLTO/WSlistGR_Pa[i])\n",
    "    TWlistGR.append(TW) \n",
    "    i = i + 1\n",
    "WSlistGR_kgm2 = [x*0.101971621 for x in WSlistGR_Pa]"
   ]
  },
  {
   "cell_type": "code",
   "execution_count": 58,
   "metadata": {},
   "outputs": [
    {
     "data": {
      "text/plain": [
       "<matplotlib.patches.Polygon at 0x10df9c710>"
      ]
     },
     "execution_count": 58,
     "metadata": {},
     "output_type": "execute_result"
    },
    {
     "data": {
      "image/png": "[encoded data removed]",
      "text/plain": [
       "<matplotlib.figure.Figure at 0x10df75fd0>"
      ]
     },
     "metadata": {},
     "output_type": "display_data"
    }
   ],
   "source": [
    "TORunPoly = ConstraintPoly(WSlistGR_kgm2,TWlistGR,'green',0.1)\n",
    "\n",
    "figTOR = plt.figure()\n",
    "PlotSetUp(0, WSmax_kgm2, 0, 0.6, '$W/S\\,[\\,kg/m^2]$', '$T/W\\,[\\,\\,]$')\n",
    "\n",
    "axTOR = figTOR.add_subplot(111)\n",
    "axTOR.add_patch(TORunPoly)"
   ]
  },
  {
   "cell_type": "markdown",
   "metadata": {},
   "source": [
    "### Constraint 4: Desired Cruise Airspeed"
   ]
  },
  {
   "cell_type": "markdown",
   "metadata": {},
   "source": [
    "We next look at the cruise speed requirement. If $q$ denotes the dynamic pressure at cruise conditions, the required thrust to weight ratio $T/W$ as a function of the wing loading $W/S$ can be calculated as:\n",
    "\n",
    "$$\\frac{T}{W} = qC_\\mathrm{Dmin}\\frac{1}{W/S}+k\\frac{1}{q}\\frac{W}{S}.$$\n",
    "\n",
    "The Python implementation once again sweeps a sensible range of wing loading values to build the appropriate constraint diagram:"
   ]
  },
  {
   "cell_type": "code",
   "execution_count": 59,
   "metadata": {
    "collapsed": true
   },
   "outputs": [],
   "source": [
    "WSlistCR_Pa = np.linspace(Start_Pa,8500,Resolution)\n",
    "TWlistCR = []\n",
    "i = 0\n",
    "for WS in WSlistCR_Pa:\n",
    "    TW = q_cruise_Pa*CDmin*(1.0/WSlistCR_Pa[i]) + k*(1/q_cruise_Pa)*WSlistCR_Pa[i]\n",
    "    TWlistCR.append(TW)\n",
    "    i = i + 1\n",
    "WSlistCR_kgm2 = [x*0.101971621 for x in WSlistCR_Pa]"
   ]
  },
  {
   "cell_type": "code",
   "execution_count": 60,
   "metadata": {},
   "outputs": [
    {
     "data": {
      "text/plain": [
       "<matplotlib.patches.Polygon at 0x10e342a90>"
      ]
     },
     "execution_count": 60,
     "metadata": {},
     "output_type": "execute_result"
    },
    {
     "data": {
      "image/png": "[encoded data removed]",
      "text/plain": [
       "<matplotlib.figure.Figure at 0x10e342828>"
      ]
     },
     "metadata": {},
     "output_type": "display_data"
    }
   ],
   "source": [
    "CruisePoly = ConstraintPoly(WSlistCR_kgm2,TWlistCR,'red',0.1)\n",
    "\n",
    "figCruise = plt.figure()\n",
    "PlotSetUp(0, WSmax_kgm2, 0, 0.6, '$W/S\\,[\\,kg/m^2]$', '$T/W\\,[\\,\\,]$')\n",
    "\n",
    "axCruise = figCruise.add_subplot(111)\n",
    "axCruise.add_patch(CruisePoly)"
   ]
  },
  {
   "cell_type": "markdown",
   "metadata": {},
   "source": [
    "### Constraint 5: Approach Speed"
   ]
  },
  {
   "cell_type": "markdown",
   "metadata": {},
   "source": [
    "Assuming a given target approach speed (which, at the start of the typical final approach translates into a dynamic pressure $q^\\mathrm{APP}$) and a maximum lift coefficient $C_L^\\mathrm{APP}$ achievable in the approach configuration (with the high lift system, if present, fully deployed), the wing loading constraint can be formulated as:\n",
    "\n",
    "$$\\frac{W}{S} \\leq q^\\mathrm{APP} \\,C_L^\\mathrm{APP}$$\n",
    "\n",
    "The approach speed constraint will thus impose a right hand boundary in the thrust to weight versus wing loading space at:"
   ]
  },
  {
   "cell_type": "code",
   "execution_count": 61,
   "metadata": {},
   "outputs": [
    {
     "name": "stdout",
     "output_type": "stream",
     "text": [
      "14.89 kg/m^2\n"
     ]
    }
   ],
   "source": [
    "WS_APP_Pa = q_APP_Pa*CLmax_approach\n",
    "WS_APP_kgm2 = WS_APP_Pa*0.101971621\n",
    "print('{:03.2f} kg/m^2'.format(WS_APP_kgm2))"
   ]
  },
  {
   "cell_type": "code",
   "execution_count": 62,
   "metadata": {},
   "outputs": [
    {
     "data": {
      "text/plain": [
       "<matplotlib.patches.Polygon at 0x10e470c50>"
      ]
     },
     "execution_count": 62,
     "metadata": {},
     "output_type": "execute_result"
    },
    {
     "data": {
      "image/png": "[encoded data removed]",
      "text/plain": [
       "<matplotlib.figure.Figure at 0x10e470f28>"
      ]
     },
     "metadata": {},
     "output_type": "display_data"
    }
   ],
   "source": [
    "WSlistAPP_kgm2 = [WS_APP_kgm2, WSmax_kgm2, WSmax_kgm2, WS_APP_kgm2, WS_APP_kgm2 ]\n",
    "TWlistAPP = [0, 0, 0.6, 0.6, 0 ]\n",
    "AppStallPoly = ConstraintPoly(WSlistAPP_kgm2,TWlistAPP,'grey',0.1)\n",
    "\n",
    "figAPP = plt.figure()\n",
    "PlotSetUp(0, WSmax_kgm2, 0, 0.6, '$W/S\\,[\\,kg/m^2]$', '$T/W\\,[\\,\\,]$')\n",
    "\n",
    "axAPP = figAPP.add_subplot(111)\n",
    "axAPP.add_patch(AppStallPoly)"
   ]
  },
  {
   "cell_type": "markdown",
   "metadata": {},
   "source": [
    "### Combined Constraint Diagram"
   ]
  },
  {
   "cell_type": "markdown",
   "metadata": {},
   "source": [
    "With all of the key constraints computed, we can now superimpose them to reveal what remains of the design space. "
   ]
  },
  {
   "cell_type": "code",
   "execution_count": 63,
   "metadata": {},
   "outputs": [
    {
     "data": {
      "text/plain": [
       "<matplotlib.text.Text at 0x10e4f3c50>"
      ]
     },
     "execution_count": 63,
     "metadata": {},
     "output_type": "execute_result"
    },
    {
     "data": {
      "image/png": "[encoded data removed]",
      "text/plain": [
       "<matplotlib.figure.Figure at 0x10e7dd6d8>"
      ]
     },
     "metadata": {},
     "output_type": "display_data"
    }
   ],
   "source": [
    "figCOMP = plt.figure(figsize = (10,10))\n",
    "PlotSetUp(0, WSmax_kgm2, 0, 0.6, '$W/S\\,[\\,kg/m^2]$', '$T/W\\,[\\,\\,]$')\n",
    "axCOMP = figCOMP.add_subplot(111)\n",
    "\n",
    "ConstVeloTurnPoly = ConstraintPoly(WSlistCVT_kgm2,TWlistCVT,'magenta',0.1)\n",
    "axCOMP.add_patch(ConstVeloTurnPoly)\n",
    "\n",
    "RateOfClimbPoly = ConstraintPoly(WSlistROC_kgm2,TWlistROC,'blue',0.1)\n",
    "axCOMP.add_patch(RateOfClimbPoly)\n",
    "\n",
    "TORunPoly = ConstraintPoly(WSlistGR_kgm2,TWlistGR,'green',0.1)\n",
    "axCOMP.add_patch(TORunPoly)\n",
    "\n",
    "CruisePoly = ConstraintPoly(WSlistCR_kgm2,TWlistCR,'red',0.1)\n",
    "axCOMP.add_patch(CruisePoly)\n",
    "\n",
    "AppStallPoly = ConstraintPoly(WSlistAPP_kgm2,TWlistAPP,'grey',0.1)\n",
    "axCOMP.add_patch(AppStallPoly)\n",
    "\n",
    "axCOMP.legend(['Turn','Climb','T/O run','Cruise', 'APP Stall'])\n",
    "figCOMP.suptitle('Combined constraint diagram')\n",
    "\n",
    "\n",
    "\n"
   ]
  }
 ],
 "metadata": {
  "anaconda-cloud": {},
  "kernelspec": {
   "display_name": "Python [conda root]",
   "language": "python",
   "name": "conda-root-py"
  },
  "language_info": {
   "codemirror_mode": {
    "name": "ipython",
    "version": 3
   },
   "file_extension": ".py",
   "mimetype": "text/x-python",
   "name": "python",
   "nbconvert_exporter": "python",
   "pygments_lexer": "ipython3",
   "version": "3.5.2"
  }
 },
 "nbformat": 4,
 "nbformat_minor": 1
}
