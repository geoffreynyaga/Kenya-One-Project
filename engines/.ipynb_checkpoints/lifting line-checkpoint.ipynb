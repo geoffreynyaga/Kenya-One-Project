{
 "cells": [
  {
   "cell_type": "code",
   "execution_count": 1,
   "metadata": {},
   "outputs": [],
   "source": [
    "import numpy as np\n",
    "import matplotlib.pyplot as plt\n",
    "import sys\n",
    "import os\n",
    "import math"
   ]
  },
  {
   "cell_type": "code",
   "execution_count": 2,
   "metadata": {
    "collapsed": true
   },
   "outputs": [],
   "source": [
    "N = 9 # (number of segments - 1)\n",
    "S = 24.3919 # m^2\n",
    "AR = 7.8 # Aspect ratio\n",
    "taper = 0.45 # Taper ratio\n",
    "alpha_twist = -2 # Twist angle (deg)\n",
    "i_w = 1 # wing setting angle (deg)\n",
    "a_2d = 6.8754 # lift curve slope (1/rad)\n",
    "alpha_0 = -4.2 # zero-lift angle of attack (deg)"
   ]
  },
  {
   "cell_type": "code",
   "execution_count": 3,
   "metadata": {},
   "outputs": [
    {
     "name": "stdout",
     "output_type": "stream",
     "text": [
      "[  6.79190465e+00   6.48075998e+00   5.97270071e+00   5.28316394e+00\n",
      "   4.43310092e+00   3.44834036e+00   2.35880373e+00   1.19759604e+00\n",
      "   4.22299899e-16] z\n",
      "[ 0.00742436  0.00843771  0.00980797  0.01157014  0.01374365  0.01633069\n",
      "  0.01931528  0.02266299  0.02632145] LHS\n"
     ]
    }
   ],
   "source": [
    "b = math.sqrt(AR*S) # wing span (m)\n",
    "MAC = S/b # Mean Aerodynamic Chord (m)\n",
    "Croot = (1.5*(1+taper)*MAC)/(1+taper+taper**2) # root chord (m)\n",
    "# theta = np.arange(math.pi/(2*N), math.pi/2, math.pi/(2*(N)))\n",
    "theta = np.linspace((math.pi/(2*N)), (math.pi/2),N,endpoint=True)\n",
    "# theta = theta.reshape(2,1)\n",
    "# print(theta,\"theta\")\n",
    "# alpha =np.arange(i_w+alpha_twist,i_w ,-alpha_twist/(N))\n",
    "alpha = np.linspace(i_w+alpha_twist,i_w ,N)\n",
    "# print(alpha,\"alpha\")\n",
    "z = (b/2)*np.cos(theta)\n",
    "print(z,\"z\")\n",
    "c = Croot * (1 - (1-taper)* np.cos(theta)) # Mean Aerodynamics\n",
    "# print(c,\"c\")\n",
    "mu = c * a_2d / (4 * b)\n",
    "# print(mu,\"mu\")\n",
    "\n",
    "LHS = (mu * (np.array(alpha)-alpha_0)/57.3)#.reshape((N-1),1)# Left Hand Side\n",
    "print(LHS,\"LHS\")"
   ]
  },
  {
   "cell_type": "code",
   "execution_count": 4,
   "metadata": {},
   "outputs": [
    {
     "name": "stdout",
     "output_type": "stream",
     "text": [
      "[  1.65235986e-02  -8.52278380e-04   7.86287867e-04  -5.67830438e-05\n",
      "   1.50860848e-04  -3.91004744e-05   5.50999202e-05  -2.98682065e-05\n",
      "   3.06239483e-05] ans\n"
     ]
    }
   ],
   "source": [
    "RHS = []\n",
    "for i in range(1,2*N+1,2):\n",
    "  RHS_iter = (np.sin(i*theta)*(1+(mu*i)/(np.sin(list(theta)))))#.reshape(1,N)\n",
    "  # print(RHS_iter,\"RHS_iter shape\")\n",
    "  RHS.append(RHS_iter)\n",
    " \n",
    "test = (np.asarray(RHS))\n",
    "x = np.transpose(test)\n",
    "inv_RHS = np.linalg.inv(x)\n",
    "ans = np.matmul(inv_RHS,LHS)\n",
    "print(ans,\"ans\")"
   ]
  },
  {
   "cell_type": "code",
   "execution_count": 7,
   "metadata": {},
   "outputs": [
    {
     "data": {
      "image/png": "[encoded data removed]",
      "text/plain": [
       "<matplotlib.figure.Figure at 0x1c3b1214a90>"
      ]
     },
     "metadata": {},
     "output_type": "display_data"
    }
   ],
   "source": [
    "mynum = np.divide((4*b),c)\n",
    "test = ((np.sin((1)*theta))*ans[0]*mynum)\n",
    "test1 = ((np.sin((3)*theta))*ans[1]*mynum)\n",
    "test2 = ((np.sin((5)*theta))*ans[2]*mynum)\n",
    "test3 = ((np.sin((7)*theta))*ans[3]*mynum)\n",
    "test4 = ((np.sin((9)*theta))*ans[4]*mynum)\n",
    "test5= ((np.sin((11)*theta))*ans[5]*mynum)\n",
    "test6 = ((np.sin((13)*theta))*ans[6]*mynum)\n",
    "test7 = ((np.sin((15)*theta))*ans[7]*mynum)\n",
    "test8 = ((np.sin((17)*theta))*ans[8]*mynum)\n",
    "\n",
    "# print (test,\"test\")\n",
    "# print (np.sum(test))\n",
    "\n",
    "# print (test1,\"test1\")\n",
    "# print (np.sum(test1))\n",
    "\n",
    "# print (test2,\"test2\")\n",
    "# print (np.sum(test2))\n",
    "\n",
    "# print (test3,\"test3\")\n",
    "# print (np.sum(test3))\n",
    "# print ('----------------')\n",
    "CL = test+test1+test2+test3+test4+test5+test6+test7+test8\n",
    "# print (CL,\"CL\")\n",
    "\n",
    "CL1 = np.append (0,CL)\n",
    "# print (CL1,\"CL1\")\n",
    "\n",
    "y_s=[b/2 , z[0], z[1], z[2] ,z[3], z[4] ,z[5], z[6], z[7] ,z[8]]\n",
    "# print(y_s)\n",
    "\n",
    "plt.plot(y_s,CL1)\n",
    "plt.title('Lift distribution')\n",
    "plt.xlabel('Semi-span location (m)')\n",
    "plt.ylabel ('Lift coefficient')\n",
    "plt.show()"
   ]
  },
  {
   "cell_type": "code",
   "execution_count": 12,
   "metadata": {},
   "outputs": [
    {
     "name": "stdout",
     "output_type": "stream",
     "text": [
      "0.40490124447\n"
     ]
    }
   ],
   "source": [
    "CL_wing = math.pi * AR * ans[0]\n",
    "print (CL_wing)"
   ]
  },
  {
   "cell_type": "code",
   "execution_count": null,
   "metadata": {
    "collapsed": true
   },
   "outputs": [],
   "source": []
  }
 ],
 "metadata": {
  "kernelspec": {
   "display_name": "Python [conda root]",
   "language": "python",
   "name": "conda-root-py"
  },
  "language_info": {
   "codemirror_mode": {
    "name": "ipython",
    "version": 3
   },
   "file_extension": ".py",
   "mimetype": "text/x-python",
   "name": "python",
   "nbconvert_exporter": "python",
   "pygments_lexer": "ipython3",
   "version": "3.5.2"
  }
 },
 "nbformat": 4,
 "nbformat_minor": 1
}
