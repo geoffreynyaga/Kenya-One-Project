{
 "cells": [
  {
   "cell_type": "code",
   "execution_count": 14,
   "metadata": {
    "collapsed": true
   },
   "outputs": [],
   "source": [
    " # KENYA ONE PROJECT #\n",
    "\t\t # Matlab code to solve for CL of the wing and elliptical#\n",
    "         # lift distribution with flaps .#\n",
    "                #-------------------------------------------------------#\n",
    "\t\t\t\t # done by Geoffrey Nyaga Kinyua #\n",
    "                #-------------------------------------------------------#\n",
    "import numpy as np\n",
    "import math\n",
    "import matplotlib.pylab as plt\n",
    "\n",
    "N = 9 # (number of segments - 1)\n",
    "S = 24.3919 # m^2\n",
    "AR = 7.8 # Aspect ratio\n",
    "taper = 0.45 # Taper ratio\n",
    "alpha_twist = -2 # Twist angle (deg)\n",
    "a_2d = 6.8754 # lift curve slope (1/rad)\n",
    "alpha_0 = -4.2 # zero-lift angle of attack (deg)\n",
    "a_0 = -4.2 # flap up zero-lift angle of attack (deg)\n",
    "\n",
    "i_w = 1 # wing setting angle (deg)\n",
    "fuselage_angle = 10\n",
    "i_wing = fuselage_angle + i_w ; # takeoff_wing_setting_angle (deg)(fuselage angle+wing incidence)"
   ]
  },
  {
   "cell_type": "code",
   "execution_count": 15,
   "metadata": {},
   "outputs": [],
   "source": [
    "cfc=0.20\n",
    "df=14\n",
    "doflap=-1.15*cfc*df\n",
    "bf_b=0.6; #flap-to-wing span ratio"
   ]
  },
  {
   "cell_type": "code",
   "execution_count": 18,
   "metadata": {},
   "outputs": [
    {
     "name": "stdout",
     "output_type": "stream",
     "text": [
      "1.58755864561 CL_wing\n"
     ]
    }
   ],
   "source": [
    "b = math.sqrt(AR*S) # wing span (m)\n",
    "a_0_fd = doflap+a_0 # flap down zero-lift angle of attack (deg)\n",
    "MAC = S/b # Mean Aerodynamic Chord (m)\n",
    "Croot = (1.5*(1+taper)*MAC)/(1+taper+taper**2) # root chord (m)\n",
    "theta = np.linspace((math.pi/(2*N)), (math.pi/2),N,endpoint=True)\n",
    "alpha = np.linspace(i_wing+alpha_twist,i_wing ,N)\n",
    "\n",
    "# segment’s angle of attack\n",
    "for i in range (1,N):\n",
    "    if (i/N)>(1-bf_b):\n",
    "        alpha_0=a_0_fd #flap down zero lift AOA\n",
    "\n",
    "    else:\n",
    "        alpha_0=a_0 #flap up zero lift AOA\n",
    "    \n",
    "z = (b/2)*np.cos(theta)\n",
    "c = Croot * (1 - (1-taper)* np.cos(theta)) # Mean Aerodynamics\n",
    "mu = c * a_2d / (4 * b)\n",
    "LHS = (mu * (np.array(alpha)-alpha_0)/57.3)#.reshape((N-1),1)# Left Hand Side\n",
    "\n",
    "\n",
    "# Solving N equations to find coefficients A(i):\n",
    "RHS = []\n",
    "for i in range(1,2*N+1,2):\n",
    "    RHS_iter = (np.sin(i*theta)*(1+(mu*i)/(np.sin(list(theta)))))#.reshape(1,N)\n",
    "  # print(RHS_iter,\"RHS_iter shape\")\n",
    "    RHS.append(RHS_iter)\n",
    "\n",
    "test = (np.asarray(RHS))\n",
    "x = np.transpose(test)\n",
    "inv_RHS = np.linalg.inv(x)\n",
    "ans = np.matmul(inv_RHS,LHS)\n",
    "\n",
    "CL_wing = math.pi * AR * ans[0]\n",
    "print (CL_wing,\"CL_wing\")"
   ]
  },
  {
   "cell_type": "code",
   "execution_count": null,
   "metadata": {
    "collapsed": true
   },
   "outputs": [],
   "source": []
  }
 ],
 "metadata": {
  "kernelspec": {
   "display_name": "Python [conda root]",
   "language": "python",
   "name": "conda-root-py"
  },
  "language_info": {
   "codemirror_mode": {
    "name": "ipython",
    "version": 3
   },
   "file_extension": ".py",
   "mimetype": "text/x-python",
   "name": "python",
   "nbconvert_exporter": "python",
   "pygments_lexer": "ipython3",
   "version": "3.5.2"
  }
 },
 "nbformat": 4,
 "nbformat_minor": 1
}
