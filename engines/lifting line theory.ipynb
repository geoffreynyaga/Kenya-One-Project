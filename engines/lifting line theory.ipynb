{
 "cells": [
  {
   "cell_type": "code",
   "execution_count": null,
   "metadata": {
    "collapsed": true
   },
   "outputs": [],
   "source": [
    "# KENYA ONE PROJECT #\n",
    "   # Matlab code to solve for CL of the wing and elliptical#\n",
    "     #lift distribution without flaps .#\n",
    "          #--------------------------------------------------------------#\n",
    "\t\t\t\t # done by Geoffrey Nyaga Kinyua \n",
    "          #--------------------------------------------------------------#"
   ]
  },
  {
   "cell_type": "code",
   "execution_count": 1,
   "metadata": {
    "collapsed": true
   },
   "outputs": [],
   "source": [
    "import numpy as np\n",
    "import math\n",
    "import matplotlib.pylab as plt"
   ]
  },
  {
   "cell_type": "code",
   "execution_count": null,
   "metadata": {},
   "outputs": [],
   "source": [
    "N = 9 # (number of segments - 1)\n",
    "S = 24.3919 # m^2\n",
    "AR = 7.8 # Aspect ratio\n",
    "taper = 0.45 # Taper ratio\n",
    "alpha_twist = -2 # Twist angle (deg)\n",
    "i_w = 1 # wing setting angle (deg)\n",
    "a_2d = 6.8754 # lift curve slope (1/rad)\n",
    "alpha_0 = -4.2 # zero-lift angle of attack (deg)"
   ]
  },
  {
   "cell_type": "code",
   "execution_count": null,
   "metadata": {},
   "outputs": [],
   "source": [
    "b = np.sqrt(AR*S) # wing span (m)\n",
    "MAC = S/b # Mean Aerodynamic Chord (m)\n",
    "Croot = (1.5*(1+taper)*MAC)/(1+taper+taper**2) # root chord (m)\n",
    "theta = np.arange(np.pi/(2*N), np.pi/2, np.pi/(2*N))\n",
    "alpha = np.arange(i_w+alpha_twist,i_w ,-alpha_twist/(N-1))\n",
    "print(theta)"
   ]
  },
  {
   "cell_type": "code",
   "execution_count": null,
   "metadata": {},
   "outputs": [
    {
     "name": "stdout",
     "output_type": "stream",
     "text": [
      "[ 1.06683186  1.12458535  1.21888938  1.34687858  1.50466404  1.68745156\n",
      "  1.8896872   2.10522616]\n",
      "[ 0.1329425   0.14013941  0.15189104  0.16784032  0.18750265  0.21028058\n",
      "  0.23548204  0.26234127]\n",
      "[ 0.00742436  0.00843771  0.00980797  0.01157014  0.01374365  0.01633069\n",
      "  0.01931528  0.02266299]\n"
     ]
    }
   ],
   "source": [
    "# segment’s angle of attack\n",
    "z = (b/2)*np.cos(theta)\n",
    "c = Croot * (1 - (1-taper)* np.cos(theta)) # Mean Aerodynamics\n",
    "#Chord at each segment (m)\n",
    "mu = c * a_2d / (4 * b)\n",
    "LHS = mu * (alpha-alpha_0)/57.3 # Left Hand Side\n",
    "print(c)\n",
    "print(mu)\n",
    "print(LHS)"
   ]
  },
  {
   "cell_type": "code",
   "execution_count": null,
   "metadata": {},
   "outputs": [],
   "source": [
    ""
   ]
  },
  {
   "cell_type": "code",
   "execution_count": 6,
   "metadata": {},
   "outputs": [
    {
     "ename": "SyntaxError",
     "evalue": "invalid syntax (<ipython-input-6-bc02b539e0eb>, line 9)",
     "traceback": [
      "\u001b[0;36m  File \u001b[0;32m\"<ipython-input-6-bc02b539e0eb>\"\u001b[0;36m, line \u001b[0;32m9\u001b[0m\n\u001b[0;31m    A = B/np.transpose(LHS)\u001b[0m\n\u001b[0m    ^\u001b[0m\n\u001b[0;31mSyntaxError\u001b[0m\u001b[0;31m:\u001b[0m invalid syntax\n"
     ],
     "output_type": "error"
    }
   ],
   "source": [
    "# Solving N equations to find coefficients A(i):\n",
    "N=8\n",
    "\n",
    "for i,j in  zip (range(N),range(N)):\n",
    "    print(i)\n",
    "    B = np.sin((2*j-1) * theta[i]) * (1 + (mu[i] * (2*j-1)) / np.sin(theta[i])\n",
    "           \n",
    "    #print(B)   \n",
    "    A = B/np.transpose(LHS) \n",
    "    print(A)\n",
    "    \n",
    "    sum1 = 0 + (2*j-1) * A[j] * np.sin((2*j-1)* theta[i])\n",
    "    sum2 = 0 + A[j] * np.sin((2*j-1) * theta[i])\n",
    "    \n",
    "          \n",
    "CL = np.divide((4*b*sum2),c )\n",
    "#print(CL)"
   ]
  },
  {
   "cell_type": "code",
   "execution_count": null,
   "metadata": {},
   "outputs": [],
   "source": [
    "CL1=(0, CL[1], CL[2], CL[3], CL[4], CL[5], CL[6], CL[7], CL[8])\n",
    "        #y_s=(b/2, z[1], z[2], z[3], z[4], z[5], z[6], z[7], z[8], z[9])"
   ]
  },
  {
   "cell_type": "code",
   "execution_count": null,
   "metadata": {},
   "outputs": [],
   "source": [
    "# C = sin((2*j-1)  * (1 + (mu(i) * (2*j-1)) / sin(theta(i))\n",
    "a = [1,2,3,4]\n",
    "b= 2\n",
    "c = np.divide(a,b)\n",
    "print(c)"
   ]
  },
  {
   "cell_type": "code",
   "execution_count": null,
   "metadata": {},
   "outputs": [],
   "source": [
    "# Solving N equations to find coefficients A(i):\n",
    "for i=1:N\n",
    "for j=1:N\n",
    "B(i,j) = sin((2*j-1) * theta(i)) * (1 + (mu(i) * (2*j-1)) / sin(theta(i)))\n",
    "end\n",
    "end\n",
    "A=B\\transpose(LHS)\n",
    "for i = 1:N\n",
    "sum1(i) = 0\n",
    "sum2(i) = 0\n",
    "for j = 1 : N\n",
    "sum1(i) = sum1(i) + (2*j-1) * A(j)*sin((2*j-1)*theta(i))\n",
    "sum2(i) = sum2(i) + A(j)*sin((2*j-1)*theta(i))\n",
    "end\n",
    "end\n",
    "CL = 4*b*sum2 ./ c\n",
    "CL1=[0 CL(1) CL(2) CL(3) CL(4) CL(5) CL(6) CL(7) CL(8) CL(9)]\n",
    "y_s=[b/2 z(1) z(2) z(3) z(4) z(5) z(6) z(7) z(8) z(9)]\n",
    "\n",
    "plot(y_s,CL1,'-o')\n",
    "grid\n",
    "title('Lift distribution')\n",
    "xlabel('Semi-span location (m)')\n",
    "ylabel ('Lift coefficient')\n",
    "CL_wing = pi * AR * A(1)"
   ]
  },
  {
   "cell_type": "code",
   "execution_count": 25,
   "metadata": {},
   "outputs": [
    {
     "name": "stdout",
     "output_type": "stream",
     "text": [
      "Please input root chord   2\n",
      "Please input tip chord   2\n",
      "Please input span   12\n",
      "Please input Root twist angle in degrees   2\n",
      "Please input tip twist angle in degrees   2\n",
      "Please input root lift curve slope in units/ radian   6.3\n",
      "Please input lift curve slope at the tip, in units/radian   6.3\n",
      "Please input angle of attack, in degrees   5\n",
      "Please input zero-lift angle at the root   -4.2\n",
      "Please input zero lift angle at the tip   -4.2\n"
     ]
    }
   ],
   "source": [
    "# % Lifting Line code in MATLAB\n",
    "# % Coded by L. sankar, December 1998\n",
    "# %\n",
    "\n",
    "\n",
    "\n",
    "croot=float(input('Please input root chord   '))\n",
    "ctip=float(input('Please input tip chord   '))\n",
    "span=float(input('Please input span   '))\n",
    "thetaroot=float(float(input('Please input Root twist angle in degrees   ')))\n",
    "thetatip=float(input('Please input tip twist angle in degrees   '))\n",
    "a0root=float(input('Please input root lift curve slope in units/ radian   '))\n",
    "a0tip=float(input('Please input lift curve slope at the tip, in units/radian   '))\n",
    "alpha=float(input('Please input angle of attack, in degrees   '))\n",
    "alpha0root=float(input('Please input zero-lift angle at the root   '))\n",
    "alpha0tip=float(input('Please input zero lift angle at the tip   '))"
   ]
  },
  {
   "cell_type": "code",
   "execution_count": 74,
   "metadata": {},
   "outputs": [],
   "source": [
    "from math import sin,atan,cos\n",
    "import numpy as np\n",
    "\n",
    "thetaroot = thetaroot / 57.3\n",
    "thetatip=(thetatip) * atan(1.)/45.\n",
    "alpha = float(alpha) * atan(1.)/45.\n",
    "alpha0root= float(alpha0root) * atan(1.)/45.\n",
    "alpha0tip=float(alpha0tip) * atan(1.)/45."
   ]
  },
  {
   "cell_type": "code",
   "execution_count": 89,
   "metadata": {},
   "outputs": [
    {
     "name": "stdout",
     "output_type": "stream",
     "text": [
      "[0]\n"
     ]
    },
    {
     "ename": "ValueError",
     "evalue": "could not broadcast input array from shape (10) into shape (1)",
     "traceback": [
      "\u001b[0;31m---------------------------------------------------------------------------\u001b[0m",
      "\u001b[0;31mValueError\u001b[0m                                Traceback (most recent call last)",
      "\u001b[0;32m<ipython-input-89-d401f174b8b4>\u001b[0m in \u001b[0;36m<module>\u001b[0;34m()\u001b[0m\n\u001b[1;32m     19\u001b[0m     \u001b[0mc\u001b[0m\u001b[1;33m[\u001b[0m\u001b[0mi\u001b[0m\u001b[1;33m]\u001b[0m \u001b[1;33m=\u001b[0m \u001b[0mcroot\u001b[0m\u001b[1;33m+\u001b[0m\u001b[1;33m(\u001b[0m\u001b[0mctip\u001b[0m\u001b[1;33m-\u001b[0m\u001b[0mcroot\u001b[0m\u001b[1;33m)\u001b[0m\u001b[1;33m*\u001b[0m\u001b[0my\u001b[0m\u001b[1;33m[\u001b[0m\u001b[0mi\u001b[0m\u001b[1;33m]\u001b[0m\u001b[1;33m*\u001b[0m\u001b[1;36m2.\u001b[0m\u001b[1;33m/\u001b[0m\u001b[0mspan\u001b[0m\u001b[1;33m\u001b[0m\u001b[0m\n\u001b[1;32m     20\u001b[0m     \u001b[0malp\u001b[0m\u001b[1;33m[\u001b[0m\u001b[0mi\u001b[0m\u001b[1;33m]\u001b[0m \u001b[1;33m=\u001b[0m \u001b[0malpha\u001b[0m\u001b[1;33m+\u001b[0m\u001b[0mthetaroot\u001b[0m\u001b[1;33m-\u001b[0m\u001b[1;33m(\u001b[0m\u001b[0malpha0root\u001b[0m\u001b[1;33m+\u001b[0m\u001b[1;33m(\u001b[0m\u001b[0malpha0tip\u001b[0m\u001b[1;33m-\u001b[0m\u001b[0malpha0root\u001b[0m\u001b[1;33m+\u001b[0m\u001b[0mthetaroot\u001b[0m\u001b[1;33m-\u001b[0m\u001b[0mthetatip\u001b[0m\u001b[1;33m)\u001b[0m\u001b[1;33m*\u001b[0m\u001b[0my\u001b[0m\u001b[1;33m[\u001b[0m\u001b[0mi\u001b[0m\u001b[1;33m]\u001b[0m\u001b[1;33m*\u001b[0m\u001b[1;36m2.\u001b[0m\u001b[1;33m/\u001b[0m\u001b[0mspan\u001b[0m\u001b[1;33m)\u001b[0m\u001b[1;33m\u001b[0m\u001b[0m\n\u001b[0;32m---> 21\u001b[0;31m     \u001b[0ma\u001b[0m\u001b[1;33m[\u001b[0m\u001b[0mi\u001b[0m\u001b[1;33m]\u001b[0m \u001b[1;33m=\u001b[0m  \u001b[0ma0root\u001b[0m \u001b[1;33m+\u001b[0m\u001b[1;33m(\u001b[0m\u001b[1;33m(\u001b[0m\u001b[0ma0tip\u001b[0m\u001b[1;33m-\u001b[0m\u001b[0ma0root\u001b[0m\u001b[1;33m)\u001b[0m\u001b[1;33m*\u001b[0m \u001b[0my\u001b[0m\u001b[1;33m[\u001b[0m\u001b[0mi\u001b[0m\u001b[1;33m]\u001b[0m \u001b[1;33m*\u001b[0m \u001b[1;36m2\u001b[0m \u001b[1;33m/\u001b[0m \u001b[0mspan\u001b[0m \u001b[1;33m)\u001b[0m\u001b[1;33m\u001b[0m\u001b[0m\n\u001b[0m\u001b[1;32m     22\u001b[0m \u001b[1;33m\u001b[0m\u001b[0m\n\u001b[1;32m     23\u001b[0m \u001b[1;33m\u001b[0m\u001b[0m\n",
      "\u001b[0;31mValueError\u001b[0m: could not broadcast input array from shape (10) into shape (1)"
     ],
     "output_type": "error"
    }
   ],
   "source": [
    "n = 10\n",
    "theta=np.zeros([1,n])\n",
    "y=np.zeros([1,n])\n",
    "c=np.zeros([1,n])\n",
    "cl=np.zeros([1,n])\n",
    "alp=np.zeros([1,n])\n",
    "a=np.zeros([1,n])\n",
    "rhs=np.zeros([n,1])\n",
    "b=np.zeros([n,n])\n",
    "a=np.zeros([n,1])\n",
    "# %\n",
    "# % Define properties at n span stations\n",
    "# %\n",
    "pi = 4 * atan(1)\n",
    "print([i])\n",
    "for i in range(n):\n",
    "    theta[i] =  i * pi/(2 * n)\n",
    "    y[i] = (span) * 0.5 * np.cos(theta[i])\n",
    "    c[i] = croot+(ctip-croot)*y[i]*2./span\n",
    "    alp[i] = alpha+thetaroot-(alpha0root+(alpha0tip-alpha0root+thetaroot-thetatip)*y[i]*2./span)\n",
    "    a[i] =  a0root +((a0tip-a0root)* y[i] * 2 / span )\n",
    "  \n",
    "    \n",
    "    print(a)"
   ]
  },
  {
   "cell_type": "code",
   "execution_count": 63,
   "metadata": {
    "collapsed": true
   },
   "outputs": [],
   "source": [
    "# pi = 4. * atan(1.)\n",
    "# # % Set up 2n x 2n system of equations for A1, A3 , ... A2n-1\n",
    "# for j=1:n\n",
    "#    mu = c(j)* a(j) / (4. * span)\n",
    "# rhs(j,1)=alp(j)*sin(theta(j))*c(j)*a(j)/(4*span)\n",
    "# for i=1:n\n",
    "# l = 2 * i-1\n",
    "# b(j,i)=sin(l*theta(j))*(mu*l+sin(theta(j)))\n",
    "\n",
    "# # %\n",
    "# # % Solve for the Fourier Coefficients\n",
    "# # %\n",
    "# a=b\\rhs\n",
    "# # % Compute wing area and aspect ratio\n",
    "# S=(croot+ctip)/2.*span\n",
    "# AR=span*span/S\n",
    "# # % Compute CL\n",
    "# CL=a(1)*pi*AR\n",
    "# # % Compute CD\n",
    "# CD0=1.\n",
    "# for i=2:n\n",
    "# CD0=CD0+(2.*i-1)*a(i)*a(i)/(a(1)*a(1))\n",
    "# end\n",
    "# CD = pi * AR * a(1) * a(1) * CD0\n",
    "# # % Compute spanwise load distribution, normalized by Freestream velocity times Span\n",
    "# gamma=np.zeros([1,n])\n",
    "# for i=1:n\n",
    "# gamma(i)=0.0\n",
    "# y(i)=y(i)*2./span\n",
    "# for j=1:n\n",
    "# gamma(i)=gamma(i)+2.*a(j)*sin((2*j-1)*theta(i))\n",
    "# end\n",
    "# gamma(i) = gamma(i) *  span\n",
    "# cl(i) = gamma(i)/(0.5*c(i))\n",
    "# end\n",
    "# cl\n",
    "# # %\n",
    "# # % Plot the circulation distribution from root to tip with labels\n",
    "# # %\n",
    "# plot(y,cl)\n",
    "# xlabel('y/Semi-Span')\n",
    "# ylabel('Cl')\n",
    "# title('Sectional Lift Coefficient distribution')"
   ]
  },
  {
   "cell_type": "code",
   "execution_count": null,
   "metadata": {
    "collapsed": true
   },
   "outputs": [],
   "source": [
    ""
   ]
  }
 ],
 "metadata": {
  "anaconda-cloud": {},
  "kernelspec": {
   "display_name": "Python [conda root]",
   "language": "python",
   "name": "conda-root-py"
  },
  "language_info": {
   "codemirror_mode": {
    "name": "ipython",
    "version": 3
   },
   "file_extension": ".py",
   "mimetype": "text/x-python",
   "name": "python",
   "nbconvert_exporter": "python",
   "pygments_lexer": "ipython3",
   "version": "3.5.2"
  }
 },
 "nbformat": 4,
 "nbformat_minor": 0
}
