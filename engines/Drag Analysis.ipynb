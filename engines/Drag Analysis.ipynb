{
 "cells": [
  {
   "cell_type": "code",
   "execution_count": 30,
   "metadata": {
    "collapsed": true
   },
   "outputs": [],
   "source": [
    "from math import sin,cos,pi,sqrt,log\n",
    "import numpy as np\n",
    "import matplotlib.pyplot as plt"
   ]
  },
  {
   "cell_type": "code",
   "execution_count": 31,
   "metadata": {
    "collapsed": false
   },
   "outputs": [],
   "source": [
    "from wing import reducedS,cruiseSpeed,rhoSL,reducedWingspan,wing1,wing,reducedRootChord,fuselageWidth\n"
   ]
  },
  {
   "cell_type": "code",
   "execution_count": 32,
   "metadata": {
    "collapsed": true
   },
   "outputs": [],
   "source": [
    "#SKIN FRICTION DRAG OF A WING"
   ]
  },
  {
   "cell_type": "code",
   "execution_count": 43,
   "metadata": {
    "collapsed": false
   },
   "outputs": [
    {
     "name": "stdout",
     "output_type": "stream",
     "text": [
      "357.175247873246 Swet 1\n",
      "14813234.453218218 root airfoil RE\n",
      "11850587.562574575 tip airfoil RE\n",
      "0.04584484154972503 upper root surface turbulent BL\n",
      "0.05966483463762676 upper tip surface turbulent BL\n",
      "0.05323903347814338 lower tip surface turbulent BL\n",
      "\n",
      "\n",
      "0.0017997338599490007 skin friction, root airfoil upper part\n",
      "0.0017997338599490007 skin friction, root airfoil upper part\n",
      "0.0017997338599490007 skin friction, root airfoil \n",
      "0.0015291030953620904 skin friction, tip airfoil upper part\n",
      "0.0017997338599490007 skin friction, tip airfoil upper part\n",
      "0.0016512664318730466 skin friction, tip airfoil \n",
      "0.0017255001459110238 Wing skin friction \n",
      "\n",
      "\n",
      "358.2300448270858 ft^s Swet of reduced wing\n",
      "0.00370347507662056 Skin friction Drag Coefficient \n",
      "\n",
      "\n",
      "Skin friction Drag force\n",
      "63.396715088671904 lbf\n",
      "Correct AF!!!\n",
      "\n",
      "\n",
      "0.00036540632134624424 Cf for 100% laminar flow\n",
      "0.002873164474614093 Cf for 100% turbulent flow\n"
     ]
    }
   ],
   "source": [
    "wingSpan = 38.30\n",
    "\n",
    "#on a standard day (OAT(Outside air Temp)  = 518.67 R or 273.15 K).\n",
    "OAT = 518.67 #R\n",
    "viscosity = 3.17*(10**-11)*OAT**1.5*(734.7/(OAT+216))\n",
    "XtrCr = 0.45 #    % where laminar layer gets disrupted GET FROM THE AIRFOIL DATA OR XFRL5 Xtr/Cr\n",
    "XtrCtUpper = 0.6\n",
    "XtrCtLower = 0.5\n",
    "#def skinFrictionDrag():\n",
    "Swet = 1.07*reducedS *2 #quick way of calculating wetted area(better method down) #Gud page 681 the value 7% is given\n",
    "print (Swet,\"Swet 1\")\n",
    "#Re of root airfoil\n",
    "rootRe = (rhoSL*cruiseSpeed*wing1.rootChord())/(viscosity)\n",
    "print (rootRe,\"root airfoil RE\")\n",
    "\n",
    "#Re of tip airfoil\n",
    "tipRe = (rhoSL*cruiseSpeed*wing1.tipChord())/(viscosity)\n",
    "print (tipRe,\"tip airfoil RE\")\n",
    "\n",
    "#fictitious Turbulent BL on Root Airfoil - Upper Surface\n",
    "\n",
    "X0CrUpper = 36.9*XtrCr**0.625*(1/rootRe)**0.375\n",
    "print (X0CrUpper,\"upper root surface turbulent BL\")  \n",
    "X0CrLower = X0CrUpper  #Here we have assumed that the lower part of the root airfoil has tghe same turbulent point on Xtr/Cr\n",
    "\n",
    "#fictitious Turbulent BL on tip Airfoil - Upper Surface\n",
    "X0CtUpper = 36.9*XtrCtUpper**0.625*(1/tipRe)**0.375\n",
    "print (X0CtUpper,\"upper tip surface turbulent BL\") \n",
    "#fictitious Turbulent BL on tip Airfoil - lower Surface\n",
    "X0CtLower = 36.9*XtrCtLower**0.625*(1/tipRe)**0.375\n",
    "print (X0CtLower,\"lower tip surface turbulent BL\") \n",
    "print(\"\\n\")  \n",
    "#Skin Friction for Root Airfoil - Upper Surface\n",
    "CfRootUpper = (0.074/rootRe**0.2)*( 1-(XtrCr-X0CrUpper))**0.8\n",
    "print (CfRootUpper,\"skin friction, root airfoil upper part\")\n",
    "#Skin Friction for Root Airfoil - Lower Surface\n",
    "CfRootLower = CfRootUpper #Here we have assumed that the lower part of the root airfoil has tghe same turbulent point on Xtr/Cr\n",
    "print (CfRootUpper,\"skin friction, root airfoil upper part\")\n",
    "#Average Skin friction for root Airfoil\n",
    "CfRoot = 0.5*(CfRootLower+CfRootUpper)\n",
    "print (CfRoot,\"skin friction, root airfoil \")\n",
    "\n",
    "#Skin Friction for Tip Airfoil - Upper Surface\n",
    "CfTipUpper = (0.074/tipRe**0.2)*( 1-(XtrCtUpper-X0CtUpper))**0.8\n",
    "print (CfTipUpper,\"skin friction, tip airfoil upper part\")\n",
    "#Skin Friction for Tip Airfoil - Lower Surface\n",
    "CfTipLower = (0.074/tipRe**0.2)*( 1-(XtrCtLower-X0CtLower))**0.8\n",
    "print (CfRootUpper,\"skin friction, tip airfoil upper part\")\n",
    "#Average Skin friction for root Airfoil\n",
    "CfTip = 0.5*(CfTipLower+CfTipUpper)\n",
    "print (CfTip,\"skin friction, tip airfoil \")\n",
    "\n",
    "#Average Skin friction for wing\n",
    "Cf = 0.5*(CfTip+CfRoot)\n",
    "print (Cf,\"Wing skin friction \")\n",
    "print(\"\\n\")\n",
    "Swet = 2*1.07*((0.5*(reducedRootChord+wing1.tipChord()))*(wing1.wingSpan() - fuselageWidth)) #Gud page 681 the value 7% is given\n",
    "print(Swet,\"ft^s Swet of reduced wing\")\n",
    "\n",
    "#Skin friction Drag Coefficient for Complete Wing\n",
    "CDf = (Swet/reducedS)*Cf #Here i dont know if the Sref Gudmundsson was referring to is the reduced Sref or the original Sref.\n",
    "                    #Ive used the reduced area\n",
    "print(CDf,\"Skin friction Drag Coefficient \")\n",
    "\n",
    "#Skin friction Drag Force for Complete Wing\n",
    "Df = 0.5*rhoSL*cruiseSpeed**2*Swet*Cf\n",
    "print(\"\\n\")\n",
    "print(\"Skin friction Drag force\")\n",
    "print(Df,\"lbf\")\n",
    "''' \n",
    "this is the total flat plate skin friction drag for the wing only at  cruise. Theres no account of the fuselage,airfoil shape or control surfaces.\n",
    "'''\n",
    "print (\"Correct AF!!!\")\n",
    "print(\"\\n\")\n",
    "\n",
    "#skin friction coefficient for 100% laminar flow\n",
    "CfLaminarRoot = 1.328/(sqrt(rootRe))\n",
    "CfLaminarTip = 1.328/(sqrt(tipRe))\n",
    "CfLaminar = 0.5*(CfLaminarRoot+CfLaminarTip)\n",
    "print(CfLaminar,\"Cf for 100% laminar flow\")\n",
    "\n",
    "#skin friction coefficient for 100% turbulent flow\n",
    "CfTurbulentRoot = 0.455/(log(rootRe,10))**2.58\n",
    "CfTurbulentTip = 0.455/(log(tipRe,10))**2.58\n",
    "CfTurbulent = 0.5*(CfTurbulentRoot+CfTurbulentTip)\n",
    "print(CfTurbulent,\"Cf for 100% turbulent flow\")\n",
    "\n",
    "#Make a TABLE like in Gudmundsson 684"
   ]
  },
  {
   "cell_type": "code",
   "execution_count": null,
   "metadata": {
    "collapsed": false
   },
   "outputs": [],
   "source": []
  },
  {
   "cell_type": "code",
   "execution_count": null,
   "metadata": {
    "collapsed": true
   },
   "outputs": [],
   "source": []
  },
  {
   "cell_type": "code",
   "execution_count": null,
   "metadata": {
    "collapsed": true
   },
   "outputs": [],
   "source": []
  },
  {
   "cell_type": "code",
   "execution_count": null,
   "metadata": {
    "collapsed": true
   },
   "outputs": [],
   "source": []
  },
  {
   "cell_type": "code",
   "execution_count": null,
   "metadata": {
    "collapsed": true
   },
   "outputs": [],
   "source": []
  }
 ],
 "metadata": {
  "kernelspec": {
   "display_name": "Python [conda root]",
   "language": "python",
   "name": "conda-root-py"
  },
  "language_info": {
   "codemirror_mode": {
    "name": "ipython",
    "version": 3
   },
   "file_extension": ".py",
   "mimetype": "text/x-python",
   "name": "python",
   "nbconvert_exporter": "python",
   "pygments_lexer": "ipython3",
   "version": "3.5.2"
  }
 },
 "nbformat": 4,
 "nbformat_minor": 2
}
