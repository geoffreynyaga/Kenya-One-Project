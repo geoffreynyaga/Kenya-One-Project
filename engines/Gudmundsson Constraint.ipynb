{
 "cells": [
  {
   "cell_type": "code",
   "execution_count": null,
   "metadata": {
    "collapsed": true,
    "deletable": true,
    "editable": true
   },
   "outputs": [],
   "source": [
    ""
   ]
  },
  {
   "cell_type": "code",
   "execution_count": 1,
   "metadata": {
    "collapsed": true,
    "deletable": true,
    "editable": true
   },
   "outputs": [],
   "source": [
    "import numpy as np\n",
    "import matplotlib.pyplot as plt\n",
    "import math"
   ]
  },
  {
   "cell_type": "code",
   "execution_count": null,
   "metadata": {
    "collapsed": false,
    "deletable": true,
    "editable": true
   },
   "outputs": [],
   "source": [
    ""
   ]
  },
  {
   "cell_type": "code",
   "execution_count": null,
   "metadata": {
    "collapsed": false
   },
   "outputs": [],
   "source": [
    ""
   ]
  },
  {
   "cell_type": "code",
   "execution_count": 4,
   "metadata": {
    "collapsed": true,
    "deletable": true,
    "editable": true
   },
   "outputs": [],
   "source": [
    "grossWeight = 2000\n",
    "cruiseAltitude = 8000 #ft\n",
    "cruiseSpeed = 150\n",
    "gForce = 2\n",
    "V_ROC = 80\n",
    "ROC = 1500\n",
    "vLof = 70\n",
    "groundRun = 900\n",
    "serviceCeiling = 20000"
   ]
  },
  {
   "cell_type": "code",
   "execution_count": 5,
   "metadata": {
    "collapsed": false,
    "deletable": true,
    "editable": true
   },
   "outputs": [
    {
     "name": "stdout",
     "output_type": "stream",
     "text": [
      "Oswald Span Efficiency, e = 0.7831239342794879\n",
      "lift induced drag, k = 0.045162411188559015\n",
      "air density at cruise altitude, rho = 0.0018691225702070155\n",
      "dynamic pressure at altitude = 59.9149482826943\n"
     ]
    }
   ],
   "source": [
    "AR=9\n",
    "cdMin=0.025\n",
    "wsInitial = 10 #lb/f**2\n",
    "wsfromsizing = 23\n",
    "rhoSL = 0.002378\n",
    "g = 32.174\n",
    "CDto = 0.04\n",
    "CLto = 0.5\n",
    "groundFriction = 0.04\n",
    "propEff = 0.8\n",
    "\n",
    "def oswaldEff (AR):\n",
    "    e= (1.78*(1-(0.045*AR**0.68)))-0.64\n",
    "    return e\n",
    "\n",
    "e = oswaldEff(AR)\n",
    "print('Oswald Span Efficiency, e = ' +str(e))\n",
    "\n",
    "k = 1/(math.pi * AR * e)\n",
    "print ('lift induced drag, k = ' +str(k) )\n",
    "\n",
    "#dynamic pressure at altitude\n",
    "\n",
    "def rhoAlt(cruiseAltitude):\n",
    "    rhoalt = rhoSL*(1-0.0000068756*cruiseAltitude)**4.2561\n",
    "    return rhoalt\n",
    "rhoCruise = rhoAlt(cruiseAltitude)\n",
    "print ('air density at cruise altitude, rho = ' +str(rhoCruise))\n",
    "\n",
    "qAltitude = 0.5*rhoCruise*(1.688*cruiseSpeed)**2\n",
    "print('dynamic pressure at altitude = ' +str(qAltitude))\n",
    "\n",
    "#Gag Ferrar Model\n",
    "def gagFerrar(bhp):\n",
    "    normBhp=bhp/(1.132*(rhoCruise/rhoSL)-0.132)\n",
    "    return normBhp"
   ]
  },
  {
   "cell_type": "code",
   "execution_count": 6,
   "metadata": {
    "collapsed": false,
    "deletable": true,
    "editable": true
   },
   "outputs": [
    {
     "name": "stdout",
     "output_type": "stream",
     "text": [
      "[10 11 12 13 14 15 16 17 18 19 20 21 22 23 24 25 26 27 28 29]\n"
     ]
    }
   ],
   "source": [
    "WS = np.arange(10,30)\n",
    "print (WS)"
   ]
  },
  {
   "cell_type": "code",
   "execution_count": null,
   "metadata": {
    "collapsed": true,
    "deletable": true,
    "editable": true
   },
   "outputs": [],
   "source": [
    ""
   ]
  },
  {
   "cell_type": "code",
   "execution_count": 7,
   "metadata": {
    "collapsed": false,
    "deletable": true,
    "editable": true,
    "scrolled": true
   },
   "outputs": [
    {
     "name": "stdout",
     "output_type": "stream",
     "text": [
      "0.0012669820284852995\n"
     ]
    },
    {
     "data": {
      "image/png": "[encoded data removed]",
      "text/plain": [
       "<matplotlib.figure.Figure at 0x21751289a90>"
      ]
     },
     "metadata": {},
     "output_type": "display_data"
    }
   ],
   "source": [
    "twTurn = qAltitude*( (cdMin/WS)+ k*(gForce/ qAltitude)**2 *(WS) )\n",
    "\n",
    "qROC = 0.5*rhoSL*(V_ROC*1.688)**2\n",
    "Vv = ROC/60\n",
    "twROC = ( (Vv/(V_ROC*1.688)) + (qROC*cdMin/WS)+(k*WS/qROC))\n",
    "\n",
    "qVlof = 0.5*rhoSL*(vLof*1.688/math.sqrt(2))**2\n",
    "twVlof = ((vLof*1.688)**2/(2*g*groundRun))+(qVlof*CDto/WS)+(groundFriction*(1-(qVlof*CLto/WS)) ) \n",
    "\n",
    "rhoCeiling = rhoAlt(serviceCeiling)\n",
    "print(rhoCeiling)\n",
    "twCruise = qAltitude*cdMin*(1/WS) + (k)\n",
    "\n",
    "twCeiling = (1.667/(np.sqrt((2*WS/rhoCeiling)*math.sqrt(k/3*cdMin))))+((k*cdMin/3)*4)\n",
    "\n",
    "\n",
    "plt.plot(WS,twTurn)\n",
    "plt.plot(WS,twROC)\n",
    "plt.plot(WS,twVlof)\n",
    "plt.plot(WS,twCruise)\n",
    "plt.plot(WS,twCeiling)\n",
    "plt.axvline(x=wsfromsizing)\n",
    "plt.show()"
   ]
  },
  {
   "cell_type": "code",
   "execution_count": 8,
   "metadata": {
    "collapsed": true,
    "deletable": true,
    "editable": true
   },
   "outputs": [],
   "source": [
    "#### COME UP WITH A METHOD OF EVALUATING THE DESIGN POINT\n",
    "\n",
    "### FIND INTERSECTIONS WITH AXVLINE AND SORT, MAX VALUE"
   ]
  },
  {
   "cell_type": "code",
   "execution_count": 9,
   "metadata": {
    "collapsed": false,
    "deletable": true,
    "editable": true
   },
   "outputs": [
    {
     "data": {
      "image/png": "[encoded data removed]",
      "text/plain": [
       "<matplotlib.figure.Figure at 0x21751320ba8>"
      ]
     },
     "metadata": {},
     "output_type": "display_data"
    }
   ],
   "source": [
    "###NORMAlization\n",
    "norm_twTurn = gagFerrar((grossWeight*twTurn*1.688*cruiseSpeed/(propEff*550)))\n",
    "test=(grossWeight*twTurn*1.688*cruiseSpeed/(propEff*550))\n",
    "norm_twROC = gagFerrar((grossWeight*twROC*1.688*V_ROC/(propEff*550)))\n",
    "norm_twVlof = gagFerrar((grossWeight*twVlof*1.688*vLof/(propEff*550)))\n",
    "norm_twCruise = gagFerrar((grossWeight*twCruise*1.688*cruiseSpeed/(propEff*550)))\n",
    "norm_twCeiling = gagFerrar((grossWeight*twCeiling*1.688*cruiseSpeed/(propEff*550)))\n",
    "\n",
    "plt.plot(WS,norm_twTurn)\n",
    "plt.plot(WS,norm_twROC)\n",
    "plt.plot(WS,norm_twVlof)\n",
    "plt.plot(WS,norm_twCruise)\n",
    "plt.plot(WS,norm_twCeiling)\n",
    "\n",
    "         \n",
    "plt.axvline(x=wsfromsizing)\n",
    "plt.show()"
   ]
  },
  {
   "cell_type": "code",
   "execution_count": 10,
   "metadata": {
    "collapsed": true,
    "deletable": true,
    "editable": true
   },
   "outputs": [],
   "source": [
    "#### COME UP WITH A METHOD OF EVALUATING THE DESIGN POINT\n",
    "\n",
    "### FIND INTERSECTIONS WITH AXVLINE AND SORT, MAX VALUE"
   ]
  },
  {
   "cell_type": "code",
   "execution_count": 11,
   "metadata": {
    "collapsed": false,
    "deletable": true,
    "editable": true
   },
   "outputs": [
    {
     "name": "stdout",
     "output_type": "stream",
     "text": [
      "0.17993838475783433\n"
     ]
    }
   ],
   "source": [
    "tw_Turn = qAltitude*( (cdMin/wsInitial)+ k*(gForce/ qAltitude)**2 *(wsInitial) )\n",
    "print(tw_Turn)"
   ]
  },
  {
   "cell_type": "code",
   "execution_count": 12,
   "metadata": {
    "collapsed": false,
    "deletable": true,
    "editable": true
   },
   "outputs": [
    {
     "name": "stdout",
     "output_type": "stream",
     "text": [
      "0.2601653473257437\n"
     ]
    }
   ],
   "source": [
    "tw_ROC = ( (Vv/(V_ROC*1.688)) + (qROC*cdMin/wsInitial)+(k*wsInitial/qROC))\n",
    "print(tw_ROC)"
   ]
  },
  {
   "cell_type": "code",
   "execution_count": 13,
   "metadata": {
    "collapsed": false,
    "deletable": true,
    "editable": true
   },
   "outputs": [
    {
     "name": "stdout",
     "output_type": "stream",
     "text": [
      "0.2976817949909864\n"
     ]
    }
   ],
   "source": [
    "tw_Vlof = ((vLof*1.688)**2/(2*g*groundRun))+(qVlof*CDto/wsInitial)+(groundFriction*(1-(qVlof*CLto/wsInitial)) )                       \n",
    "print(tw_Vlof)"
   ]
  },
  {
   "cell_type": "code",
   "execution_count": 14,
   "metadata": {
    "collapsed": false,
    "deletable": true,
    "editable": true
   },
   "outputs": [
    {
     "name": "stdout",
     "output_type": "stream",
     "text": [
      "0.19494978189529477\n"
     ]
    }
   ],
   "source": [
    "tw_Cruise = qAltitude*cdMin*(1/wsInitial) + (k)\n",
    "print(tw_Cruise)"
   ]
  },
  {
   "cell_type": "code",
   "execution_count": 15,
   "metadata": {
    "collapsed": false,
    "deletable": true,
    "editable": true
   },
   "outputs": [
    {
     "name": "stdout",
     "output_type": "stream",
     "text": [
      "0.09676459852435197\n"
     ]
    }
   ],
   "source": [
    "tw_Ceiling = (1.667/(math.sqrt((2*wsInitial/rhoCeiling)*math.sqrt(k/3*cdMin))))+(k*cdMin/3)*4\n",
    "print(tw_Ceiling)"
   ]
  },
  {
   "cell_type": "code",
   "execution_count": 16,
   "metadata": {
    "collapsed": false,
    "deletable": true,
    "editable": true
   },
   "outputs": [
    {
     "name": "stdout",
     "output_type": "stream",
     "text": [
      "2\n",
      "0.2976817949909864\n"
     ]
    }
   ],
   "source": [
    "##Selecting the T/W \n",
    "twList = ([tw_Ceiling,tw_Cruise,tw_Vlof,tw_ROC,tw_Turn])\n",
    "maxTW = np.argmax(twList)\n",
    "V=int(maxTW)\n",
    "print(V)\n",
    "finalTW=twList[V]\n",
    "print(finalTW)"
   ]
  },
  {
   "cell_type": "code",
   "execution_count": 17,
   "metadata": {
    "collapsed": false,
    "deletable": true,
    "editable": true
   },
   "outputs": [
    {
     "name": "stdout",
     "output_type": "stream",
     "text": [
      "595.3635899819728\n",
      "342.60468405326253\n"
     ]
    }
   ],
   "source": [
    "#for first case\n",
    "propThrust = grossWeight*finalTW\n",
    "print(propThrust)\n",
    "pBHP=propThrust*(cruiseSpeed*1.688)/(propEff*550)\n",
    "print(pBHP)"
   ]
  },
  {
   "cell_type": "code",
   "execution_count": 18,
   "metadata": {
    "collapsed": false,
    "deletable": true,
    "editable": true
   },
   "outputs": [
    {
     "name": "stdout",
     "output_type": "stream",
     "text": [
      "452.1288603011618\n"
     ]
    }
   ],
   "source": [
    "normBhp = gagFerrar(pBHP)\n",
    "print(normBhp)"
   ]
  },
  {
   "cell_type": "code",
   "execution_count": null,
   "metadata": {
    "collapsed": true,
    "deletable": true,
    "editable": true
   },
   "outputs": [],
   "source": [
    ""
   ]
  },
  {
   "cell_type": "code",
   "execution_count": null,
   "metadata": {
    "collapsed": true,
    "deletable": true,
    "editable": true
   },
   "outputs": [],
   "source": [
    ""
   ]
  },
  {
   "cell_type": "code",
   "execution_count": null,
   "metadata": {
    "collapsed": true,
    "deletable": true,
    "editable": true
   },
   "outputs": [],
   "source": [
    ""
   ]
  },
  {
   "cell_type": "code",
   "execution_count": null,
   "metadata": {
    "collapsed": true,
    "deletable": true,
    "editable": true
   },
   "outputs": [],
   "source": [
    ""
   ]
  }
 ],
 "metadata": {
  "anaconda-cloud": {},
  "kernelspec": {
   "display_name": "Python [default]",
   "language": "python",
   "name": "python3"
  },
  "language_info": {
   "codemirror_mode": {
    "name": "ipython",
    "version": 3.0
   },
   "file_extension": ".py",
   "mimetype": "text/x-python",
   "name": "python",
   "nbconvert_exporter": "python",
   "pygments_lexer": "ipython3",
   "version": "3.5.2"
  }
 },
 "nbformat": 4,
 "nbformat_minor": 0
}