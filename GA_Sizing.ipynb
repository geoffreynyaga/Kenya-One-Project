{
 "cells": [
  {
   "cell_type": "code",
   "execution_count": 30,
   "metadata": {
    "collapsed": true
   },
   "outputs": [],
   "source": [
    "import numpy as np\n",
    "import pandas as pd\n",
    "import matplotlib.pylab as plt\n",
    "import math"
   ]
  },
  {
   "cell_type": "code",
   "execution_count": 31,
   "metadata": {
    "collapsed": false
   },
   "outputs": [],
   "source": [
    "wtoGuess = np.arange(2000,6500)\n",
    "\n",
    "#Gudmundsson\n",
    "#weWtoGud = 0.4074 + 0.0253 * np.log(wtoGuess)\n",
    "#print(weWtoGud)"
   ]
  },
  {
   "cell_type": "code",
   "execution_count": 32,
   "metadata": {
    "collapsed": false
   },
   "outputs": [],
   "source": [
    "pax = 4\n",
    "paxWeight = 180\n",
    "crew=2\n",
    "crewWeight = 200\n",
    "payloadPax=50\n",
    "paxTotal=pax*paxWeight\n",
    "payload = (payloadPax*pax)+paxTotal\n",
    "crewTotal = crew*crewWeight"
   ]
  },
  {
   "cell_type": "code",
   "execution_count": 33,
   "metadata": {
    "collapsed": false
   },
   "outputs": [
    {
     "name": "stdout",
     "output_type": "stream",
     "text": [
      "0.13735020678703344\n"
     ]
    }
   ],
   "source": [
    "Range=1200\n",
    "ldMax=13\n",
    "Vc = 140\n",
    "cbhp = 0.4\n",
    "propEff=0.8\n",
    "fuelAllowance = 5 # in %\n",
    "w4w3 = math.exp((-Range*3280.8399*cbhp/3600)/(propEff*ldMax*550))\n",
    "w2w1= 0.98\n",
    "w3w2= 0.97\n",
    "w5w4= 0.99\n",
    "w6w5=0.997\n",
    "w6w1=w2w1*w3w2*w4w3*w5w4*w6w5\n",
    "\n",
    "wfWto=1.05*(1-w6w1)\n",
    "\n",
    "wfWtoRoskam = (1+fuelAllowance/100)*(1 - w4w3*0.992*0.992*0.996*0.99*0.992*0.992)\n",
    "wfWtoRaymer = (1+fuelAllowance/100)*(1 - w4w3*0.97*0.985*0.995)\n",
    "wfWtoGud = (1+fuelAllowance/100)*(1 - w4w3*0.994*0.985*0.996*0.995)\n",
    "wfWtoSadraey = (1+fuelAllowance/100)*(1 -w2w1*w3w2*w4w3*w5w4*w6w5 )\n",
    "\n",
    "print(wfWto)\n",
    "\n",
    "a= 1.51\n",
    "b= -0.1"
   ]
  },
  {
   "cell_type": "code",
   "execution_count": 34,
   "metadata": {
    "collapsed": false
   },
   "outputs": [],
   "source": [
    "#Raymer\n",
    "weWto = a*(wtoGuess**b)\n",
    "wtoYaxisRaymer=(payload+crewTotal)/(1-wfWtoRaymer-weWto)\n",
    "\n",
    "#Roskam\n",
    "wtoYaxisRoskam=(payload+crewTotal)/(1-wfWtoRoskam-weWto)\n",
    "\n",
    "#Sadraey\n",
    "wtoYaxisSadraey=(payload+crewTotal)/(1-wfWtoSadraey-weWto)\n",
    "\n",
    "#Gudmundsson\n",
    "wtoYaxisGud=(payload+crewTotal)/(1-wfWtoGud-weWto)"
   ]
  },
  {
   "cell_type": "code",
   "execution_count": 41,
   "metadata": {
    "collapsed": false
   },
   "outputs": [
    {
     "data": {
      "image/png": "[encoded data removed]",
      "text/plain": [
       "<matplotlib.figure.Figure at 0x1e658be0ba8>"
      ]
     },
     "metadata": {},
     "output_type": "display_data"
    },
    {
     "name": "stdout",
     "output_type": "stream",
     "text": [
      "[ 5503.40496174] [ 5097.69338985] [ 5411.44008841] [ 5794.85842086]\n",
      "5451.84921522\n"
     ]
    }
   ],
   "source": [
    "plt.plot(wtoGuess,wtoGuess)\n",
    "plt.plot(wtoGuess,wtoYaxisRaymer)\n",
    "plt.plot(wtoGuess,wtoYaxisGud)\n",
    "plt.plot(wtoGuess,wtoYaxisRoskam)\n",
    "plt.plot(wtoGuess,wtoYaxisSadraey)\n",
    "\n",
    "idx = np.argwhere(np.diff(np.sign(wtoGuess-wtoYaxisRaymer))!=0).reshape(-1)+0\n",
    "plt.plot(wtoGuess[idx], wtoYaxisRaymer[idx], 'ro')\n",
    "\n",
    "idx = np.argwhere(np.diff(np.sign(wtoGuess-wtoYaxisGud))!=0).reshape(-1)+0\n",
    "plt.plot(wtoGuess[idx], wtoYaxisGud[idx], 'ro')\n",
    "\n",
    "idx = np.argwhere(np.diff(np.sign(wtoGuess-wtoYaxisRoskam))!=0).reshape(-1)+0\n",
    "plt.plot(wtoGuess[idx], wtoYaxisRoskam[idx], 'ro')\n",
    "\n",
    "idx = np.argwhere(np.diff(np.sign(wtoGuess-wtoYaxisSadraey))!=0).reshape(-1)+0\n",
    "plt.plot(wtoGuess[idx], wtoYaxisSadraey[idx], 'ro')\n",
    "\n",
    "plt.show()\n",
    "\n",
    "d = wtoYaxisRaymer[idx]\n",
    "e = wtoYaxisGud[idx]\n",
    "f = wtoYaxisRoskam[idx]\n",
    "g = wtoYaxisSadraey[idx]\n",
    "\n",
    "h= np.array([d,e,f,g])\n",
    "finalMTOW = np.mean(h)\n",
    "\n",
    "print(d,e,f,g)\n",
    "print(finalMTOW)"
   ]
  },
  {
   "cell_type": "code",
   "execution_count": null,
   "metadata": {
    "collapsed": true
   },
   "outputs": [],
   "source": [
    ""
   ]
  },
  {
   "cell_type": "code",
   "execution_count": null,
   "metadata": {
    "collapsed": true
   },
   "outputs": [],
   "source": [
    ""
   ]
  },
  {
   "cell_type": "code",
   "execution_count": null,
   "metadata": {
    "collapsed": true
   },
   "outputs": [],
   "source": [
    ""
   ]
  },
  {
   "cell_type": "code",
   "execution_count": null,
   "metadata": {
    "collapsed": true
   },
   "outputs": [],
   "source": [
    ""
   ]
  }
 ],
 "metadata": {
  "anaconda-cloud": {},
  "kernelspec": {
   "display_name": "Python [default]",
   "language": "python",
   "name": "python3"
  },
  "language_info": {
   "codemirror_mode": {
    "name": "ipython",
    "version": 3.0
   },
   "file_extension": ".py",
   "mimetype": "text/x-python",
   "name": "python",
   "nbconvert_exporter": "python",
   "pygments_lexer": "ipython3",
   "version": "3.5.2"
  }
 },
 "nbformat": 4,
 "nbformat_minor": 0
}