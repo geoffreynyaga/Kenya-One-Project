{
 "cells": [
  {
   "cell_type": "code",
   "execution_count": 12,
   "metadata": {
    "collapsed": false,
    "deletable": true,
    "editable": true
   },
   "outputs": [],
   "source": [
    "from wing import wing1,wing\n",
    "import math\n",
    "import numpy as np"
   ]
  },
  {
   "cell_type": "code",
   "execution_count": 13,
   "metadata": {
    "collapsed": true,
    "deletable": true,
    "editable": true
   },
   "outputs": [],
   "source": [
    "## Lift and Moment Xristics of a 3D WING"
   ]
  },
  {
   "cell_type": "code",
   "execution_count": 14,
   "metadata": {
    "collapsed": false,
    "deletable": true,
    "editable": true
   },
   "outputs": [],
   "source": [
    "wing.cruiseSpeed\n",
    "wing.initialWeight\n",
    "wing.finalWeight\n",
    "wing.altitude\n",
    "wing.S\n",
    "#will need some funtion to slect the AR depending on aircraft type\n",
    "wing.rangeAR()\n",
    "\n",
    "fuselageWidth = 9"
   ]
  },
  {
   "cell_type": "code",
   "execution_count": 15,
   "metadata": {
    "collapsed": false,
    "deletable": true,
    "editable": true
   },
   "outputs": [
    {
     "name": "stdout",
     "output_type": "stream",
     "text": [
      "-3.757377049180328\n"
     ]
    }
   ],
   "source": [
    "## 2D airfoil properties\n",
    "## this will kill you down the line Nyaga\n",
    "\n",
    "clalfa = 6.1 #per rad\n",
    "clo = 0.4\n",
    "clmax = 1.56\n",
    "\n",
    "#do shit here later e.g Re on tip and root is different cz of taper. Read from the NACA R-824\n",
    "clmaxRoot = 1.56\n",
    "clmaxTip = 1.4\n",
    "\n",
    "#convert the 57.3\n",
    "alfazero = - clo/(6.1/57.3)\n",
    "print(alfazero)\n",
    "\n",
    "cma = -0.01"
   ]
  },
  {
   "cell_type": "code",
   "execution_count": 16,
   "metadata": {
    "collapsed": false,
    "deletable": true,
    "editable": true
   },
   "outputs": [],
   "source": [
    "## import these stuff\n",
    "rhoAlt = 0.001756\n",
    "## also do something abot importing the independent variables loike averageWeight"
   ]
  },
  {
   "cell_type": "code",
   "execution_count": 17,
   "metadata": {
    "collapsed": false,
    "deletable": true,
    "editable": true
   },
   "outputs": [],
   "source": [
    "CLalfa = 5.4 #per rad"
   ]
  },
  {
   "cell_type": "code",
   "execution_count": 18,
   "metadata": {
    "collapsed": false,
    "deletable": true,
    "editable": true
   },
   "outputs": [
    {
     "name": "stdout",
     "output_type": "stream",
     "text": [
      "2.937239255942635\n",
      "2.414305827504325\n",
      "2.3934190609831445\n",
      "average CLalfa\n",
      "2.581654714810035\n"
     ]
    }
   ],
   "source": [
    "## 3D Lift Curve Slope\n",
    "#for elliptical wing\n",
    "Mach = wing.cruiseSpeed /11164.27\n",
    "sweepHalfChord = 5\n",
    "sweepQuarterChord = 2\n",
    "sweepLeadingEdge = 0\n",
    "sweepTmax = 4\n",
    "class CLalfa:\n",
    "    \n",
    "    def ellipticalCLalfa(self):\n",
    "        ellipticalCLalfa = clalfa/(1+(clalfa/(math.pi*wing.rangeAR())))\n",
    "        return ellipticalCLalfa \n",
    "    \n",
    "    def hemboldCLalfa(self):\n",
    "        hemboldCLalfa = (2*math.pi*wing.rangeAR())/(2+math.sqrt(wing.rangeAR()**2 + 4 ))\n",
    "        return hemboldCLalfa\n",
    "\n",
    "    def polhamusCLalfa (self):\n",
    "        beta = (1-Mach**2)**(0.5)\n",
    "        k = clalfa/(2*math.pi)\n",
    "        #remember to cremove 57.3 later\n",
    "        polhamusCLalfa = (2*math.pi*wing.rangeAR())/( 2 + math.sqrt(((wing.rangeAR()*beta)/k)**2 *(1+((math.tan(sweepHalfChord/57.3))**2/beta**2))+4))\n",
    "        return polhamusCLalfa\n",
    "    \n",
    "wing3 = CLalfa()  \n",
    "# make this shit work\n",
    "#finalCLalfa = np.average(wing1.ellipticalCLalfa(),wing1.hemboldCLalfa(),wing1.polhamusCLalfa())\n",
    "finalCLalfa = (wing3.ellipticalCLalfa()+wing3.hemboldCLalfa()+wing3.polhamusCLalfa()) /3\n",
    "print(wing3.ellipticalCLalfa())\n",
    "print(wing3.hemboldCLalfa())\n",
    "print(wing3.polhamusCLalfa())\n",
    "print('average CLalfa')\n",
    "print(finalCLalfa)"
   ]
  },
  {
   "cell_type": "code",
   "execution_count": 19,
   "metadata": {
    "collapsed": false,
    "deletable": true,
    "editable": true
   },
   "outputs": [
    {
     "name": "stdout",
     "output_type": "stream",
     "text": [
      "0.1692888337580351\n",
      "-0.004232220843950878\n"
     ]
    }
   ],
   "source": [
    "CLo = - alfazero * finalCLalfa/57.3\n",
    "print(CLo)\n",
    "\n",
    "Cma = (finalCLalfa/57.3)*(cma/(clalfa/57.3))\n",
    "print(Cma)"
   ]
  },
  {
   "cell_type": "code",
   "execution_count": 20,
   "metadata": {
    "collapsed": false,
    "deletable": true,
    "editable": true
   },
   "outputs": [
    {
     "name": "stdout",
     "output_type": "stream",
     "text": [
      "0.2863394509530107\n"
     ]
    }
   ],
   "source": [
    "cruiseCL = CLo + (wing.initialWeight+wing.finalWeight)/(rhoAlt*wing.S*wing.cruiseSpeed**2) + ((finalCLalfa/57.3)*alfazero)\n",
    "print (cruiseCL)"
   ]
  },
  {
   "cell_type": "code",
   "execution_count": 21,
   "metadata": {
    "collapsed": false,
    "deletable": true,
    "editable": true
   },
   "outputs": [
    {
     "name": "stdout",
     "output_type": "stream",
     "text": [
      "1.3684992953296653\n"
     ]
    }
   ],
   "source": [
    "class classCLmax:\n",
    "    def rapidClmax(self):\n",
    "        clmax = clmaxRoot + (wing1.yMGC()/wing1.wingSpan())*(clmaxTip-clmaxRoot)\n",
    "        # IVE SKIPPED THE  root and tip Re calculations to help reading the equivalent clmax on the NACA graphs\n",
    "        CLmaxo = 0.9*clmax\n",
    "        kA = math.cos(sweepQuarterChord/57.3)    \n",
    "        rapidClmax = CLmaxo*kA\n",
    "        return rapidClmax\n",
    "    \n",
    "        \n",
    "wing2 = classCLmax()\n",
    "print(wing2.rapidClmax())"
   ]
  },
  {
   "cell_type": "code",
   "execution_count": 22,
   "metadata": {
    "collapsed": false,
    "deletable": true,
    "editable": true
   },
   "outputs": [
    {
     "name": "stdout",
     "output_type": "stream",
     "text": [
      "1.0203952246478214\n",
      "1.200237070576661\n",
      "0.691418462428947\n",
      "1.0513638854480625\n",
      "0.9810064728178901\n"
     ]
    }
   ],
   "source": [
    "from wing import cdMin, taper\n",
    "\n",
    "class classOswaldEff:\n",
    "    def straightWingOswaldEff (self):\n",
    "        straightWingOswaldEff = 1.78 * (1-0.045*wing.rangeAR()**0.68) - 0.64\n",
    "        return straightWingOswaldEff\n",
    "    \n",
    "    def sweptWingOswaldEff (self):\n",
    "        sweptWingOswaldEff = 4.61*(1 -0.045*wing.rangeAR()**0.68 )*(math.cos(sweepLeadingEdge/57.3))**0.15 - 3.1\n",
    "        return sweptWingOswaldEff\n",
    "    \n",
    "    def brandtOswaldEff(self):\n",
    "        brandtOswaldEff = 2/(2-wing.rangeAR()+math.sqrt(4+(wing.rangeAR()**2)*(1+(math.tan(sweepTmax/57.3))**2)   )  )\n",
    "        return brandtOswaldEff\n",
    "    \n",
    "    def douglasOswalfEff(self):\n",
    "        r = 0.38 -(sweepLeadingEdge/3000)+(sweepLeadingEdge**2/15000)\n",
    "        u= 0.99\n",
    "        t= fuselageWidth / wing1.wingSpan()\n",
    "        douglasOswalfEff = 1/(  (math.pi*wing.rangeAR()*r*cdMin) + (  (1+0.03*t -(2*t**2))*u    ))\n",
    "        return douglasOswalfEff\n",
    "    \n",
    "    ## read Gudmundsson example 9-12 and compute USAF DATCOM method u lazy bastard\n",
    "    \n",
    "wing4 = classOswaldEff()\n",
    "if taper == 1:\n",
    "    oswaldEff = wing4.straightWingOswaldEff()\n",
    "else:\n",
    "    oswaldEff = (wing4.sweptWingOswaldEff()+wing4.brandtOswaldEff()+wing4.douglasOswalfEff())/3\n",
    "    \n",
    "print(wing4.straightWingOswaldEff())\n",
    "print(wing4.sweptWingOswaldEff())\n",
    "print(wing4.brandtOswaldEff())\n",
    "print(wing4.douglasOswalfEff())\n",
    "\n",
    "print(oswaldEff)"
   ]
  },
  {
   "cell_type": "code",
   "execution_count": null,
   "metadata": {
    "collapsed": true,
    "deletable": true,
    "editable": true
   },
   "outputs": [],
   "source": []
  },
  {
   "cell_type": "code",
   "execution_count": null,
   "metadata": {
    "collapsed": true,
    "deletable": true,
    "editable": true
   },
   "outputs": [],
   "source": []
  },
  {
   "cell_type": "code",
   "execution_count": null,
   "metadata": {
    "collapsed": true,
    "deletable": true,
    "editable": true
   },
   "outputs": [],
   "source": []
  },
  {
   "cell_type": "code",
   "execution_count": null,
   "metadata": {
    "collapsed": true,
    "deletable": true,
    "editable": true
   },
   "outputs": [],
   "source": []
  },
  {
   "cell_type": "code",
   "execution_count": null,
   "metadata": {
    "collapsed": true
   },
   "outputs": [],
   "source": []
  }
 ],
 "metadata": {
  "anaconda-cloud": {},
  "kernelspec": {
   "display_name": "Python [conda root]",
   "language": "python",
   "name": "conda-root-py"
  },
  "language_info": {
   "codemirror_mode": {
    "name": "ipython",
    "version": 3
   },
   "file_extension": ".py",
   "mimetype": "text/x-python",
   "name": "python",
   "nbconvert_exporter": "python",
   "pygments_lexer": "ipython3",
   "version": "3.5.2"
  }
 },
 "nbformat": 4,
 "nbformat_minor": 0
}
