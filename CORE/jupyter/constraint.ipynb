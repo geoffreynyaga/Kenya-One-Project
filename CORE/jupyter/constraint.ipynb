{
 "cells": [
  {
   "cell_type": "code",
   "execution_count": 1,
   "metadata": {},
   "outputs": [],
   "source": [
    "VariableName_unit = 0\n",
    "# Variable names ending in an underscore are non-dimensional:\n",
    "VariableName_ = 0\n",
    "DesignGrossWeight_kg = 15"
   ]
  },
  {
   "cell_type": "code",
   "execution_count": 3,
   "metadata": {},
   "outputs": [],
   "source": [
    "# Take-off performance\n",
    "GroundRun_feet = 197\n",
    "TakeOffSpeed_KCAS = 31\n",
    "TakeOffElevation_feet = 0\n",
    "# Cruise\n",
    "# The cruising altitude may be viewed in two fundamentalways. First, itmay be a constraint – for\n",
    "# example, due to regulatory requirements the aircraft may have to cruise at, say, 350 feet. It can\n",
    "# also be viewed as a design variable, in which case you may wish to return to this point in the\n",
    "# document and revise it as part of an iterative process of optimization / reinement.\n",
    "CruisingAlt_feet = 400\n",
    "CruisingSpeed_KTAS = 58.3"
   ]
  },
  {
   "cell_type": "code",
   "execution_count": 4,
   "metadata": {},
   "outputs": [],
   "source": [
    "# Climb Performance\n",
    "# The climb performance of an aircraft and its variation with altitude is the result of\n",
    "# a complex web of interactions between the aerodynamics of lift generation and the\n",
    "# response of its powerplant to varying atmospheric conditions and airspeed. Typically a\n",
    "# range of design points have to be considered, representing a variety of conditions, but\n",
    "# at this early stage in the design process it is best to keep the number of these design\n",
    "# points at a more manageable level. Here we use 80% of the cruise speed for the climb\n",
    "# constraint.\n",
    "RateOfClimb_fpm = 591\n",
    "ClimbSpeed_KCAS = CruisingSpeed_KTAS * 0.8\n",
    "# The rate of climb constraint will be evaluated at this altitude:\n",
    "ROCAlt_feet = 0"
   ]
  },
  {
   "cell_type": "code",
   "execution_count": 5,
   "metadata": {},
   "outputs": [],
   "source": [
    "# Turn Performance\n",
    "# We deine steady, level turn performance in terms of the load factor n (which represents the\n",
    "# ratio of lift and weight). n = 1∕ cos ���, where ��� is the bank angle (so n = 1.41 corresponds to\n",
    "# 45∘, n = 2 corresponds to 60∘, etc.).\n",
    "n_cvt_ = 1.41\n",
    "# Service Ceiling\n",
    "ServiceCeiling_feet = 500"
   ]
  },
  {
   "cell_type": "code",
   "execution_count": 6,
   "metadata": {},
   "outputs": [
    {
     "name": "stdout",
     "output_type": "stream",
     "text": [
      "Stall speed in approach configuration: 26.818181818181817 KTAS\n"
     ]
    }
   ],
   "source": [
    "# Approach and Landing\n",
    "ApproachSpeed_KTAS = 29.5\n",
    "# We deine the margin by which the aircraft operates above its stall speed on inal approach\n",
    "# (e.g., a reserve factor of 1.2 – typical of manned military aircraft – means lying 20% above\n",
    "# stall, a reserve factor of 1.3 – typical of civil aircraft, means 30% above stall; for small UAVs,\n",
    "# lower values may be considered).\n",
    "StallReserveFactor = 1.1\n",
    "StallSpeedinApproachConf_KTAS = ApproachSpeed_KTAS\\\n",
    "/StallReserveFactor\n",
    "print(f\"Stall speed in approach configuration: {StallSpeedinApproachConf_KTAS} KTAS\")\n",
    "# Stall speed in approach configuration: 26.8 KTAS\n",
    "# Maximum lift coeficient in landing coniguration:\n",
    "CLmax_approach = 1.3\n",
    "# We also deine the highest altitude AMSL where we would expect the aircraft to be established\n",
    "# on a stable inal approach in landing coniguration:\n",
    "TopOfFinalApp_feet = 100"
   ]
  },
  {
   "cell_type": "code",
   "execution_count": 7,
   "metadata": {},
   "outputs": [
    {
     "name": "stdout",
     "output_type": "stream",
     "text": [
      "Cruising altitude: 121.92\n",
      "Top of final approach: 30.48 m\n",
      "Take-off runway elevation: 0.0 m\n"
     ]
    }
   ],
   "source": [
    "# Unit Conversions\n",
    "# All constraint analysis calculations in this document are performed in SI units. However, it is\n",
    "# more common to specify some elements of the design brief in the mix of SI and Imperial units\n",
    "# traditionally used in aviation – here we perform the appropriate conversions.\n",
    "CruisingAlt_m = CruisingAlt_feet*0.3048\n",
    "print (f\"Cruising altitude: {CruisingAlt_m}\")\n",
    "# Cruising altitude: 122 m\n",
    "TopOfFinalApp_m = TopOfFinalApp_feet*0.3048\n",
    "print(f\"Top of final approach: {TopOfFinalApp_m} m\")\n",
    "# Top of final approach: 30 m\n",
    "TakeOffElevation_m = TakeOffElevation_feet*0.3048\n",
    "print (f\"Take-off runway elevation: {TakeOffElevation_m} m\")\n",
    "\n",
    "# Take-off runway elevation: 0 m"
   ]
  },
  {
   "cell_type": "code",
   "execution_count": 8,
   "metadata": {},
   "outputs": [
    {
     "name": "stdout",
     "output_type": "stream",
     "text": [
      "Service ceiling: 152.4 m\n",
      "Cruising speed: 29.99211110852 m/s TAS\n",
      "Climb speed: 23.993688886816003 m/s CAS\n",
      "Approach speed: 15.1761111098 m/s TAS\n",
      "Stall speed in approach configuration: 13.796464646345454 m/s TAS\n",
      "Rate of climb: 3.0022800000000003 m/s\n",
      "Take-off speed: 15.9477777764 m/s CAS\n",
      "Ground run: 60.0456 m\n"
     ]
    }
   ],
   "source": [
    "ServiceCeiling_m = ServiceCeiling_feet*0.3048\n",
    "print(f\"Service ceiling: {ServiceCeiling_m} m\")\n",
    "# Service ceiling: 152 m\n",
    "CruisingSpeed_mpsTAS = CruisingSpeed_KTAS*0.5144444444\n",
    "print(f\"Cruising speed: {CruisingSpeed_mpsTAS} m/s TAS\")\n",
    "# Cruising speed: 30.0 m/s TAS\n",
    "ClimbSpeed_mpsCAS = ClimbSpeed_KCAS*0.5144444444\n",
    "print(f\"Climb speed: {ClimbSpeed_mpsCAS} m/s CAS\")\n",
    "# Climb speed: 24.0 m/s CAS\n",
    "ApproachSpeed_mpsTAS = ApproachSpeed_KTAS*0.5144444444\n",
    "print(f\"Approach speed: {ApproachSpeed_mpsTAS} m/s TAS\")\n",
    "# Approach speed: 15.2 m/s TAS\n",
    "StallSpeedinApproachConf_mpsTAS = StallSpeedinApproachConf_KTAS\\\n",
    "*0.51444444444\n",
    "print(f\"Stall speed in approach configuration: {StallSpeedinApproachConf_mpsTAS} m/s TAS\")\n",
    "# Stall speed in approach configuration: 13.8 m/s TAS\n",
    "RateOfClimb_mps = RateOfClimb_fpm*0.00508\n",
    "print(f\"Rate of climb: {RateOfClimb_mps} m/s\")\n",
    "# Rate of climb: 3.0 m/s\n",
    "TakeOffSpeed_mpsCAS = TakeOffSpeed_KCAS*0.5144444444\n",
    "print(f\"Take-off speed: {TakeOffSpeed_mpsCAS} m/s CAS\")\n",
    "# Take-off speed: 15.9 m/s CAS\n",
    "GroundRun_m = GroundRun_feet*0.3048\n",
    "print(f\"Ground run: {GroundRun_m} m\")\n",
    "# Ground run: 60 m"
   ]
  },
  {
   "cell_type": "code",
   "execution_count": 9,
   "metadata": {},
   "outputs": [],
   "source": [
    "# Basic Geometry and Initial Guesses\n",
    "# Almost by deinition, the early part of the conceptual design process is the only part of the\n",
    "# product development where we do not yet have a geometry model to refer to. Thus, some of\n",
    "# the all-important aerodynamic igures have to be guessed at this point, largely on the basis of\n",
    "# high level geometrical parameters like the aspect ratio.\n",
    "AspectRatio_ = 9\n",
    "CDmin = 0.0418\n",
    "WSmax_kgm2 = 20\n",
    "TWmax = 0.6\n",
    "Pmax_kW = 4\n",
    "# Estimated take-off parameters\n",
    "CLTO = 0.97\n",
    "CDTO = 0.0898\n",
    "muTO = 0.17"
   ]
  },
  {
   "cell_type": "code",
   "execution_count": 10,
   "metadata": {},
   "outputs": [],
   "source": [
    "# Preamble\n",
    "# Some of the computations and visualizations performed in this document may require additional\n",
    "# Python modules; these need to be loaded irst as follows:\n",
    "%matplotlib inline\n",
    "import math\n",
    "from aerocalc3 import std_atm as ISA\n",
    "import numpy as np\n",
    "import matplotlib\n",
    "import matplotlib.pylab as pylab\n",
    "import matplotlib.pyplot as plt"
   ]
  },
  {
   "cell_type": "code",
   "execution_count": 11,
   "metadata": {},
   "outputs": [],
   "source": [
    "def ConstraintPoly(WSl,TWl,Col,al):\n",
    "    WSl.append(WSl[-1])\n",
    "    TWl.append(0)\n",
    "    WSl.append(WSl[0])\n",
    "    TWl.append(0)\n",
    "    WSl.append(0)\n",
    "    TWl.append(TWl[-2])\n",
    "    zp = zip(WSl,TWl)\n",
    "    print(zp, \"zp\")\n",
    "    print(type(zp), \" type of zp\")\n",
    "#     print(list(zp), \" list of zp\")\n",
    "\n",
    "    pa = matplotlib.patches.Polygon(list(zp), closed=True, color=Col, alpha=al)\n",
    "    return pa"
   ]
  },
  {
   "cell_type": "code",
   "execution_count": 12,
   "metadata": {},
   "outputs": [],
   "source": [
    "# Next, we deine a method for setting the appropriate bounds on each constraint diagram:\n",
    "def PlotSetUp(Xmin, Xmax, Ymin, Ymax, Xlabel, Ylabel):\n",
    "    pylab.ylim([Ymin,Ymax])\n",
    "    pylab.xlim([Xmin,Xmax])\n",
    "    pylab.ylabel(Ylabel)\n",
    "    pylab.xlabel(Xlabel)\n",
    "Resolution = 2000\n",
    "Start_Pa = 0.1"
   ]
  },
  {
   "cell_type": "code",
   "execution_count": 13,
   "metadata": {},
   "outputs": [
    {
     "name": "stdout",
     "output_type": "stream",
     "text": [
      " ISA density at Sea level elevation: 1.225 kg/m^3\n",
      " ISA density at take-off elevation: 1.225 kg/m^3\n",
      " ISA density at the climb constraint altitude: 1.225 kg/m^3\n",
      " ISA density at cruising altitude: 1.2107258584719596 kg/m^3\n",
      " ISA density at the top of the final approach: 1.2214194591117506 kg/m^3\n"
     ]
    }
   ],
   "source": [
    "# Preliminary Calculations\n",
    "# The Operating Environment\n",
    "# The environment in which the aircraft is expected to operate plays a very important role in\n",
    "# many of the conceptual design calculations to follow. The conditions corresponding to the\n",
    "# current design brief are computed as follows:\n",
    "SeaLevelDens_kgm3 = ISA.alt2density(0, alt_units='ft',\n",
    "density_units='kg/m**3')\n",
    "print(f\" ISA density at Sea level elevation: {SeaLevelDens_kgm3} kg/m^3\")\n",
    "# ISA density at Sea level elevation: 1.225 kg/m^3\n",
    "TakeOffDens_kgm3 = ISA.alt2density(TakeOffElevation_feet, alt_units='ft', density_units='kg/m**3')\n",
    "print(f\" ISA density at take-off elevation: {TakeOffDens_kgm3} kg/m^3\")\n",
    "# ISA density at take-off elevation: 1.225 kg/m^3\n",
    "ClimbAltDens_kgm3 = ISA.alt2density(ROCAlt_feet, alt_units='ft',\n",
    "density_units='kg/m**3')\n",
    "print(f\" ISA density at the climb constraint altitude: {ClimbAltDens_kgm3} kg/m^3\")\n",
    "# ISA density at the climb constraint altitude: 1.225 kg/m^3\n",
    "CruisingAltDens_kgm3 = ISA.alt2density(CruisingAlt_feet,\\\n",
    "alt_units='ft', density_units='kg/m**3')\n",
    "print(f\" ISA density at cruising altitude: {CruisingAltDens_kgm3} kg/m^3\")\n",
    "# ISA density at cruising altitude: 1.211 kg/m^3\n",
    "# Concept Design: Initial Constraint Analysis 153\n",
    "TopOfFinalAppDens_kgm3 = ISA.alt2density(TopOfFinalApp_feet,\\\n",
    "alt_units='ft', density_units='kg/m**3')\n",
    "print(f\" ISA density at the top of the final approach: {TopOfFinalAppDens_kgm3} kg/m^3\")\n",
    "# ISA density at the top of the final approach: 1.221 kg/m^3"
   ]
  },
  {
   "cell_type": "code",
   "execution_count": 14,
   "metadata": {},
   "outputs": [
    {
     "name": "stdout",
     "output_type": "stream",
     "text": [
      "0.7831239342794879 \n",
      "0.045162411188559015\n",
      "544.5401354396214 Pa\n",
      "352.61447766835715 Pa\n",
      "77.8890574016653 Pa\n"
     ]
    }
   ],
   "source": [
    "# Basic Aerodynamic Performance Calculations\n",
    "# In the absence of a geometry, at this stage any aerodynamic performance estimates will either\n",
    "# be based on very basic physics or simple, empirical equations.\n",
    "# We begin with a very rough estimate of the Oswald span eficiency, only suitable for moderate\n",
    "# aspect ratios and sweep angles below 30∘ (equation due to Raymer):\n",
    "e0 = 1.78*(1-0.045*AspectRatio_**0.68)-0.64\n",
    "print(f\"{e0} \")\n",
    "# 0.783\n",
    "# Lift induced drag factor k (Cd = Cd0\n",
    "# + kC2\n",
    "# l ):\n",
    "k = 1.0/(math.pi*AspectRatio_*e0)\n",
    "print(f\"{k}\")\n",
    "# 0.045\n",
    "# Dynamic pressure at cruise\n",
    "q_cruise_Pa = 0.5*CruisingAltDens_kgm3*(CruisingSpeed_mpsTAS**2)\n",
    "print(f\"{q_cruise_Pa} Pa\")\n",
    "# 544.5 Pa\n",
    "# Dynamic pressure in the climb\n",
    "q_climb_Pa = 0.5*ClimbAltDens_kgm3*(ClimbSpeed_mpsCAS**2)\n",
    "print(f\"{q_climb_Pa} Pa\")\n",
    "# 352.6 Pa\n",
    "# Dynamic pressure at take-off conditions – for the purposes of this simple approximation we\n",
    "# assume the acceleration during the take-off run to decrease linearly with ���2, so for the ���2 term\n",
    "# we’ll use half of the square of the liftoff velocity (i.e., ��� = ���TO∕\n",
    "# √\n",
    "# 2):\n",
    "q_TO_Pa = 0.5*TakeOffDens_kgm3*(TakeOffSpeed_mpsCAS\\\n",
    "/math.sqrt(2))**2\n",
    "print(f\"{q_TO_Pa} Pa\")\n",
    "# 77.9 Pa"
   ]
  },
  {
   "cell_type": "code",
   "execution_count": 15,
   "metadata": {},
   "outputs": [
    {
     "name": "stdout",
     "output_type": "stream",
     "text": [
      "116.24397806318478 Pa\n"
     ]
    }
   ],
   "source": [
    "q_APP_Pa = 0.5*TopOfFinalAppDens_kgm3\\\n",
    "*StallSpeedinApproachConf_mpsTAS**2\n",
    "print(f\"{q_APP_Pa} Pa\")\n",
    "# 116.2 Pa"
   ]
  },
  {
   "cell_type": "code",
   "execution_count": 16,
   "metadata": {},
   "outputs": [
    {
     "name": "stdout",
     "output_type": "stream",
     "text": [
      "[0.0101971621, 0.44378824831205593, 0.8773793345241119, 1.3109704207361679, 1.744561506948224, 2.17815259316028, 2.611743679372336, 3.045334765584392, 3.478925851796448, 3.9125169380085043]\n",
      "[227.61779310242503, 5.230814100820385, 2.646859824635679, 1.7726062691863724, 1.3332729415255957, 1.0691293692687447, 0.8929226757969303, 0.7670918212979806, 0.6728012378383549, 0.5995649027916633]\n"
     ]
    }
   ],
   "source": [
    "# Constraints\n",
    "# With the basic numbers of the current conceptual design iteration in place, we now draw up\n",
    "# the boundaries of the wing loading W∕S versus thrust to weight ratio T∕W design domain.\n",
    "# These boundaries are representations of the basic constraints that enforce the adherence of the\n",
    "# design to the numbers speciied in the design brief.\n",
    "# Constraint 1: Level, Constant Velocity Turn\n",
    "# First, we compute the thrust to weight ratio required to maintain a speciic load factor n in a\n",
    "# level turn at the cruise altitude:\n",
    "# T\n",
    "# W\n",
    "# = q\n",
    "# [\n",
    "# CDmin\n",
    "# W∕S\n",
    "# + k\n",
    "# (\n",
    "# n\n",
    "# q\n",
    "# )2 (\n",
    "# W\n",
    "# S\n",
    "# )]\n",
    "# …or, in Python:\n",
    "WSlistCVT_Pa = np.linspace(Start_Pa,8500,Resolution)\n",
    "TWlistCVT = []\n",
    "i = 0\n",
    "for WS in WSlistCVT_Pa:\n",
    "    TW = q_cruise_Pa*(CDmin/WSlistCVT_Pa[i] + WSlistCVT_Pa[i]\\\n",
    "    *k*(n_cvt_/q_cruise_Pa)**2)\n",
    "    TWlistCVT.append(TW)\n",
    "    i = i + 1\n",
    "WSlistCVT_kgm2 = [x*0.101971621 for x in WSlistCVT_Pa]\n",
    "print(WSlistCVT_kgm2[:10])\n",
    "print(TWlistCVT[:10])"
   ]
  },
  {
   "cell_type": "code",
   "execution_count": 17,
   "metadata": {},
   "outputs": [
    {
     "name": "stdout",
     "output_type": "stream",
     "text": [
      "44.828523754439736°\n"
     ]
    }
   ],
   "source": [
    "# The load factor n is the inverse of the cosine of the bank angle (denoted here by ���) so the\n",
    "# latter can be calculated as: ��� = cos−1\n",
    "# (\n",
    "# 1\n",
    "# n\n",
    "# )\n",
    "# so ���, in degrees, equals:\n",
    "theta_deg = math.acos(1/n_cvt_)*180/math.pi\n",
    "print(f\"{theta_deg}\\xb0\")\n",
    "# 45∘"
   ]
  },
  {
   "cell_type": "code",
   "execution_count": 18,
   "metadata": {
    "scrolled": true
   },
   "outputs": [
    {
     "name": "stdout",
     "output_type": "stream",
     "text": [
      "<zip object at 0x000002AB58DFF6C8> zp\n",
      "<class 'zip'>  type of zp\n"
     ]
    },
    {
     "name": "stderr",
     "output_type": "stream",
     "text": [
      "c:\\users\\geoff\\appdata\\local\\programs\\python\\python37\\lib\\site-packages\\ipykernel_launcher.py:5: MatplotlibDeprecationWarning: Adding an axes using the same arguments as a previous axes currently reuses the earlier instance.  In a future version, a new instance will always be created and returned.  Meanwhile, this warning can be suppressed, and the future behavior ensured, by passing a unique label to each axes instance.\n",
      "  \"\"\"\n"
     ]
    },
    {
     "data": {
      "text/plain": [
       "<matplotlib.patches.Polygon at 0x2ab510038d0>"
      ]
     },
     "execution_count": 18,
     "metadata": {},
     "output_type": "execute_result"
    },
    {
     "data": {
      "image/png": "[encoded data removed]",
      "text/plain": [
       "<Figure size 432x288 with 1 Axes>"
      ]
     },
     "metadata": {
      "needs_background": "light"
     },
     "output_type": "display_data"
    }
   ],
   "source": [
    "ConstVeloTurnPoly = ConstraintPoly(WSlistCVT_kgm2,TWlistCVT,\"magenta\", 0.1)\n",
    "\n",
    "figCVT = plt.figure()\n",
    "PlotSetUp(0, WSmax_kgm2, 0, TWmax, '$W/S\\,[\\,kg/m^2]$', '$T/W\\,[\\,\\,]$')\n",
    "axCVT = figCVT.add_subplot(111)\n",
    "axCVT.add_patch(ConstVeloTurnPoly)\n"
   ]
  },
  {
   "cell_type": "code",
   "execution_count": 19,
   "metadata": {},
   "outputs": [],
   "source": [
    "# Constraint 2: Rate of Climb"
   ]
  },
  {
   "cell_type": "code",
   "execution_count": 20,
   "metadata": {},
   "outputs": [],
   "source": [
    "WSlistROC_Pa = np.linspace(Start_Pa,8500,Resolution)\n",
    "TWlistROC = []\n",
    "i = 0\n",
    "for WS in WSlistROC_Pa:\n",
    "    TW = RateOfClimb_mps/ClimbSpeed_mpsCAS + CDmin\\\n",
    "    *q_climb_Pa/WSlistROC_Pa[i] + k*WSlistROC_Pa[i]/q_climb_Pa\n",
    "    TWlistROC.append(TW)\n",
    "    i = i + 1\n",
    "WSlistROC_kgm2 = [x*0.101971621 for x in WSlistROC_Pa]"
   ]
  },
  {
   "cell_type": "code",
   "execution_count": 21,
   "metadata": {},
   "outputs": [
    {
     "name": "stdout",
     "output_type": "stream",
     "text": [
      "<zip object at 0x000002AB58E3FF08> zp\n",
      "<class 'zip'>  type of zp\n"
     ]
    },
    {
     "name": "stderr",
     "output_type": "stream",
     "text": [
      "c:\\users\\geoff\\appdata\\local\\programs\\python\\python37\\lib\\site-packages\\ipykernel_launcher.py:6: MatplotlibDeprecationWarning: Adding an axes using the same arguments as a previous axes currently reuses the earlier instance.  In a future version, a new instance will always be created and returned.  Meanwhile, this warning can be suppressed, and the future behavior ensured, by passing a unique label to each axes instance.\n",
      "  \n"
     ]
    },
    {
     "data": {
      "text/plain": [
       "<matplotlib.patches.Polygon at 0x2ab58e10be0>"
      ]
     },
     "execution_count": 21,
     "metadata": {},
     "output_type": "execute_result"
    },
    {
     "data": {
      "image/png": "[encoded data removed]",
      "text/plain": [
       "<Figure size 432x288 with 1 Axes>"
      ]
     },
     "metadata": {
      "needs_background": "light"
     },
     "output_type": "display_data"
    }
   ],
   "source": [
    "RateOfClimbPoly = ConstraintPoly(WSlistROC_kgm2,TWlistROC\\\n",
    ",'blue',0.1)\n",
    "figROC = plt.figure()\n",
    "PlotSetUp(0, WSmax_kgm2, 0, TWmax, '$W/S\\,[\\,kg/m^2]$'\\\n",
    ", '$T/W\\,[\\,\\,]$')\n",
    "axROC = figROC.add_subplot(111)\n",
    "axROC.add_patch(RateOfClimbPoly)"
   ]
  },
  {
   "cell_type": "code",
   "execution_count": 22,
   "metadata": {},
   "outputs": [],
   "source": [
    "# Constraint 3: Take-Off Ground Run Constraint"
   ]
  },
  {
   "cell_type": "code",
   "execution_count": 23,
   "metadata": {},
   "outputs": [],
   "source": [
    "WSlistGR_Pa = np.linspace(Start_Pa,8500,Resolution)\n",
    "TWlistGR = []\n",
    "i = 0\n",
    "for WS in WSlistGR_Pa:\n",
    "    TW =(TakeOffSpeed_mpsCAS**2)/(2*9.81*GroundRun_m) + \\\n",
    "    q_TO_Pa*CDTO/WSlistGR_Pa[i]\\\n",
    "    + muTO*(1-q_TO_Pa*CLTO/WSlistGR_Pa[i])\n",
    "    TWlistGR.append(TW)\n",
    "    i = i + 1\n",
    "WSlistGR_kgm2 = [x*0.101971621 for x in WSlistGR_Pa]"
   ]
  },
  {
   "cell_type": "code",
   "execution_count": 24,
   "metadata": {},
   "outputs": [
    {
     "name": "stdout",
     "output_type": "stream",
     "text": [
      "<zip object at 0x000002AB5B0361C8> zp\n",
      "<class 'zip'>  type of zp\n"
     ]
    },
    {
     "name": "stderr",
     "output_type": "stream",
     "text": [
      "c:\\users\\geoff\\appdata\\local\\programs\\python\\python37\\lib\\site-packages\\ipykernel_launcher.py:5: MatplotlibDeprecationWarning: Adding an axes using the same arguments as a previous axes currently reuses the earlier instance.  In a future version, a new instance will always be created and returned.  Meanwhile, this warning can be suppressed, and the future behavior ensured, by passing a unique label to each axes instance.\n",
      "  \"\"\"\n"
     ]
    },
    {
     "data": {
      "text/plain": [
       "<matplotlib.patches.Polygon at 0x2ab5b00b160>"
      ]
     },
     "execution_count": 24,
     "metadata": {},
     "output_type": "execute_result"
    },
    {
     "data": {
      "image/png": "[encoded data removed]",
      "text/plain": [
       "<Figure size 432x288 with 1 Axes>"
      ]
     },
     "metadata": {
      "needs_background": "light"
     },
     "output_type": "display_data"
    }
   ],
   "source": [
    "TORunPoly = ConstraintPoly(WSlistGR_kgm2,TWlistGR,\"green\",0.1)\n",
    "figTOR = plt.figure()\n",
    "PlotSetUp(0, WSmax_kgm2, 0, TWmax, \"$W/S\\,[\\,kg/m^2]$\"\\\n",
    ", \"$T/W\\,[\\,\\,]$\")\n",
    "axTOR = figTOR.add_subplot(111)\n",
    "axTOR.add_patch(TORunPoly)"
   ]
  },
  {
   "cell_type": "code",
   "execution_count": 25,
   "metadata": {},
   "outputs": [],
   "source": [
    "# Desired Cruise Airspeed"
   ]
  },
  {
   "cell_type": "code",
   "execution_count": 26,
   "metadata": {},
   "outputs": [
    {
     "name": "stdout",
     "output_type": "stream",
     "text": [
      "<zip object at 0x000002AB5B0ADBC8> zp\n",
      "<class 'zip'>  type of zp\n"
     ]
    }
   ],
   "source": [
    "WSlistCR_Pa = np.linspace(Start_Pa,8500,Resolution)\n",
    "TWlistCR = []\n",
    "i = 0\n",
    "for WS in WSlistCR_Pa:\n",
    "    TW = q_cruise_Pa*CDmin*(1.0/WSlistCR_Pa[i])\\\n",
    "    + k*(1/q_cruise_Pa)*WSlistCR_Pa[i]\n",
    "    TWlistCR.append(TW)\n",
    "    i = i + 1\n",
    "WSlistCR_kgm2 = [x*0.101971621 for x in WSlistCR_Pa]\n",
    "CruisePoly = ConstraintPoly(WSlistCR_kgm2,TWlistCR,\"red\",0.1)"
   ]
  },
  {
   "cell_type": "code",
   "execution_count": 27,
   "metadata": {},
   "outputs": [
    {
     "name": "stderr",
     "output_type": "stream",
     "text": [
      "c:\\users\\geoff\\appdata\\local\\programs\\python\\python37\\lib\\site-packages\\ipykernel_launcher.py:4: MatplotlibDeprecationWarning: Adding an axes using the same arguments as a previous axes currently reuses the earlier instance.  In a future version, a new instance will always be created and returned.  Meanwhile, this warning can be suppressed, and the future behavior ensured, by passing a unique label to each axes instance.\n",
      "  after removing the cwd from sys.path.\n"
     ]
    },
    {
     "data": {
      "text/plain": [
       "<matplotlib.patches.Polygon at 0x2ab5b0a98d0>"
      ]
     },
     "execution_count": 27,
     "metadata": {},
     "output_type": "execute_result"
    },
    {
     "data": {
      "image/png": "[encoded data removed]",
      "text/plain": [
       "<Figure size 432x288 with 1 Axes>"
      ]
     },
     "metadata": {
      "needs_background": "light"
     },
     "output_type": "display_data"
    }
   ],
   "source": [
    "figCruise = plt.figure()\n",
    "PlotSetUp(0, WSmax_kgm2, 0, TWmax, \"$W/S\\,[\\,kg/m^2]$\"\\\n",
    ", \"$T/W\\,[\\,\\,]$\")\n",
    "axCruise = figCruise.add_subplot(111)\n",
    "axCruise.add_patch(CruisePoly)"
   ]
  },
  {
   "cell_type": "code",
   "execution_count": 28,
   "metadata": {},
   "outputs": [],
   "source": [
    "# Constraint 5: Approach Speed"
   ]
  },
  {
   "cell_type": "code",
   "execution_count": 29,
   "metadata": {},
   "outputs": [
    {
     "name": "stdout",
     "output_type": "stream",
     "text": [
      "15.409662936968813 kg/m^2\n",
      "<zip object at 0x000002AB5B155FC8> zp\n",
      "<class 'zip'>  type of zp\n"
     ]
    },
    {
     "name": "stderr",
     "output_type": "stream",
     "text": [
      "c:\\users\\geoff\\appdata\\local\\programs\\python\\python37\\lib\\site-packages\\ipykernel_launcher.py:12: MatplotlibDeprecationWarning: Adding an axes using the same arguments as a previous axes currently reuses the earlier instance.  In a future version, a new instance will always be created and returned.  Meanwhile, this warning can be suppressed, and the future behavior ensured, by passing a unique label to each axes instance.\n",
      "  if sys.path[0] == '':\n"
     ]
    },
    {
     "data": {
      "text/plain": [
       "<matplotlib.patches.Polygon at 0x2ab5b112358>"
      ]
     },
     "execution_count": 29,
     "metadata": {},
     "output_type": "execute_result"
    },
    {
     "data": {
      "image/png": "[encoded data removed]",
      "text/plain": [
       "<Figure size 432x288 with 1 Axes>"
      ]
     },
     "metadata": {
      "needs_background": "light"
     },
     "output_type": "display_data"
    }
   ],
   "source": [
    "WS_APP_Pa = q_APP_Pa*CLmax_approach\n",
    "WS_APP_kgm2 = WS_APP_Pa*0.101971621\n",
    "print(f\"{WS_APP_kgm2} kg/m^2\")\n",
    "# 15.41 kg/m^2\n",
    "WSlistAPP_kgm2 = [WS_APP_kgm2, WSmax_kgm2, WSmax_kgm2\\\n",
    ", WS_APP_kgm2, WS_APP_kgm2 ]\n",
    "TWlistAPP = [0, 0, TWmax, TWmax, 0 ]\n",
    "AppStallPoly = ConstraintPoly(WSlistAPP_kgm2,TWlistAPP\\\n",
    ",\"grey\",0.1)\n",
    "figAPP = plt.figure()\n",
    "PlotSetUp(0, WSmax_kgm2, 0, TWmax, \"$W/S\\,[\\,kg/m^2]$\", \"$T/W\\,[\\,\\,]$\")\n",
    "axAPP = figAPP.add_subplot(111)\n",
    "axAPP.add_patch(AppStallPoly)\n"
   ]
  },
  {
   "cell_type": "code",
   "execution_count": 30,
   "metadata": {},
   "outputs": [],
   "source": [
    "# Combined Constraint Diagram"
   ]
  },
  {
   "cell_type": "code",
   "execution_count": 31,
   "metadata": {},
   "outputs": [
    {
     "name": "stdout",
     "output_type": "stream",
     "text": [
      "<zip object at 0x000002AB5AF83E88> zp\n",
      "<class 'zip'>  type of zp\n",
      "<zip object at 0x000002AB58E3F9C8> zp\n",
      "<class 'zip'>  type of zp\n",
      "<zip object at 0x000002AB58E3F988> zp\n",
      "<class 'zip'>  type of zp\n",
      "<zip object at 0x000002AB5AF83A08> zp\n",
      "<class 'zip'>  type of zp\n",
      "<zip object at 0x000002AB5AF83308> zp\n",
      "<class 'zip'>  type of zp\n"
     ]
    },
    {
     "name": "stderr",
     "output_type": "stream",
     "text": [
      "c:\\users\\geoff\\appdata\\local\\programs\\python\\python37\\lib\\site-packages\\ipykernel_launcher.py:4: MatplotlibDeprecationWarning: Adding an axes using the same arguments as a previous axes currently reuses the earlier instance.  In a future version, a new instance will always be created and returned.  Meanwhile, this warning can be suppressed, and the future behavior ensured, by passing a unique label to each axes instance.\n",
      "  after removing the cwd from sys.path.\n"
     ]
    },
    {
     "data": {
      "text/plain": [
       "Text(0.05, 0.95, '\\n The feasible aeroplanelives\\n in this white space')"
      ]
     },
     "execution_count": 31,
     "metadata": {},
     "output_type": "execute_result"
    },
    {
     "data": {
      "image/png": "[encoded data removed]",
      "text/plain": [
       "<Figure size 720x720 with 1 Axes>"
      ]
     },
     "metadata": {
      "needs_background": "light"
     },
     "output_type": "display_data"
    }
   ],
   "source": [
    "figCOMP = plt.figure(figsize = (10,10))\n",
    "PlotSetUp(0, WSmax_kgm2, 0, TWmax, '$W/S\\,[\\,kg/m^2]$'\\\n",
    ", '$T/W\\,[\\,\\,]$')\n",
    "axCOMP = figCOMP.add_subplot(111)\n",
    "ConstVeloTurnPoly = ConstraintPoly(WSlistCVT_kgm2\\\n",
    ",TWlistCVT,'magenta',0.1)\n",
    "axCOMP.add_patch(ConstVeloTurnPoly)\n",
    "RateOfClimbPoly = ConstraintPoly(WSlistROC_kgm2\\\n",
    ",TWlistROC,'blue',0.1)\n",
    "axCOMP.add_patch(RateOfClimbPoly)\n",
    "TORunPoly = ConstraintPoly(WSlistGR_kgm2,TWlistGR,'green',0.1)\n",
    "axCOMP.add_patch(TORunPoly)\n",
    "CruisePoly = ConstraintPoly(WSlistCR_kgm2,TWlistCR,'red',0.1)\n",
    "axCOMP.add_patch(CruisePoly)\n",
    "AppStallPoly = ConstraintPoly(WSlistAPP_kgm2,TWlistAPP,'grey',0.1)\n",
    "axCOMP.add_patch(AppStallPoly)\n",
    "axCOMP.legend(['Turn','Climb','T/O run','Cruise'\\\n",
    ", 'App Stall'])\n",
    "textstr = '\\n The feasible aeroplane\\\n",
    "lives\\n in this white space'\n",
    "axCOMP.text(0.05, 0.95, textstr, transform=axCOMP.transAxes\\\n",
    ", fontsize=14, verticalalignment='top')"
   ]
  },
  {
   "cell_type": "code",
   "execution_count": 32,
   "metadata": {},
   "outputs": [],
   "source": [
    "# Since propeller and piston engine driven aircraft are normally designed in terms of engine\n",
    "# power rather than thrust, we next convert the constraint diagram from thrust to weight\n",
    "# ratio into an installed power requirement by specifying a propulsive eficiency ��� = 0.6\n",
    "# (note that un-supercharged piston engine power varies with altitude so we also allow for\n",
    "# this in the conversion using the Gagg and Ferrar model (see Gudmundsson [15]) with\n",
    "# PowerSL = Power∕(1.132��� − 0.132) where ��� is the air density ratio):"
   ]
  },
  {
   "cell_type": "code",
   "execution_count": 33,
   "metadata": {},
   "outputs": [],
   "source": [
    "PropEff = 0.6\n",
    "WSlistCVT_Pa = np.linspace(Start_Pa,8500,Resolution)\n",
    "PlistCVT_kW = []\n",
    "i = 0\n",
    "for WS in WSlistCVT_Pa:\n",
    "    TW = q_cruise_Pa*(CDmin/WSlistCVT_Pa[i]\\\n",
    "    + WSlistCVT_Pa[i]*k*(n_cvt_/q_cruise_Pa)**2)\n",
    "    P_kW = 9.81 * TW * DesignGrossWeight_kg\\\n",
    "    * CruisingSpeed_mpsTAS / PropEff \\\n",
    "    / (1.132*CruisingAltDens_kgm3/SeaLevelDens_kgm3-0.132)/1000\n",
    "    PlistCVT_kW.append(P_kW)\n",
    "    i = i + 1\n",
    "WSlistCVT_kgm2 = [x*0.101971621 for x in WSlistCVT_Pa]\n"
   ]
  },
  {
   "cell_type": "code",
   "execution_count": 34,
   "metadata": {},
   "outputs": [],
   "source": [
    "WSlistROC_Pa = np.linspace(Start_Pa,8500,Resolution)\n",
    "PlistROC_kW = []\n",
    "i = 0\n",
    "for WS in WSlistROC_Pa:\n",
    "    TW = RateOfClimb_mps/ClimbSpeed_mpsCAS\\\n",
    "    + CDmin*q_climb_Pa/WSlistROC_Pa[i] \\\n",
    "    + k*WSlistROC_Pa[i]/q_climb_Pa\n",
    "    P_kW = 9.81 * TW * DesignGrossWeight_kg\\\n",
    "    * ClimbSpeed_mpsCAS / PropEff \\\n",
    "    / (1.132*ClimbAltDens_kgm3/SeaLevelDens_kgm3-0.132)/1000\n",
    "    PlistROC_kW.append(P_kW)\n",
    "    i = i + 1\n",
    "WSlistROC_kgm2 = [x*0.101971621 for x in WSlistROC_Pa]"
   ]
  },
  {
   "cell_type": "code",
   "execution_count": 35,
   "metadata": {},
   "outputs": [],
   "source": [
    "WSlistGR_Pa = np.linspace(Start_Pa,8500,Resolution)\n",
    "PlistGR_kW = []\n",
    "i = 0\n",
    "for WS in WSlistGR_Pa:\n",
    "    TW =(TakeOffSpeed_mpsCAS**2)/(2*9.81*GroundRun_m) + \\\n",
    "    q_TO_Pa*CDTO/WSlistGR_Pa[i]\\\n",
    "    + muTO*(1-q_TO_Pa*CLTO/WSlistGR_Pa[i])\n",
    "    P_kW = 9.81 * TW * DesignGrossWeight_kg\\\n",
    "    * TakeOffSpeed_mpsCAS / PropEff \\\n",
    "    / (1.132*TakeOffDens_kgm3/SeaLevelDens_kgm3-0.132)/1000\n",
    "    PlistGR_kW.append(P_kW)\n",
    "    i = i + 1\n",
    "WSlistGR_kgm2 = [x*0.101971621 for x in WSlistGR_Pa]"
   ]
  },
  {
   "cell_type": "code",
   "execution_count": 36,
   "metadata": {},
   "outputs": [],
   "source": [
    "WSlistCR_Pa = np.linspace(Start_Pa,8500,Resolution)\n",
    "PlistCR_kW = []\n",
    "i = 0\n",
    "for WS in WSlistCR_Pa:\n",
    "    TW = q_cruise_Pa*CDmin*(1.0/WSlistCR_Pa[i])\\\n",
    "    + k*(1/q_cruise_Pa)*WSlistCR_Pa[i]\n",
    "    P_kW = 9.81 * TW * DesignGrossWeight_kg\\\n",
    "    * CruisingSpeed_mpsTAS / PropEff \\\n",
    "    / (1.132*CruisingAltDens_kgm3/SeaLevelDens_kgm3-0.132)/1000\n",
    "    PlistCR_kW.append(P_kW)\n",
    "    i = i + 1\n",
    "WSlistCR_kgm2 = [x*0.101971621 for x in WSlistCR_Pa]"
   ]
  },
  {
   "cell_type": "code",
   "execution_count": 37,
   "metadata": {},
   "outputs": [],
   "source": [
    "WSlistAPP_kgm2 = [WS_APP_kgm2, WSmax_kgm2, WSmax_kgm2\\\n",
    ", WS_APP_kgm2, WS_APP_kgm2 ]\n",
    "PlistAPP_kW = [0, 0, Pmax_kW, Pmax_kW, 0 ]"
   ]
  },
  {
   "cell_type": "code",
   "execution_count": 39,
   "metadata": {},
   "outputs": [
    {
     "name": "stdout",
     "output_type": "stream",
     "text": [
      "<zip object at 0x000002AB5B210CC8> zp\n",
      "<class 'zip'>  type of zp\n",
      "<zip object at 0x000002AB5AF6C1C8> zp\n",
      "<class 'zip'>  type of zp\n",
      "<zip object at 0x000002AB5AF7C248> zp\n",
      "<class 'zip'>  type of zp\n",
      "<zip object at 0x000002AB5AF7BE48> zp\n",
      "<class 'zip'>  type of zp\n",
      "<zip object at 0x000002AB5AF7F108> zp\n",
      "<class 'zip'>  type of zp\n"
     ]
    },
    {
     "name": "stderr",
     "output_type": "stream",
     "text": [
      "c:\\users\\geoff\\appdata\\local\\programs\\python\\python37\\lib\\site-packages\\ipykernel_launcher.py:4: MatplotlibDeprecationWarning: Adding an axes using the same arguments as a previous axes currently reuses the earlier instance.  In a future version, a new instance will always be created and returned.  Meanwhile, this warning can be suppressed, and the future behavior ensured, by passing a unique label to each axes instance.\n",
      "  after removing the cwd from sys.path.\n"
     ]
    },
    {
     "data": {
      "text/plain": [
       "Text(0.05, 0.95, '\\n The feasible aeroplanelives\\n in this white space')"
      ]
     },
     "execution_count": 39,
     "metadata": {},
     "output_type": "execute_result"
    },
    {
     "data": {
      "image/png": "[encoded data removed]",
      "text/plain": [
       "<Figure size 720x720 with 1 Axes>"
      ]
     },
     "metadata": {
      "needs_background": "light"
     },
     "output_type": "display_data"
    }
   ],
   "source": [
    "figCOMP = plt.figure(figsize = (10,10))\n",
    "PlotSetUp(0, WSmax_kgm2, 0, Pmax_kW, '$W/S\\,[\\,kg/m^2]$'\\\n",
    ", '$P\\,[\\,kW]$')\n",
    "axCOMP = figCOMP.add_subplot(111)\n",
    "ConstVeloTurnPoly = ConstraintPoly(WSlistCVT_kgm2,PlistCVT_kW\\\n",
    ",'magenta',0.1)\n",
    "axCOMP.add_patch(ConstVeloTurnPoly)\n",
    "RateOfClimbPoly = ConstraintPoly(WSlistROC_kgm2,PlistROC_kW\\\n",
    ",'blue',0.1)\n",
    "axCOMP.add_patch(RateOfClimbPoly)\n",
    "TORunPoly = ConstraintPoly(WSlistGR_kgm2,PlistGR_kW,'green',0.1)\n",
    "axCOMP.add_patch(TORunPoly)\n",
    "CruisePoly = ConstraintPoly(WSlistCR_kgm2,PlistCR_kW,'red',0.1)\n",
    "axCOMP.add_patch(CruisePoly)\n",
    "AppStallPoly = ConstraintPoly(WSlistAPP_kgm2,PlistAPP_kW,'grey',0.1)\n",
    "axCOMP.add_patch(AppStallPoly)\n",
    "axCOMP.legend(['Turn','Climb','T/O run','Cruise', 'App Stall'])\n",
    "textstr = '\\n The feasible aeroplane\\\n",
    "lives\\n in this white space'\n",
    "axCOMP.text(0.05, 0.95, textstr, transform=axCOMP.transAxes\\\n",
    ", fontsize=14, verticalalignment='top')"
   ]
  },
  {
   "cell_type": "code",
   "execution_count": null,
   "metadata": {},
   "outputs": [],
   "source": []
  },
  {
   "cell_type": "code",
   "execution_count": null,
   "metadata": {},
   "outputs": [],
   "source": []
  },
  {
   "cell_type": "code",
   "execution_count": null,
   "metadata": {},
   "outputs": [],
   "source": []
  },
  {
   "cell_type": "code",
   "execution_count": null,
   "metadata": {},
   "outputs": [],
   "source": []
  },
  {
   "cell_type": "code",
   "execution_count": null,
   "metadata": {},
   "outputs": [],
   "source": []
  },
  {
   "cell_type": "code",
   "execution_count": null,
   "metadata": {},
   "outputs": [],
   "source": []
  }
 ],
 "metadata": {
  "file_extension": ".py",
  "kernelspec": {
   "display_name": "Python 3",
   "language": "python",
   "name": "python3"
  },
  "language_info": {
   "codemirror_mode": {
    "name": "ipython",
    "version": 3
   },
   "file_extension": ".py",
   "mimetype": "text/x-python",
   "name": "python",
   "nbconvert_exporter": "python",
   "pygments_lexer": "ipython3",
   "version": "3.7.3"
  },
  "mimetype": "text/x-python",
  "name": "python",
  "npconvert_exporter": "python",
  "pygments_lexer": "ipython3",
  "version": 3
 },
 "nbformat": 4,
 "nbformat_minor": 2
}