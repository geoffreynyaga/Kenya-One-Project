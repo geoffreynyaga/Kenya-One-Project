{
 "cells": [
  {
   "cell_type": "code",
   "execution_count": 1,
   "metadata": {
    "collapsed": true
   },
   "outputs": [],
   "source": [
    "__author__ = 'Geoffrey Nyaga'\n",
    "\n",
    "import sys\n",
    "sys.path.append('../')\n",
    "from API.db_API import write_to_db, read_from_db\n",
    "\n",
    "import numpy as np\n",
    "from sklearn import tree\n",
    "import pandas as pd \n",
    "import random"
   ]
  },
  {
   "cell_type": "code",
   "execution_count": 2,
   "metadata": {
    "collapsed": true
   },
   "outputs": [],
   "source": [
    "weather_data = [\n",
    "    ('1/1/17',32,6,'Rain'),\n",
    "    ('1,2,17',35,7,'Sunny')\n",
    "]"
   ]
  },
  {
   "cell_type": "code",
   "execution_count": 3,
   "metadata": {
    "collapsed": true
   },
   "outputs": [],
   "source": [
    "# df = pd.DataFrame(weather_data, columns = [\"day\",\"temp\",\"windspeed\",\"event\"])\n",
    "\n",
    "# df"
   ]
  },
  {
   "cell_type": "code",
   "execution_count": 4,
   "metadata": {},
   "outputs": [],
   "source": [
    "aircraft_categories = [\"LSA\",\"GA\",\"Sailplanes\"]"
   ]
  },
  {
   "cell_type": "code",
   "execution_count": 5,
   "metadata": {
    "collapsed": true
   },
   "outputs": [],
   "source": [
    "finaldp = []\n",
    "\n",
    "LSA = 50000\n",
    "\n",
    "def dpLSA():\n",
    "    grossweight = random.randint(400,1430)\n",
    "    emptyweight = random.randint(200,880)\n",
    "    wingarea = random.randint(75,160)\n",
    "    wingspan = random.randint(17,35)\n",
    "    row = ((grossweight,emptyweight,wingarea,wingspan,0))\n",
    "    return row\n",
    "\n",
    "\n",
    "for x in range(LSA):\n",
    "    temp = dpLSA()\n",
    "    finaldp.append(temp,)"
   ]
  },
  {
   "cell_type": "code",
   "execution_count": 6,
   "metadata": {
    "collapsed": true
   },
   "outputs": [],
   "source": [
    "# df = pd.DataFrame(mydata, columns = [\"grossweight\",\"emptyweight\",\"wingarea\",\"wingspan\",\"target\"])\n",
    "# df"
   ]
  },
  {
   "cell_type": "code",
   "execution_count": 7,
   "metadata": {
    "collapsed": true
   },
   "outputs": [],
   "source": [
    "GA = 50000\n",
    "\n",
    "def dpGA():\n",
    "    grossweight = random.randint(400,1430)\n",
    "    emptyweight = random.randint(200,880)\n",
    "    wingarea = random.randint(75,160)\n",
    "    wingspan = random.randint(17,35)\n",
    "    row = ((grossweight,emptyweight,wingarea,wingspan,1))\n",
    "    return row\n",
    "\n",
    "for x in range(GA):\n",
    "    temp = dpGA()\n",
    "    finaldp.append(temp,)\n",
    "\n",
    "mydata = finaldp\n",
    "mydata2 = finaldp[1]"
   ]
  },
  {
   "cell_type": "code",
   "execution_count": 8,
   "metadata": {},
   "outputs": [
    {
     "name": "stdout",
     "output_type": "stream",
     "text": [
      "(1320, 827, 148, 17, 0)\n"
     ]
    }
   ],
   "source": [
    "print(mydata2)"
   ]
  },
  {
   "cell_type": "code",
   "execution_count": 9,
   "metadata": {
    "collapsed": true
   },
   "outputs": [],
   "source": [
    "sailplanes = 50000\n",
    "\n",
    "def dpSailplanes():\n",
    "    grossweight = random.randint(280,1700)\n",
    "    emptyweight = random.randint(100,1100)\n",
    "    wingarea = random.randint(120,150)\n",
    "    wingspan = random.randint(35,101)\n",
    "    row = ((grossweight,emptyweight,wingarea,wingspan,2))\n",
    "    return row\n",
    "\n",
    "for x in range(sailplanes):\n",
    "    temp = dpSailplanes()\n",
    "    finaldp.append(temp,)\n"
   ]
  },
  {
   "cell_type": "code",
   "execution_count": 10,
   "metadata": {},
   "outputs": [],
   "source": [
    "df = pd.DataFrame(mydata, columns = [\"grossweight\",\"emptyweight\",\"wingarea\",\"wingspan\",\"target\"])\n",
    "# print(df.target,\"columns\")\n",
    "\n",
    "# for i in range(len(df.wingspan)):\n",
    "#     print (\"Example %d: wingspan %s, target %s\"% (i,df.wingspan[i],df.target[i]))\n",
    "    \n",
    "# print(np.array(finaldp) )\n",
    "\n",
    "# dff = pd.DataFrame(mydata2)"
   ]
  },
  {
   "cell_type": "code",
   "execution_count": 11,
   "metadata": {},
   "outputs": [],
   "source": [
    "# test_idx = [0,50,100]\n",
    "\n",
    "#training data\n",
    "train_target = np.array(df.target)\n",
    "\n",
    "# print(train_target)\n",
    "train_data = np.array(finaldp)\n",
    "c = np.delete(train_data,[4], axis =1 )\n",
    "# print (c)\n",
    "# print(train_data.shape)\n",
    "#testing data\n",
    "# test_target = df.target(test_idx)\n",
    "# test_data = d([test_idx]\n",
    "\n",
    "clf = tree.DecisionTreeClassifier()\n",
    "clf = clf.fit(c,train_target)\n",
    "\n",
    "# print(train_data)"
   ]
  },
  {
   "cell_type": "code",
   "execution_count": 12,
   "metadata": {},
   "outputs": [
    {
     "name": "stdout",
     "output_type": "stream",
     "text": [
      "[0]  is the prediction\n"
     ]
    }
   ],
   "source": [
    "mydict = [400,200,75,17]\n",
    "# print((wingSpan,S,AR,taper,htar,httaper,VTAR,VTtaper,emptyWeight,MTOW))\n",
    "# print(mydict,\"this is mydict\")\n",
    "prediction = clf.predict([mydict])\n",
    "# prediction = prediction[0]\n",
    "# print(prediction,\"prediction\")\n",
    "\n",
    "# a = list(datatest.columns.values)\n",
    "# print(a)\n",
    "print(prediction,\" is the prediction\")"
   ]
  },
  {
   "cell_type": "code",
   "execution_count": 13,
   "metadata": {},
   "outputs": [
    {
     "data": {
      "text/plain": [
       "'LSA'"
      ]
     },
     "execution_count": 13,
     "metadata": {},
     "output_type": "execute_result"
    }
   ],
   "source": [
    "aircraft_categories[prediction[0]]\n"
   ]
  },
  {
   "cell_type": "code",
   "execution_count": null,
   "metadata": {
    "collapsed": true
   },
   "outputs": [],
   "source": []
  }
 ],
 "metadata": {
  "kernelspec": {
   "display_name": "Python [conda root]",
   "language": "python",
   "name": "conda-root-py"
  },
  "language_info": {
   "codemirror_mode": {
    "name": "ipython",
    "version": 3
   },
   "file_extension": ".py",
   "mimetype": "text/x-python",
   "name": "python",
   "nbconvert_exporter": "python",
   "pygments_lexer": "ipython3",
   "version": "3.5.2"
  }
 },
 "nbformat": 4,
 "nbformat_minor": 1
}
