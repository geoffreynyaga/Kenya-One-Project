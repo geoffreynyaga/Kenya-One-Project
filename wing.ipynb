{
 "cells": [
  {
   "cell_type": "code",
   "execution_count": 1,
   "metadata": {
    "collapsed": true,
    "deletable": true,
    "editable": true
   },
   "outputs": [],
   "source": [
    "from math import sqrt,cos,sin,pi,log\n",
    "import numpy as np\n",
    "import matplotlib.pylab as plt"
   ]
  },
  {
   "cell_type": "code",
   "execution_count": null,
   "metadata": {
    "collapsed": false,
    "deletable": true,
    "editable": true
   },
   "outputs": [],
   "source": []
  },
  {
   "cell_type": "code",
   "execution_count": 2,
   "metadata": {
    "collapsed": false,
    "deletable": true,
    "editable": true
   },
   "outputs": [],
   "source": [
    "taper = 0.8\n",
    "S = 200  #sq ft\n"
   ]
  },
  {
   "cell_type": "code",
   "execution_count": 3,
   "metadata": {
    "collapsed": false,
    "deletable": true,
    "editable": true
   },
   "outputs": [
    {
     "name": "stdout",
     "output_type": "stream",
     "text": [
      "0.0017560745944146475 Altitude Density\n",
      "0.2075872836881338 Cruise CL\n",
      "8.003019607843137e-05 ct\n",
      "3.9142575497301757 Range AR\n",
      "-2.9863244743628394 Endurance AR\n",
      "For Sailplanes\n",
      "8.548423779423231 unpowered Sailplane AR\n",
      "7.959207124389543 powered Sailplane AR\n"
     ]
    }
   ],
   "source": [
    "#IMPORT SOME OF THE VALUES HERE\n",
    "initialWeight = 3379\n",
    "finalWeight = 2910\n",
    "altitude = 10000 #ft\n",
    "rhoSL = 0.002378\n",
    "averageWeight = (initialWeight+finalWeight)/2\n",
    "cbhp = 0.4586\n",
    "propEff = 0.85\n",
    "cruiseSpeed =293.7\n",
    "Range = 3937008 #ft\n",
    "cdMin = 0.02541\n",
    "endurance = 5.172 #hours\n",
    "### check spelling from previous modules\n",
    "LDmax = 13.41\n",
    "\n",
    "\n",
    "class aspectRatio:\n",
    "    def __init__ (self,initialWeight,finalWeight,altitude,cruiseSpeed,S):\n",
    "        self.initialWeight = initialWeight\n",
    "        self.finalWeight = finalWeight\n",
    "        self.altitude =altitude\n",
    "        self.cruiseSpeed = cruiseSpeed\n",
    "        self.S = S\n",
    "        \n",
    "    def altitudeDensity(self):\n",
    "        ### fetch this function in other script\n",
    "        altitudeDensity = rhoSL*(1-0.0000068756*self.altitude)**4.2561\n",
    "        return altitudeDensity\n",
    "    \n",
    "    def cruiseCL (self):\n",
    "        #### make a function to calculate cl\n",
    "        cruiseCL = (2* averageWeight) / (aspectRatio.altitudeDensity(self)*self.S* self.cruiseSpeed**2)\n",
    "        return cruiseCL\n",
    "    \n",
    "    def ct (self):\n",
    "        ct = (cbhp * self.cruiseSpeed) / (1980000 * propEff)\n",
    "        return ct\n",
    "    \n",
    "    def rangeAR (self):\n",
    "        ###include range in the init function\n",
    "        rangeAR = ((aspectRatio.cruiseCL(self))**2 ) / (pi*(( (self.cruiseSpeed*aspectRatio.cruiseCL(self)* log(self.initialWeight/self.finalWeight))/(Range * aspectRatio.ct(self))) - cdMin) )     \n",
    "        return rangeAR\n",
    "    \n",
    "    def enduranceAR(self):\n",
    "        enduranceAR = ((aspectRatio.cruiseCL(self))**2 ) / (pi*(( (aspectRatio.cruiseCL(self)* log(self.initialWeight/self.finalWeight))/(endurance*3600 * aspectRatio.ct(self))) - cdMin) )     \n",
    "        return enduranceAR\n",
    "    \n",
    "    ## put some if-else statements for the sailplane category and remember to check the automatic AR<36 rule\n",
    "    \n",
    "    def unPoweredSailplaneAR(self):\n",
    "        unPoweredSailplaneAR = 44.482 - sqrt(1672.2-28.41*LDmax)\n",
    "        return unPoweredSailplaneAR\n",
    "    \n",
    "    def poweredSailplaneAR(self):\n",
    "        poweredSailplaneAR = (LDmax + 0.443)/1.7405\n",
    "        return poweredSailplaneAR\n",
    "    \n",
    "        \n",
    "\n",
    "    \n",
    "wing = aspectRatio(initialWeight,finalWeight,altitude,cruiseSpeed,S)\n",
    "\n",
    "print(wing.altitudeDensity(),\"Altitude Density\")\n",
    "print(wing.cruiseCL(),\"Cruise CL\")\n",
    "print (wing.ct(),\"ct\")\n",
    "print (wing.rangeAR(),\"Range AR\")\n",
    "print (wing.enduranceAR(),\"Endurance AR\")\n",
    "print ('For Sailplanes')\n",
    "print (wing.unPoweredSailplaneAR(),\"unpowered Sailplane AR\")\n",
    "print (wing.poweredSailplaneAR(),\"powered Sailplane AR\")"
   ]
  },
  {
   "cell_type": "code",
   "execution_count": 4,
   "metadata": {
    "collapsed": false,
    "deletable": true,
    "editable": true
   },
   "outputs": [
    {
     "name": "stdout",
     "output_type": "stream",
     "text": [
      "27.97948373265731 wingspan\n",
      "7.148094722225429 average chord\n",
      "7.942327469139365 root chord\n",
      "6.353861975311492 tip chord\n",
      "7.177510749888909 MGC\n",
      "6.806877287852543 chord at Y\n",
      "6.735801639343427 Y Location of MGC\n"
     ]
    }
   ],
   "source": [
    "class wingDimensions:\n",
    "    \n",
    "    def __init__ (self, S , AR, taper):        \n",
    "        self.AR = AR\n",
    "        self.S = S\n",
    "        self.taper = taper\n",
    "        \n",
    "    def wingSpan (self):\n",
    "        wingspan = sqrt (self.AR *self.S) \n",
    "        return wingspan\n",
    "    \n",
    "    def Cavg (self):\n",
    "        Cavg = wingDimensions.wingSpan(self)/self.AR\n",
    "        return Cavg\n",
    "    \n",
    "    def rootChord(self):\n",
    "        rootChord = 2* wingDimensions.Cavg(self)/ (1+self.taper)\n",
    "        return rootChord\n",
    "    \n",
    "    def tipChord (self):\n",
    "        tipChord = self.taper*wingDimensions.rootChord(self)\n",
    "        return tipChord\n",
    "    \n",
    "    def meanGeometricChord (self):\n",
    "        meanGeometricChord = (2/3)*(wingDimensions.rootChord(self))*((1+self.taper+self.taper**2)/(1+self.taper))\n",
    "        return meanGeometricChord\n",
    "    \n",
    "    def chordAtY (self,y):\n",
    "        chordAtY = wingDimensions.rootChord(self)*(1+(2*(self.taper - 1)*y/wingDimensions.wingSpan(self)))\n",
    "        return chordAtY\n",
    "    \n",
    "    def yMGC (self):\n",
    "        yMGC = (wingDimensions.wingSpan(self)/6)*((1+2*self.taper)/(1+self.taper))\n",
    "        return yMGC\n",
    "    \n",
    "wing1 = wingDimensions(S,wing.rangeAR(),taper)\n",
    "\n",
    "print (wing1.wingSpan(),\"wingspan\")\n",
    "print (wing1.Cavg(),\"average chord\")\n",
    "print (wing1.rootChord(),\"root chord\")\n",
    "print (wing1.tipChord(),\"tip chord\") \n",
    "print (wing1.meanGeometricChord(),\"MGC\") \n",
    "print (wing1.chordAtY(10),\"chord at Y\")   #CHANGE 10 LATER TO INPUT\n",
    "print (wing1.yMGC(),\"Y Location of MGC\")"
   ]
  },
  {
   "cell_type": "code",
   "execution_count": 5,
   "metadata": {
    "collapsed": true,
    "deletable": true,
    "editable": true
   },
   "outputs": [],
   "source": [
    "### Gudmundsson says that taper ratio is the second most important geometric properties of the wing"
   ]
  },
  {
   "cell_type": "code",
   "execution_count": 6,
   "metadata": {
    "collapsed": false,
    "deletable": true,
    "editable": true
   },
   "outputs": [
    {
     "data": {
      "image/png": "[encoded data removed]",
      "text/plain": [
       "<matplotlib.figure.Figure at 0x2584e2fbf60>"
      ]
     },
     "metadata": {},
     "output_type": "display_data"
    }
   ],
   "source": [
    "## LDmax as a funtion of taper ratio\n",
    "ARrange = np.arange(10,36)\n",
    "ldmaxPowered = 1.7405*ARrange - 0.443\n",
    "ldmaxunpowered = 0.0352*ARrange**2 + 3.1315*ARrange - 10.787\n",
    "\n",
    "plt.plot(ARrange,ldmaxPowered)\n",
    "plt.plot(ARrange,ldmaxunpowered)\n",
    "plt.show()"
   ]
  },
  {
   "cell_type": "code",
   "execution_count": 7,
   "metadata": {
    "collapsed": true,
    "deletable": true,
    "editable": true
   },
   "outputs": [],
   "source": [
    "#IMPORT ALL THESE JUNK SOMETIMES LATER... AND JEEZ ORGANIZE THE DAMN CODE\n",
    "clalfa = 6.1\n",
    "alfazero = -3.2\n",
    "finalMTOW = 3600"
   ]
  },
  {
   "cell_type": "code",
   "execution_count": 8,
   "metadata": {
    "collapsed": false,
    "deletable": true,
    "editable": true
   },
   "outputs": [],
   "source": [
    "AOA = 5 #Degrees\n",
    "\n",
    "\n",
    "angularStation = np.array([22.5,45.0,67.5,90.0])/57.296\n",
    "CosangularStation = np.cos (angularStation)\n",
    "cTheta = wing1.tipChord()*CosangularStation + ( wing1.rootChord()*(1-CosangularStation)) \n",
    "SinangularStation = np.sin(angularStation)\n",
    "SinangularStation3 = np.sin(angularStation*3)\n",
    "SinangularStation5 = np.sin(angularStation*5)\n",
    "SinangularStation7 = np.sin(angularStation*7)\n",
    "angularMu = cTheta*clalfa/(4*wing1.wingSpan())                 "
   ]
  },
  {
   "cell_type": "code",
   "execution_count": 9,
   "metadata": {
    "collapsed": false,
    "deletable": true,
    "editable": true
   },
   "outputs": [
    {
     "name": "stdout",
     "output_type": "stream",
     "text": [
      "[ 0.39269757  0.78539514  1.17809271  1.57079028]\n",
      "[  9.23880111e-01   7.07108918e-01   3.82687621e-01   6.04475077e-06]\n",
      "[ 6.47477579  6.81910935  7.33444139  7.94231787]\n",
      "[ 0.38268204  0.70710464  0.9238778   1.        ]\n",
      "[ 0.9238778   0.70711319 -0.38267087 -1.        ]\n",
      "[ 0.92388242 -0.7070961  -0.38270437  1.        ]\n",
      "[ 0.38269321 -0.70712174  0.92389168 -1.        ]\n",
      "[ 0.35290262  0.37167025  0.39975802  0.43288986]\n"
     ]
    }
   ],
   "source": [
    "print (angularStation)\n",
    "print (CosangularStation)\n",
    "print (cTheta)\n",
    "print(SinangularStation)\n",
    "print(SinangularStation3)\n",
    "print(SinangularStation5)\n",
    "print(SinangularStation7)\n",
    "print (angularMu)"
   ]
  },
  {
   "cell_type": "code",
   "execution_count": 10,
   "metadata": {
    "collapsed": false,
    "deletable": true,
    "editable": true
   },
   "outputs": [],
   "source": [
    "A11 = SinangularStation*(angularMu + SinangularStation)\n",
    "A12 = SinangularStation3*(3*angularMu + SinangularStation)\n",
    "A13 = SinangularStation5*(5*angularMu + SinangularStation)\n",
    "A14 = SinangularStation7*(7*angularMu + SinangularStation)\n",
    "A = np.array([A11,A12,A13,A14])\n",
    "Afinal = A.transpose()\n",
    "\n",
    "B1 = angularMu*(AOA/57.296 - alfazero/57.296)*SinangularStation\n",
    "Bfinal = B1.reshape(4,1)"
   ]
  },
  {
   "cell_type": "code",
   "execution_count": null,
   "metadata": {
    "collapsed": false,
    "deletable": true,
    "editable": true
   },
   "outputs": [],
   "source": []
  },
  {
   "cell_type": "code",
   "execution_count": 11,
   "metadata": {
    "collapsed": false,
    "deletable": true,
    "editable": true
   },
   "outputs": [],
   "source": [
    "#c = Afinal**-1   # THIS METHOD DOESNT WORK FOR MATRIX INVERSE...SH*T AINT LIKE MATLAB HAHA 1 HOUR WASTED\n",
    "c = np.linalg.inv(Afinal)\n",
    "d = np.dot(c,Bfinal)\n",
    "d0 = d[0]"
   ]
  },
  {
   "cell_type": "code",
   "execution_count": null,
   "metadata": {
    "collapsed": false,
    "deletable": true,
    "editable": true
   },
   "outputs": [],
   "source": []
  },
  {
   "cell_type": "code",
   "execution_count": 12,
   "metadata": {
    "collapsed": false,
    "deletable": true,
    "editable": true
   },
   "outputs": [
    {
     "name": "stdout",
     "output_type": "stream",
     "text": [
      "[ 0.56879747]\n"
     ]
    }
   ],
   "source": [
    "cl = np.pi*wing.rangeAR()*d0  \n",
    "print (cl)"
   ]
  },
  {
   "cell_type": "code",
   "execution_count": 13,
   "metadata": {
    "collapsed": false,
    "deletable": true,
    "editable": true
   },
   "outputs": [],
   "source": [
    "dFactor = 3*(d[1]/d[0])**2 + (5*(d[2]/d[0])**2) + (7*(d[3]/d[0])**2)"
   ]
  },
  {
   "cell_type": "code",
   "execution_count": 14,
   "metadata": {
    "collapsed": false,
    "deletable": true,
    "editable": true
   },
   "outputs": [],
   "source": [
    "CDi = cl**2*(1+dFactor)/(np.pi*wing.rangeAR())   "
   ]
  },
  {
   "cell_type": "code",
   "execution_count": 15,
   "metadata": {
    "collapsed": false,
    "deletable": true,
    "editable": true
   },
   "outputs": [
    {
     "name": "stdout",
     "output_type": "stream",
     "text": [
      "[ 0.98325587]\n"
     ]
    }
   ],
   "source": [
    "oswaldeff = 1/(1+dFactor)\n",
    "print(oswaldeff)"
   ]
  },
  {
   "cell_type": "code",
   "execution_count": 16,
   "metadata": {
    "collapsed": false,
    "deletable": true,
    "editable": true
   },
   "outputs": [
    {
     "name": "stdout",
     "output_type": "stream",
     "text": [
      "[ 3.9743683] per radian\n"
     ]
    }
   ],
   "source": [
    "CLalfa = cl/((AOA/57.296) - (alfazero/57.296))\n",
    "print (CLalfa , \"per radian\")"
   ]
  },
  {
   "cell_type": "code",
   "execution_count": 17,
   "metadata": {
    "collapsed": false,
    "deletable": true,
    "editable": true
   },
   "outputs": [
    {
     "name": "stdout",
     "output_type": "stream",
     "text": [
      "163.1422681484366 ft/s\n"
     ]
    }
   ],
   "source": [
    "vel = sqrt ((2*finalMTOW)/(rhoSL*S*cl)) \n",
    "print (vel,\"ft/s\")"
   ]
  },
  {
   "cell_type": "code",
   "execution_count": 18,
   "metadata": {
    "collapsed": false,
    "deletable": true,
    "editable": true
   },
   "outputs": [
    {
     "name": "stdout",
     "output_type": "stream",
     "text": [
      "CL of the reduced Wing\n",
      "0.6815850763771479 CL due to reduced Wing\n",
      "23.812483732657313 ft, reduced wingspan\n",
      "166.90432143609627 ft^2, reduced Wing Area\n",
      "3.3973618935635126 reduced AR\n",
      "7.705756423868256 reduced Root Chord\n",
      "0.9999999999999999 reduced Taper\n"
     ]
    }
   ],
   "source": [
    "#Accounting for the fuselage\n",
    "fuselageWidth = 4.167 #ft\n",
    "reducedWingspan = wing1.wingSpan() - fuselageWidth\n",
    "reducedS = S - (wing1.rootChord()*fuselageWidth)\n",
    "reducedAR = (reducedWingspan**2)/reducedS\n",
    "reducedRootChord= (wing1.rootChord()*(1-(fuselageWidth/wing1.wingSpan())) )+(wing1.tipChord()*(fuselageWidth/wing1.wingSpan()))\n",
    "reducedTaper = (wing1.wingSpan()*wing1.rootChord())/(wing1.rootChord()*(wing1.wingSpan()-fuselageWidth)+(fuselageWidth*wing1.rootChord()))\n",
    "\n",
    "\n",
    "print (\"CL of the reduced Wing\")\n",
    "reducedCL = ((2*finalMTOW)/(rhoSL*vel**2*reducedS)) #it actually increased. The name reducedCl is just for formality\n",
    "print(reducedCL,\"CL due to reduced Wing\")\n",
    "print(reducedWingspan,\"ft, reduced wingspan\")\n",
    "print(reducedS,\"ft^2, reduced Wing Area\")\n",
    "print(reducedAR,\"reduced AR\" )\n",
    "print(reducedRootChord,\"reduced Root Chord\" )\n",
    "print(reducedTaper,\"reduced Taper\" )"
   ]
  },
  {
   "cell_type": "code",
   "execution_count": null,
   "metadata": {
    "collapsed": true,
    "deletable": true,
    "editable": true
   },
   "outputs": [],
   "source": []
  }
 ],
 "metadata": {
  "anaconda-cloud": {},
  "kernelspec": {
   "display_name": "Python [conda root]",
   "language": "python",
   "name": "conda-root-py"
  },
  "language_info": {
   "codemirror_mode": {
    "name": "ipython",
    "version": 3
   },
   "file_extension": ".py",
   "mimetype": "text/x-python",
   "name": "python",
   "nbconvert_exporter": "python",
   "pygments_lexer": "ipython3",
   "version": "3.5.2"
  }
 },
 "nbformat": 4,
 "nbformat_minor": 0
}
