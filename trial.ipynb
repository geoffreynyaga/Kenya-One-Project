{
 "cells": [
  {
   "cell_type": "code",
   "execution_count": 3,
   "metadata": {
    "collapsed": false,
    "deletable": true,
    "editable": true
   },
   "outputs": [
    {
     "name": "stdout",
     "output_type": "stream",
     "text": [
      "[ 0  1  2  3  4  5  6  7  8  9 10 11 12 13 14 15 16 17 18 19 20 21 22 23 24\n",
      " 25 26 27 28 29 30 31 32 33 34 35 36 37 38 39 40 41 42 43 44 45 46 47 48 49]\n"
     ]
    }
   ],
   "source": [
    "import numpy as np\n",
    "import matplotlib.pylab as plt\n",
    "a=np.arange(50)\n",
    "print(a)"
   ]
  },
  {
   "cell_type": "code",
   "execution_count": 2,
   "metadata": {
    "collapsed": false,
    "deletable": true,
    "editable": true
   },
   "outputs": [
    {
     "name": "stdout",
     "output_type": "stream",
     "text": [
      "66.40225231359999\n"
     ]
    }
   ],
   "source": [
    "ws=np.arange(10,35 , 0.5)\n",
    "cdmin = 0.025\n",
    "do=0.002378\n",
    "dalt=0.001756\n",
    "k= 0.049\n",
    "v=140*1.688  #cruise speed\n",
    "qcruise=0.5*dalt*v**2 #dynamic pressure at cruise\n",
    "qtakeoff=0.5*do*v**2  #dynamic pressure at take-off\n",
    "\n",
    "print(qtakeoff)"
   ]
  },
  {
   "cell_type": "code",
   "execution_count": 3,
   "metadata": {
    "collapsed": false,
    "deletable": true,
    "editable": true
   },
   "outputs": [],
   "source": [
    "turnangle=40         #turn angle\n",
    "loadfactor=1/(np.cos(turnangle))  #loadfactor\n",
    "twturn = qcruise*( (cdmin/ws) + (k*(loadfactor/qcruise)**2 ) * ws )*(v*5850/(0.8*550*0.6604))"
   ]
  },
  {
   "cell_type": "code",
   "execution_count": null,
   "metadata": {
    "collapsed": false,
    "deletable": true,
    "editable": true
   },
   "outputs": [],
   "source": [
    ""
   ]
  },
  {
   "cell_type": "code",
   "execution_count": 4,
   "metadata": {
    "collapsed": false,
    "deletable": true,
    "editable": true
   },
   "outputs": [],
   "source": [
    "# rate of climb\n",
    "roc=1000   #rate of climb ft/min\n",
    "#Vy=sqrt((2/do)*ws * sqrt( k/(3*cdmin) ))\n",
    "Vy=150\n",
    "Vv=roc/60\n",
    "qclimb =0.5*do*(Vy**2)\n",
    "twclimb = ((Vv/Vy) + ((qclimb/ws)*cdmin) + ((qclimb/ws)*cdmin) + ((k/qclimb)*ws) )*(Vy*5850/(0.6*550))"
   ]
  },
  {
   "cell_type": "code",
   "execution_count": null,
   "metadata": {
    "collapsed": false,
    "deletable": true,
    "editable": true
   },
   "outputs": [],
   "source": [
    ""
   ]
  },
  {
   "cell_type": "code",
   "execution_count": 5,
   "metadata": {
    "collapsed": false,
    "deletable": true,
    "editable": true
   },
   "outputs": [],
   "source": [
    "# ground run\n",
    "Sg=1000   #ground run ft\n",
    "Vlof= 70*1.688\n",
    "clto=1.4670\n",
    "u=0.04\n",
    "cdto=0.03\n",
    "q1=0.5*do*(Vlof/np.sqrt(2))**2\n",
    "twtakeoff = (((Vlof**2)/(2*32.174*Sg)) + ((q1*cdto)/ws) + u*(1-(q1*clto/ws)))*(Vlof*5850/(0.6*550))"
   ]
  },
  {
   "cell_type": "code",
   "execution_count": null,
   "metadata": {
    "collapsed": false,
    "deletable": true,
    "editable": true
   },
   "outputs": [],
   "source": [
    ""
   ]
  },
  {
   "cell_type": "code",
   "execution_count": 6,
   "metadata": {
    "collapsed": false,
    "deletable": true,
    "editable": true
   },
   "outputs": [],
   "source": [
    "#cruise altitude\n",
    "twcruise = (((qcruise*cdmin)/ws) + ((k/qcruise)*ws))*(v*5850/(0.6*550*0.6604))"
   ]
  },
  {
   "cell_type": "code",
   "execution_count": 7,
   "metadata": {
    "collapsed": false,
    "deletable": true,
    "editable": true
   },
   "outputs": [],
   "source": [
    "#service ceiling\n",
    "twservceiling =((1.668/np.sqrt((2*ws/dalt)*np.sqrt(k/(3*cdmin))))+( 4*np.sqrt(k*cdmin/3)))*((v*5850)/(0.7*550*0.6604))"
   ]
  },
  {
   "cell_type": "code",
   "execution_count": 8,
   "metadata": {
    "collapsed": false,
    "deletable": true,
    "editable": true
   },
   "outputs": [],
   "source": [
    "#w/s\n",
    "#y=np.arange(750)\n",
    "#b=22.69\n",
    "#plt.plot(b,y)"
   ]
  },
  {
   "cell_type": "code",
   "execution_count": 9,
   "metadata": {
    "collapsed": false,
    "deletable": true,
    "editable": true
   },
   "outputs": [
    {
     "data": {
      "image/png": "[encoded data removed]",
      "text/plain": [
       "<matplotlib.figure.Figure at 0x289d55f0588>"
      ]
     },
     "metadata": {},
     "output_type": "display_data"
    }
   ],
   "source": [
    "plt.plot(ws,twclimb )\n",
    "plt.plot(ws,twturn)\n",
    "plt.plot(ws,twtakeoff )\n",
    "plt.plot(ws,twservceiling)\n",
    "plt.plot(ws,twcruise)\n",
    "plt.axvline(x=22.69)\n",
    "plt.show()"
   ]
  },
  {
   "cell_type": "code",
   "execution_count": null,
   "metadata": {
    "collapsed": true,
    "deletable": true,
    "editable": true
   },
   "outputs": [],
   "source": [
    ""
   ]
  },
  {
   "cell_type": "code",
   "execution_count": null,
   "metadata": {
    "collapsed": true,
    "deletable": true,
    "editable": true
   },
   "outputs": [],
   "source": [
    ""
   ]
  }
 ],
 "metadata": {
  "anaconda-cloud": {},
  "kernelspec": {
   "display_name": "Python [default]",
   "language": "python",
   "name": "python3"
  },
  "language_info": {
   "codemirror_mode": {
    "name": "ipython",
    "version": 3.0
   },
   "file_extension": ".py",
   "mimetype": "text/x-python",
   "name": "python",
   "nbconvert_exporter": "python",
   "pygments_lexer": "ipython3",
   "version": "3.5.2"
  }
 },
 "nbformat": 4,
 "nbformat_minor": 0
}