{
 "cells": [
  {
   "cell_type": "code",
   "execution_count": 80,
   "metadata": {
    "collapsed": true
   },
   "outputs": [],
   "source": [
    "from math import sqrt\n",
    "import numpy as np\n",
    "import matplotlib.pyplot as plt"
   ]
  },
  {
   "cell_type": "code",
   "execution_count": 81,
   "metadata": {
    "collapsed": true
   },
   "outputs": [],
   "source": [
    "altitude = 8500 #ft\n",
    "rhoSL  = 0.002378\n",
    "gamma = 1.4   #do sth\n",
    "gas_constant = 1716\n",
    "cruiseSpeed = 475 "
   ]
  },
  {
   "cell_type": "code",
   "execution_count": 82,
   "metadata": {
    "collapsed": false
   },
   "outputs": [
    {
     "name": "stdout",
     "output_type": "stream",
     "text": [
      "1541.8844692196985 psf\n",
      "0.7286788606898387 pressure ratio\n",
      "0.0018403533663698423 slugs/ft^3\n",
      "0.7739080598695721 density ratio\n",
      "488.38582338000003 degree R\n",
      "0.9415574 temperature Ratio\n"
     ]
    }
   ],
   "source": [
    "class atmosphere:\n",
    "    def __init__ (self,altitude):\n",
    "#             self.initialWeight = initialWeight\n",
    "#             self.finalWeight = finalWeight\n",
    "        self.altitude = altitude\n",
    "        #             self.cruiseSpeed = cruiseSpeed\n",
    "#             self.S = S\n",
    "         \n",
    "    def pressure(self):\n",
    "        altitudePresssure = 2116*(1-(0.0000068756*altitude))**5.2561\n",
    "        return altitudePresssure\n",
    "    \n",
    "    def pressureRatio(self):\n",
    "        pressureRatio = (1-(0.0000068756*altitude))**5.2561\n",
    "        return pressureRatio\n",
    "    \n",
    "    def density(self):\n",
    "        ### fetch this function in other script\n",
    "        altitudeDensity = rhoSL*(1-0.0000068756*self.altitude)**4.2561\n",
    "        return altitudeDensity\n",
    "    \n",
    "    def densityRatio(self):\n",
    "        ### fetch this function in other script\n",
    "        densityRatio = (1-0.0000068756*self.altitude)**4.2561\n",
    "        return densityRatio\n",
    "    \n",
    "    def temperature(self):\n",
    "        temperature = 518.7*(1-0.0000068756*self.altitude)\n",
    "        return temperature\n",
    "    \n",
    "    def temperatureRatio(self):\n",
    "        temperatureRatio = (1-0.0000068756*self.altitude)\n",
    "        return temperatureRatio\n",
    "          \n",
    "         \n",
    "atmosphere = atmosphere(altitude) \n",
    "\n",
    "\n",
    "print(atmosphere.pressure(),\"psf\")\n",
    "print(atmosphere.pressureRatio(),\"pressure ratio\")\n",
    "print(atmosphere.density(),\"slugs/ft^3\")\n",
    "print(atmosphere.densityRatio(),\"density ratio\")\n",
    "print(atmosphere.temperature(),\"degree R\")\n",
    "print(atmosphere.temperatureRatio(),\"temperature Ratio\")\n",
    "\n",
    "altitude_pressure = atmosphere.pressure()\n",
    "altitude_density = atmosphere.density()\n",
    "altitude_temperature = atmosphere.temperature()"
   ]
  },
  {
   "cell_type": "code",
   "execution_count": 83,
   "metadata": {
    "collapsed": false
   },
   "outputs": [
    {
     "name": "stdout",
     "output_type": "stream",
     "text": [
      "1083.1888579966617 ft/s Speed of Sound\n",
      "217.7237527490923 psf dynamic pressure\n",
      "417.86721097505625 ft/s equivalent airspeed\n"
     ]
    }
   ],
   "source": [
    "class speeds:\n",
    "    \n",
    "    \n",
    "    def __init__(self,altitude,altitude_temperature,altitude_pressure,cruiseSpeed):\n",
    "        self.altitude = altitude\n",
    "        self.temperature = altitude_temperature\n",
    "        self.pressure = altitude_pressure\n",
    "        self.cruiseSpeed = cruiseSpeed\n",
    "    \n",
    "    def soundSpeed(self):\n",
    "        soundSpeed = sqrt(gamma*self.temperature*gas_constant)\n",
    "        return soundSpeed\n",
    "    \n",
    "    def dynamicPressure(self):\n",
    "        dynamicPressure = altitude_pressure*((1 + 0.2*(self.cruiseSpeed/self.soundSpeed())**2)**3.5 - 1)      \n",
    "        return dynamicPressure\n",
    "    \n",
    "    def EAS(self):\n",
    "        EAS = cruiseSpeed * sqrt(altitude_density/rhoSL)\n",
    "        return EAS\n",
    "    \n",
    "    def CAS(self):\n",
    "        \n",
    "    \n",
    "speeds = speeds(altitude,altitude_temperature,altitude_pressure,cruiseSpeed)\n",
    "\n",
    "print(speeds.soundSpeed(),\"ft/s Speed of Sound\")\n",
    "print(speeds.dynamicPressure(),\"psf dynamic pressure\")\n",
    "print(speeds.EAS(),\"ft/s equivalent airspeed\")"
   ]
  },
  {
   "cell_type": "code",
   "execution_count": null,
   "metadata": {
    "collapsed": true
   },
   "outputs": [],
   "source": []
  },
  {
   "cell_type": "code",
   "execution_count": null,
   "metadata": {
    "collapsed": true
   },
   "outputs": [],
   "source": []
  }
 ],
 "metadata": {
  "kernelspec": {
   "display_name": "Python 3",
   "language": "python",
   "name": "python3"
  },
  "language_info": {
   "codemirror_mode": {
    "name": "ipython",
    "version": 3
   },
   "file_extension": ".py",
   "mimetype": "text/x-python",
   "name": "python",
   "nbconvert_exporter": "python",
   "pygments_lexer": "ipython3",
   "version": "3.4.5"
  }
 },
 "nbformat": 4,
 "nbformat_minor": 0
}
