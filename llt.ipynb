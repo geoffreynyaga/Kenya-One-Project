{
 "cells": [
  {
   "cell_type": "code",
   "execution_count": 1,
   "metadata": {
    "collapsed": true
   },
   "outputs": [],
   "source": [
    "# KENYA ONE PROJECT #\n",
    "   # Matlab code to solve for CL of the wing and elliptical#\n",
    "     #lift distribution without flaps .#\n",
    "          #--------------------------------------------------------------#\n",
    "\t\t\t\t # done by Geoffrey Nyaga Kinyua \n",
    "          #--------------------------------------------------------------#"
   ]
  },
  {
   "cell_type": "code",
   "execution_count": 2,
   "metadata": {
    "collapsed": true
   },
   "outputs": [],
   "source": [
    "import numpy as np\n",
    "import math\n",
    "import matplotlib.pylab as plt"
   ]
  },
  {
   "cell_type": "code",
   "execution_count": 3,
   "metadata": {
    "collapsed": false
   },
   "outputs": [],
   "source": [
    "N = 9 # (number of segments - 1)\n",
    "S = 24.3919 # m^2\n",
    "AR = 7.8 # Aspect ratio\n",
    "taper = 0.45 # Taper ratio\n",
    "alpha_twist = -2 # Twist angle (deg)\n",
    "i_w = 1 # wing setting angle (deg)\n",
    "a_2d = 6.8754 # lift curve slope (1/rad)\n",
    "alpha_0 = -4.2 # zero-lift angle of attack (deg)"
   ]
  },
  {
   "cell_type": "code",
   "execution_count": 4,
   "metadata": {
    "collapsed": false
   },
   "outputs": [
    {
     "name": "stdout",
     "output_type": "stream",
     "text": [
      "[ 0.17453293  0.34906585  0.52359878  0.6981317   0.87266463  1.04719755\n",
      "  1.22173048  1.3962634 ]\n"
     ]
    }
   ],
   "source": [
    "b = np.sqrt(AR*S) # wing span (m)\n",
    "MAC = S/b # Mean Aerodynamic Chord (m)\n",
    "Croot = (1.5*(1+taper)*MAC)/(1+taper+taper**2) # root chord (m)\n",
    "theta = np.arange(np.pi/(2*N), np.pi/2, np.pi/(2*N))\n",
    "alpha = np.arange(i_w+alpha_twist,i_w ,-alpha_twist/(N-1))\n",
    "print(theta)"
   ]
  },
  {
   "cell_type": "code",
   "execution_count": 5,
   "metadata": {
    "collapsed": false
   },
   "outputs": [
    {
     "name": "stdout",
     "output_type": "stream",
     "text": [
      "[ 1.06683186  1.12458535  1.21888938  1.34687858  1.50466404  1.68745156\n",
      "  1.8896872   2.10522616]\n",
      "[ 0.1329425   0.14013941  0.15189104  0.16784032  0.18750265  0.21028058\n",
      "  0.23548204  0.26234127]\n",
      "[ 0.00742436  0.00843771  0.00980797  0.01157014  0.01374365  0.01633069\n",
      "  0.01931528  0.02266299]\n"
     ]
    }
   ],
   "source": [
    "# segment’s angle of attack\n",
    "z = (b/2)*np.cos(theta)\n",
    "c = Croot * (1 - (1-taper)* np.cos(theta)) # Mean Aerodynamics\n",
    "#Chord at each segment (m)\n",
    "mu = c * a_2d / (4 * b)\n",
    "LHS = mu * (alpha-alpha_0)/57.3 # Left Hand Side\n",
    "print(c)\n",
    "print(mu)\n",
    "print(LHS)"
   ]
  },
  {
   "cell_type": "code",
   "execution_count": null,
   "metadata": {
    "collapsed": false
   },
   "outputs": [],
   "source": [
    ""
   ]
  },
  {
   "cell_type": "code",
   "execution_count": 8,
   "metadata": {
    "collapsed": false
   },
   "outputs": [
    {
     "ename": "SyntaxError",
     "evalue": "invalid syntax (<ipython-input-8-6a6dcb240720>, line 9)",
     "traceback": [
      "\u001b[0;36m  File \u001b[0;32m\"<ipython-input-8-6a6dcb240720>\"\u001b[0;36m, line \u001b[0;32m9\u001b[0m\n\u001b[0;31m    A=B/np.transpose(LHS)\u001b[0m\n\u001b[0m    ^\u001b[0m\n\u001b[0;31mSyntaxError\u001b[0m\u001b[0;31m:\u001b[0m invalid syntax\n"
     ],
     "output_type": "error"
    }
   ],
   "source": [
    "# Solving N equations to find coefficients A(i):\n",
    "N=8\n",
    "\n",
    "for i,j in  zip (range(N),range(N)):\n",
    "    print(i)\n",
    "    B =np.sin((2*j-1) * theta[i]) * (1 + (mu[i] * (2*j-1)) / np.sin(theta[i])\n",
    "           \n",
    "    #print(B)   \n",
    "    A=B/np.transpose(LHS) \n",
    "    print(A)\n",
    "    \n",
    "    sum1 = 0 + (2*j-1) * A[j] * np.sin((2*j-1)* theta[i])\n",
    "    sum2 = 0 + A[j] * np.sin((2*j-1) * theta[i])\n",
    "    \n",
    "          \n",
    "CL = np.divide((4*b*sum2),c )\n",
    "#print(CL)"
   ]
  },
  {
   "cell_type": "code",
   "execution_count": 9,
   "metadata": {
    "collapsed": false
   },
   "outputs": [
    {
     "ename": "NameError",
     "evalue": "name 'CL' is not defined",
     "traceback": [
      "\u001b[0;31m---------------------------------------------------------------------------\u001b[0m",
      "\u001b[0;31mNameError\u001b[0m                                 Traceback (most recent call last)",
      "\u001b[0;32m<ipython-input-9-d23d22f549c5>\u001b[0m in \u001b[0;36m<module>\u001b[0;34m()\u001b[0m\n\u001b[0;32m----> 1\u001b[0;31m \u001b[0mCL1\u001b[0m\u001b[1;33m=\u001b[0m\u001b[1;33m(\u001b[0m\u001b[1;36m0\u001b[0m\u001b[1;33m,\u001b[0m \u001b[0mCL\u001b[0m\u001b[1;33m[\u001b[0m\u001b[1;36m1\u001b[0m\u001b[1;33m]\u001b[0m\u001b[1;33m,\u001b[0m \u001b[0mCL\u001b[0m\u001b[1;33m[\u001b[0m\u001b[1;36m2\u001b[0m\u001b[1;33m]\u001b[0m\u001b[1;33m,\u001b[0m \u001b[0mCL\u001b[0m\u001b[1;33m[\u001b[0m\u001b[1;36m3\u001b[0m\u001b[1;33m]\u001b[0m\u001b[1;33m,\u001b[0m \u001b[0mCL\u001b[0m\u001b[1;33m[\u001b[0m\u001b[1;36m4\u001b[0m\u001b[1;33m]\u001b[0m\u001b[1;33m,\u001b[0m \u001b[0mCL\u001b[0m\u001b[1;33m[\u001b[0m\u001b[1;36m5\u001b[0m\u001b[1;33m]\u001b[0m\u001b[1;33m,\u001b[0m \u001b[0mCL\u001b[0m\u001b[1;33m[\u001b[0m\u001b[1;36m6\u001b[0m\u001b[1;33m]\u001b[0m\u001b[1;33m,\u001b[0m \u001b[0mCL\u001b[0m\u001b[1;33m[\u001b[0m\u001b[1;36m7\u001b[0m\u001b[1;33m]\u001b[0m\u001b[1;33m,\u001b[0m \u001b[0mCL\u001b[0m\u001b[1;33m[\u001b[0m\u001b[1;36m8\u001b[0m\u001b[1;33m]\u001b[0m\u001b[1;33m)\u001b[0m\u001b[1;33m\u001b[0m\u001b[0m\n\u001b[0m\u001b[1;32m      2\u001b[0m         \u001b[1;31m#y_s=(b/2, z[1], z[2], z[3], z[4], z[5], z[6], z[7], z[8], z[9])\u001b[0m\u001b[1;33m\u001b[0m\u001b[1;33m\u001b[0m\u001b[0m\n",
      "\u001b[0;31mNameError\u001b[0m: name 'CL' is not defined"
     ],
     "output_type": "error"
    }
   ],
   "source": [
    "CL1=(0, CL[1], CL[2], CL[3], CL[4], CL[5], CL[6], CL[7], CL[8])\n",
    "        #y_s=(b/2, z[1], z[2], z[3], z[4], z[5], z[6], z[7], z[8], z[9])"
   ]
  },
  {
   "cell_type": "code",
   "execution_count": null,
   "metadata": {
    "collapsed": false
   },
   "outputs": [],
   "source": [
    "# C = sin((2*j-1)  * (1 + (mu(i) * (2*j-1)) / sin(theta(i))\n",
    "a = [1,2,3,4]\n",
    "b= 2\n",
    "c = np.divide(a,b)\n",
    "print(c)"
   ]
  },
  {
   "cell_type": "code",
   "execution_count": null,
   "metadata": {
    "collapsed": false
   },
   "outputs": [],
   "source": [
    "# Solving N equations to find coefficients A(i):\n",
    "for i=1:N\n",
    "for j=1:N\n",
    "B(i,j) = sin((2*j-1) * theta(i)) * (1 + (mu(i) * (2*j-1)) / sin(theta(i)))\n",
    "end\n",
    "end\n",
    "A=B\\transpose(LHS)\n",
    "for i = 1:N\n",
    "sum1(i) = 0\n",
    "sum2(i) = 0\n",
    "for j = 1 : N\n",
    "sum1(i) = sum1(i) + (2*j-1) * A(j)*sin((2*j-1)*theta(i))\n",
    "sum2(i) = sum2(i) + A(j)*sin((2*j-1)*theta(i))\n",
    "end\n",
    "end\n",
    "CL = 4*b*sum2 ./ c\n",
    "CL1=[0 CL(1) CL(2) CL(3) CL(4) CL(5) CL(6) CL(7) CL(8) CL(9)]\n",
    "y_s=[b/2 z(1) z(2) z(3) z(4) z(5) z(6) z(7) z(8) z(9)]\n",
    "\n",
    "plot(y_s,CL1,'-o')\n",
    "grid\n",
    "title('Lift distribution')\n",
    "xlabel('Semi-span location (m)')\n",
    "ylabel ('Lift coefficient')\n",
    "CL_wing = pi * AR * A(1)"
   ]
  },
  {
   "cell_type": "code",
   "execution_count": null,
   "metadata": {
    "collapsed": true
   },
   "outputs": [],
   "source": [
    ""
   ]
  }
 ],
 "metadata": {
  "anaconda-cloud": {},
  "kernelspec": {
   "display_name": "Python [conda root]",
   "language": "python",
   "name": "conda-root-py"
  },
  "language_info": {
   "codemirror_mode": {
    "name": "ipython",
    "version": 3.0
   },
   "file_extension": ".py",
   "mimetype": "text/x-python",
   "name": "python",
   "nbconvert_exporter": "python",
   "pygments_lexer": "ipython3",
   "version": "3.5.2"
  }
 },
 "nbformat": 4,
 "nbformat_minor": 0
}